{
 "cells": [
  {
   "cell_type": "markdown",
   "metadata": {
    "slideshow": {
     "slide_type": "slide"
    }
   },
   "source": [
    "# Wholesale customers Data Set\n",
    "##### Annual spending in monetary units of clients of a wholesale distributor"
   ]
  },
  {
   "cell_type": "markdown",
   "metadata": {
    "slideshow": {
     "slide_type": "fragment"
    }
   },
   "source": [
    "https://archive.ics.uci.edu/ml/datasets/wholesale+customers"
   ]
  },
  {
   "cell_type": "markdown",
   "metadata": {
    "slideshow": {
     "slide_type": "slide"
    }
   },
   "source": [
    "## Libraries"
   ]
  },
  {
   "cell_type": "code",
   "execution_count": 323,
   "metadata": {
    "slideshow": {
     "slide_type": "fragment"
    }
   },
   "outputs": [],
   "source": [
    "#libraries\n",
    "import pandas as pd\n",
    "import numpy as np\n",
    "import matplotlib.pyplot as plt\n",
    "%matplotlib inline\n",
    "import seaborn as sns\n",
    "from sklearn.decomposition import PCA\n",
    "from sklearn.cluster import KMeans\n",
    "from scipy.cluster.hierarchy import dendrogram, linkage\n",
    "from yellowbrick.cluster import InterclusterDistance #cluster viz"
   ]
  },
  {
   "cell_type": "markdown",
   "metadata": {
    "slideshow": {
     "slide_type": "slide"
    }
   },
   "source": [
    "## Database"
   ]
  },
  {
   "cell_type": "code",
   "execution_count": 514,
   "metadata": {
    "slideshow": {
     "slide_type": "fragment"
    }
   },
   "outputs": [],
   "source": [
    "df = pd.read_csv('Wholesale customers data.csv')"
   ]
  },
  {
   "cell_type": "code",
   "execution_count": 515,
   "metadata": {
    "scrolled": false,
    "slideshow": {
     "slide_type": "fragment"
    }
   },
   "outputs": [
    {
     "data": {
      "text/html": [
       "<div>\n",
       "<style scoped>\n",
       "    .dataframe tbody tr th:only-of-type {\n",
       "        vertical-align: middle;\n",
       "    }\n",
       "\n",
       "    .dataframe tbody tr th {\n",
       "        vertical-align: top;\n",
       "    }\n",
       "\n",
       "    .dataframe thead th {\n",
       "        text-align: right;\n",
       "    }\n",
       "</style>\n",
       "<table border=\"1\" class=\"dataframe\">\n",
       "  <thead>\n",
       "    <tr style=\"text-align: right;\">\n",
       "      <th></th>\n",
       "      <th>Channel</th>\n",
       "      <th>Region</th>\n",
       "      <th>Fresh</th>\n",
       "      <th>Milk</th>\n",
       "      <th>Grocery</th>\n",
       "      <th>Frozen</th>\n",
       "      <th>Detergents_Paper</th>\n",
       "      <th>Delicassen</th>\n",
       "    </tr>\n",
       "  </thead>\n",
       "  <tbody>\n",
       "    <tr>\n",
       "      <th>0</th>\n",
       "      <td>2</td>\n",
       "      <td>3</td>\n",
       "      <td>12669</td>\n",
       "      <td>9656</td>\n",
       "      <td>7561</td>\n",
       "      <td>214</td>\n",
       "      <td>2674</td>\n",
       "      <td>1338</td>\n",
       "    </tr>\n",
       "    <tr>\n",
       "      <th>1</th>\n",
       "      <td>2</td>\n",
       "      <td>3</td>\n",
       "      <td>7057</td>\n",
       "      <td>9810</td>\n",
       "      <td>9568</td>\n",
       "      <td>1762</td>\n",
       "      <td>3293</td>\n",
       "      <td>1776</td>\n",
       "    </tr>\n",
       "    <tr>\n",
       "      <th>2</th>\n",
       "      <td>2</td>\n",
       "      <td>3</td>\n",
       "      <td>6353</td>\n",
       "      <td>8808</td>\n",
       "      <td>7684</td>\n",
       "      <td>2405</td>\n",
       "      <td>3516</td>\n",
       "      <td>7844</td>\n",
       "    </tr>\n",
       "    <tr>\n",
       "      <th>3</th>\n",
       "      <td>1</td>\n",
       "      <td>3</td>\n",
       "      <td>13265</td>\n",
       "      <td>1196</td>\n",
       "      <td>4221</td>\n",
       "      <td>6404</td>\n",
       "      <td>507</td>\n",
       "      <td>1788</td>\n",
       "    </tr>\n",
       "    <tr>\n",
       "      <th>4</th>\n",
       "      <td>2</td>\n",
       "      <td>3</td>\n",
       "      <td>22615</td>\n",
       "      <td>5410</td>\n",
       "      <td>7198</td>\n",
       "      <td>3915</td>\n",
       "      <td>1777</td>\n",
       "      <td>5185</td>\n",
       "    </tr>\n",
       "  </tbody>\n",
       "</table>\n",
       "</div>"
      ],
      "text/plain": [
       "   Channel  Region  Fresh  Milk  Grocery  Frozen  Detergents_Paper  Delicassen\n",
       "0        2       3  12669  9656     7561     214              2674        1338\n",
       "1        2       3   7057  9810     9568    1762              3293        1776\n",
       "2        2       3   6353  8808     7684    2405              3516        7844\n",
       "3        1       3  13265  1196     4221    6404               507        1788\n",
       "4        2       3  22615  5410     7198    3915              1777        5185"
      ]
     },
     "execution_count": 515,
     "metadata": {},
     "output_type": "execute_result"
    }
   ],
   "source": [
    "df.head()"
   ]
  },
  {
   "cell_type": "markdown",
   "metadata": {
    "slideshow": {
     "slide_type": "subslide"
    }
   },
   "source": [
    "Attribute Information:\n",
    "\n",
    "- FRESH: annual spending (m.u.) on fresh products (Continuous); \n",
    "- MILK: annual spending (m.u.) on milk products (Continuous); \n",
    "- GROCERY: annual spending (m.u.)on grocery products (Continuous); \n",
    "    - épicerie\n",
    "- FROZEN: annual spending (m.u.)on frozen products (Continuous) \n",
    "- DETERGENTS_PAPER: annual spending (m.u.) on detergents and paper products (Continuous) \n",
    "    - cleaning products\n",
    "- DELICATESSEN: annual spending (m.u.)on and delicatessen products (Continuous); \n",
    "    - meats (épicierie fine, charcuterie)\n",
    "- CHANNEL: customer Channel - Horeca (Hotel/Restaurant/Café) or Retail channel (Nominal)\n",
    "    - Channel = {Horeca : 1, Retail : 2}\n",
    "    - Horeca is an abbreviation for the food service industry\n",
    "- REGION: customers Region - Lisbon, Porto or Other (Nominal) \n",
    "    - Region = {Lisbon : 1, Porto : 2, Other region : 3}"
   ]
  },
  {
   "cell_type": "markdown",
   "metadata": {
    "slideshow": {
     "slide_type": "subslide"
    }
   },
   "source": [
    "##### My project goal is to use various clustering techniques to segment customers. "
   ]
  },
  {
   "cell_type": "markdown",
   "metadata": {
    "slideshow": {
     "slide_type": "subslide"
    }
   },
   "source": [
    "## Exploratory Data Analysis"
   ]
  },
  {
   "cell_type": "code",
   "execution_count": 516,
   "metadata": {
    "slideshow": {
     "slide_type": "fragment"
    }
   },
   "outputs": [
    {
     "data": {
      "text/plain": [
       "(440, 8)"
      ]
     },
     "execution_count": 516,
     "metadata": {},
     "output_type": "execute_result"
    }
   ],
   "source": [
    "df.shape"
   ]
  },
  {
   "cell_type": "code",
   "execution_count": 517,
   "metadata": {
    "slideshow": {
     "slide_type": "fragment"
    }
   },
   "outputs": [
    {
     "name": "stdout",
     "output_type": "stream",
     "text": [
      "<class 'pandas.core.frame.DataFrame'>\n",
      "RangeIndex: 440 entries, 0 to 439\n",
      "Data columns (total 8 columns):\n",
      "Channel             440 non-null int64\n",
      "Region              440 non-null int64\n",
      "Fresh               440 non-null int64\n",
      "Milk                440 non-null int64\n",
      "Grocery             440 non-null int64\n",
      "Frozen              440 non-null int64\n",
      "Detergents_Paper    440 non-null int64\n",
      "Delicassen          440 non-null int64\n",
      "dtypes: int64(8)\n",
      "memory usage: 27.6 KB\n"
     ]
    }
   ],
   "source": [
    "df.info()"
   ]
  },
  {
   "cell_type": "code",
   "execution_count": 518,
   "metadata": {
    "slideshow": {
     "slide_type": "subslide"
    }
   },
   "outputs": [
    {
     "data": {
      "text/plain": [
       "Channel             int64\n",
       "Region              int64\n",
       "Fresh               int64\n",
       "Milk                int64\n",
       "Grocery             int64\n",
       "Frozen              int64\n",
       "Detergents_Paper    int64\n",
       "Delicassen          int64\n",
       "dtype: object"
      ]
     },
     "execution_count": 518,
     "metadata": {},
     "output_type": "execute_result"
    }
   ],
   "source": [
    "df.dtypes"
   ]
  },
  {
   "cell_type": "code",
   "execution_count": 519,
   "metadata": {
    "slideshow": {
     "slide_type": "fragment"
    }
   },
   "outputs": [
    {
     "data": {
      "text/plain": [
       "Channel             0\n",
       "Region              0\n",
       "Fresh               0\n",
       "Milk                0\n",
       "Grocery             0\n",
       "Frozen              0\n",
       "Detergents_Paper    0\n",
       "Delicassen          0\n",
       "dtype: int64"
      ]
     },
     "execution_count": 519,
     "metadata": {},
     "output_type": "execute_result"
    }
   ],
   "source": [
    "df.isnull().sum()"
   ]
  },
  {
   "cell_type": "code",
   "execution_count": 520,
   "metadata": {
    "slideshow": {
     "slide_type": "subslide"
    }
   },
   "outputs": [
    {
     "data": {
      "text/html": [
       "<div>\n",
       "<style scoped>\n",
       "    .dataframe tbody tr th:only-of-type {\n",
       "        vertical-align: middle;\n",
       "    }\n",
       "\n",
       "    .dataframe tbody tr th {\n",
       "        vertical-align: top;\n",
       "    }\n",
       "\n",
       "    .dataframe thead th {\n",
       "        text-align: right;\n",
       "    }\n",
       "</style>\n",
       "<table border=\"1\" class=\"dataframe\">\n",
       "  <thead>\n",
       "    <tr style=\"text-align: right;\">\n",
       "      <th></th>\n",
       "      <th>count</th>\n",
       "      <th>mean</th>\n",
       "      <th>std</th>\n",
       "      <th>min</th>\n",
       "      <th>25%</th>\n",
       "      <th>50%</th>\n",
       "      <th>75%</th>\n",
       "      <th>max</th>\n",
       "    </tr>\n",
       "  </thead>\n",
       "  <tbody>\n",
       "    <tr>\n",
       "      <th>Channel</th>\n",
       "      <td>440.0</td>\n",
       "      <td>1.322727</td>\n",
       "      <td>0.468052</td>\n",
       "      <td>1.0</td>\n",
       "      <td>1.00</td>\n",
       "      <td>1.0</td>\n",
       "      <td>2.00</td>\n",
       "      <td>2.0</td>\n",
       "    </tr>\n",
       "    <tr>\n",
       "      <th>Region</th>\n",
       "      <td>440.0</td>\n",
       "      <td>2.543182</td>\n",
       "      <td>0.774272</td>\n",
       "      <td>1.0</td>\n",
       "      <td>2.00</td>\n",
       "      <td>3.0</td>\n",
       "      <td>3.00</td>\n",
       "      <td>3.0</td>\n",
       "    </tr>\n",
       "    <tr>\n",
       "      <th>Fresh</th>\n",
       "      <td>440.0</td>\n",
       "      <td>12000.297727</td>\n",
       "      <td>12647.328865</td>\n",
       "      <td>3.0</td>\n",
       "      <td>3127.75</td>\n",
       "      <td>8504.0</td>\n",
       "      <td>16933.75</td>\n",
       "      <td>112151.0</td>\n",
       "    </tr>\n",
       "    <tr>\n",
       "      <th>Milk</th>\n",
       "      <td>440.0</td>\n",
       "      <td>5796.265909</td>\n",
       "      <td>7380.377175</td>\n",
       "      <td>55.0</td>\n",
       "      <td>1533.00</td>\n",
       "      <td>3627.0</td>\n",
       "      <td>7190.25</td>\n",
       "      <td>73498.0</td>\n",
       "    </tr>\n",
       "    <tr>\n",
       "      <th>Grocery</th>\n",
       "      <td>440.0</td>\n",
       "      <td>7951.277273</td>\n",
       "      <td>9503.162829</td>\n",
       "      <td>3.0</td>\n",
       "      <td>2153.00</td>\n",
       "      <td>4755.5</td>\n",
       "      <td>10655.75</td>\n",
       "      <td>92780.0</td>\n",
       "    </tr>\n",
       "    <tr>\n",
       "      <th>Frozen</th>\n",
       "      <td>440.0</td>\n",
       "      <td>3071.931818</td>\n",
       "      <td>4854.673333</td>\n",
       "      <td>25.0</td>\n",
       "      <td>742.25</td>\n",
       "      <td>1526.0</td>\n",
       "      <td>3554.25</td>\n",
       "      <td>60869.0</td>\n",
       "    </tr>\n",
       "    <tr>\n",
       "      <th>Detergents_Paper</th>\n",
       "      <td>440.0</td>\n",
       "      <td>2881.493182</td>\n",
       "      <td>4767.854448</td>\n",
       "      <td>3.0</td>\n",
       "      <td>256.75</td>\n",
       "      <td>816.5</td>\n",
       "      <td>3922.00</td>\n",
       "      <td>40827.0</td>\n",
       "    </tr>\n",
       "    <tr>\n",
       "      <th>Delicassen</th>\n",
       "      <td>440.0</td>\n",
       "      <td>1524.870455</td>\n",
       "      <td>2820.105937</td>\n",
       "      <td>3.0</td>\n",
       "      <td>408.25</td>\n",
       "      <td>965.5</td>\n",
       "      <td>1820.25</td>\n",
       "      <td>47943.0</td>\n",
       "    </tr>\n",
       "  </tbody>\n",
       "</table>\n",
       "</div>"
      ],
      "text/plain": [
       "                  count          mean           std   min      25%     50%  \\\n",
       "Channel           440.0      1.322727      0.468052   1.0     1.00     1.0   \n",
       "Region            440.0      2.543182      0.774272   1.0     2.00     3.0   \n",
       "Fresh             440.0  12000.297727  12647.328865   3.0  3127.75  8504.0   \n",
       "Milk              440.0   5796.265909   7380.377175  55.0  1533.00  3627.0   \n",
       "Grocery           440.0   7951.277273   9503.162829   3.0  2153.00  4755.5   \n",
       "Frozen            440.0   3071.931818   4854.673333  25.0   742.25  1526.0   \n",
       "Detergents_Paper  440.0   2881.493182   4767.854448   3.0   256.75   816.5   \n",
       "Delicassen        440.0   1524.870455   2820.105937   3.0   408.25   965.5   \n",
       "\n",
       "                       75%       max  \n",
       "Channel               2.00       2.0  \n",
       "Region                3.00       3.0  \n",
       "Fresh             16933.75  112151.0  \n",
       "Milk               7190.25   73498.0  \n",
       "Grocery           10655.75   92780.0  \n",
       "Frozen             3554.25   60869.0  \n",
       "Detergents_Paper   3922.00   40827.0  \n",
       "Delicassen         1820.25   47943.0  "
      ]
     },
     "execution_count": 520,
     "metadata": {},
     "output_type": "execute_result"
    }
   ],
   "source": [
    "df.describe().T"
   ]
  },
  {
   "cell_type": "code",
   "execution_count": 521,
   "metadata": {
    "slideshow": {
     "slide_type": "subslide"
    }
   },
   "outputs": [
    {
     "data": {
      "text/plain": [
       "3    316\n",
       "1     77\n",
       "2     47\n",
       "Name: Region, dtype: int64"
      ]
     },
     "execution_count": 521,
     "metadata": {},
     "output_type": "execute_result"
    }
   ],
   "source": [
    "df.Region.value_counts()\n",
    "# Channel = {Horeca : 1, Retail : 2}"
   ]
  },
  {
   "cell_type": "code",
   "execution_count": 522,
   "metadata": {
    "slideshow": {
     "slide_type": "fragment"
    }
   },
   "outputs": [
    {
     "data": {
      "text/plain": [
       "3    316\n",
       "1     77\n",
       "2     47\n",
       "Name: Region, dtype: int64"
      ]
     },
     "execution_count": 522,
     "metadata": {},
     "output_type": "execute_result"
    }
   ],
   "source": [
    "df.Region.value_counts()\n",
    "# Region = {Lisbon : 1, Porto : 2, Other region : 3}"
   ]
  },
  {
   "cell_type": "code",
   "execution_count": 523,
   "metadata": {
    "slideshow": {
     "slide_type": "skip"
    }
   },
   "outputs": [
    {
     "data": {
      "text/plain": [
       "Index(['Channel', 'Region', 'Fresh', 'Milk', 'Grocery', 'Frozen',\n",
       "       'Detergents_Paper', 'Delicassen'],\n",
       "      dtype='object')"
      ]
     },
     "execution_count": 523,
     "metadata": {},
     "output_type": "execute_result"
    }
   ],
   "source": [
    "df.columns"
   ]
  },
  {
   "cell_type": "markdown",
   "metadata": {
    "slideshow": {
     "slide_type": "subslide"
    }
   },
   "source": [
    "### Continuous columns : Fresh, Milk, Grocery, Frozen,Detergents_Paper & Delicassen"
   ]
  },
  {
   "cell_type": "code",
   "execution_count": 524,
   "metadata": {
    "slideshow": {
     "slide_type": "subslide"
    }
   },
   "outputs": [
    {
     "data": {
      "image/png": "[encoded data removed]",
      "text/plain": [
       "<Figure size 1080x720 with 1 Axes>"
      ]
     },
     "metadata": {
      "needs_background": "light"
     },
     "output_type": "display_data"
    }
   ],
   "source": [
    "fig, ax = plt.subplots(figsize=(15, 10))\n",
    "boxplot = df.boxplot(column=['Fresh', 'Milk', 'Grocery', 'Frozen',\n",
    "                             'Detergents_Paper','Delicassen'],patch_artist=True, fontsize=11,\n",
    "                     notch=True,showfliers=True)\n",
    "plt.title(\"BoxPlot for each categories\",fontsize=16)\n",
    "plt.xlabel('Categories', fontsize=16)\n",
    "plt.xticks(fontsize=14)\n",
    "plt.show()"
   ]
  },
  {
   "cell_type": "code",
   "execution_count": 525,
   "metadata": {
    "slideshow": {
     "slide_type": "subslide"
    }
   },
   "outputs": [
    {
     "data": {
      "image/png": "[encoded data removed]",
      "text/plain": [
       "<Figure size 432x288 with 1 Axes>"
      ]
     },
     "metadata": {
      "needs_background": "light"
     },
     "output_type": "display_data"
    },
    {
     "data": {
      "image/png": "[encoded data removed]",
      "text/plain": [
       "<Figure size 432x288 with 1 Axes>"
      ]
     },
     "metadata": {
      "needs_background": "light"
     },
     "output_type": "display_data"
    },
    {
     "data": {
      "image/png": "[encoded data removed]",
      "text/plain": [
       "<Figure size 432x288 with 1 Axes>"
      ]
     },
     "metadata": {
      "needs_background": "light"
     },
     "output_type": "display_data"
    },
    {
     "data": {
      "image/png": "[encoded data removed]",
      "text/plain": [
       "<Figure size 432x288 with 1 Axes>"
      ]
     },
     "metadata": {
      "needs_background": "light"
     },
     "output_type": "display_data"
    },
    {
     "data": {
      "image/png": "[encoded data removed]",
      "text/plain": [
       "<Figure size 432x288 with 1 Axes>"
      ]
     },
     "metadata": {
      "needs_background": "light"
     },
     "output_type": "display_data"
    },
    {
     "data": {
      "image/png": "[encoded data removed]",
      "text/plain": [
       "<Figure size 432x288 with 1 Axes>"
      ]
     },
     "metadata": {
      "needs_background": "light"
     },
     "output_type": "display_data"
    },
    {
     "data": {
      "text/plain": [
       "<Figure size 432x288 with 0 Axes>"
      ]
     },
     "metadata": {},
     "output_type": "display_data"
    }
   ],
   "source": [
    "def plot_continous(i):\n",
    "    if df[i].dtype=='int':\n",
    "        plt.title(\"histogram of \"+str(i))        \n",
    "        df[i].plot.hist(bins = 20)\n",
    "        plt.xlabel(i, fontsize=13)\n",
    "        plt.ylabel('Frequency', fontsize=13)\n",
    "        plt.show()\n",
    "        plt.clf()\n",
    "    return\n",
    "j=['Fresh','Milk','Grocery','Frozen','Detergents_Paper','Delicassen']\n",
    "for i in j:\n",
    "    plot_continous(i)"
   ]
  },
  {
   "cell_type": "markdown",
   "metadata": {
    "slideshow": {
     "slide_type": "subslide"
    }
   },
   "source": [
    "### Nominal columns : Channel & Region"
   ]
  },
  {
   "cell_type": "code",
   "execution_count": 526,
   "metadata": {
    "slideshow": {
     "slide_type": "subslide"
    }
   },
   "outputs": [
    {
     "data": {
      "image/png": "[encoded data removed]",
      "text/plain": [
       "<Figure size 720x504 with 1 Axes>"
      ]
     },
     "metadata": {
      "needs_background": "light"
     },
     "output_type": "display_data"
    }
   ],
   "source": [
    "fig, ax = plt.subplots(figsize=(10, 7))\n",
    "sns.countplot(x='Channel',data=df,palette=\"Set2\")\n",
    "plt.title('Distribution between Horeca and retail channel',fontsize=16)\n",
    "plt.xlabel('Channel', fontsize=16)\n",
    "plt.ylabel('Count',fontsize=15)\n",
    "ax.set_xticklabels(['Horeca','Retail'])\n",
    "plt.xticks(fontsize=14)\n",
    "plt.show()"
   ]
  },
  {
   "cell_type": "code",
   "execution_count": 527,
   "metadata": {
    "slideshow": {
     "slide_type": "subslide"
    }
   },
   "outputs": [
    {
     "data": {
      "image/png": "[encoded data removed]",
      "text/plain": [
       "<Figure size 720x504 with 1 Axes>"
      ]
     },
     "metadata": {
      "needs_background": "light"
     },
     "output_type": "display_data"
    }
   ],
   "source": [
    "fig, ax = plt.subplots(figsize=(10, 7))\n",
    "sns.countplot(x='Region',data=df,palette=\"Set2\",\n",
    "             order = df['Region'].value_counts().index)\n",
    "plt.title('Distribution between Lisbon, Porto and other',fontsize=16)\n",
    "plt.xlabel('Region', fontsize=16)\n",
    "plt.ylabel('Count',fontsize=15)\n",
    "ax.set_xticklabels(['Other','Lisbon', 'Porto'])\n",
    "plt.xticks(fontsize=14)\n",
    "plt.show()"
   ]
  },
  {
   "cell_type": "markdown",
   "metadata": {
    "slideshow": {
     "slide_type": "subslide"
    }
   },
   "source": [
    "### Correlation"
   ]
  },
  {
   "cell_type": "code",
   "execution_count": 528,
   "metadata": {
    "slideshow": {
     "slide_type": "subslide"
    }
   },
   "outputs": [
    {
     "data": {
      "image/png": "[encoded data removed]",
      "text/plain": [
       "<Figure size 504x360 with 2 Axes>"
      ]
     },
     "metadata": {
      "needs_background": "light"
     },
     "output_type": "display_data"
    }
   ],
   "source": [
    "# correlation\n",
    "fig, ax = plt.subplots(figsize=(7, 5))\n",
    "sns.heatmap(df.corr(),cmap=\"BuPu\",annot=True)\n",
    "plt.show()\n",
    "\n",
    "# there are correlations with Channel between Grocery, Detergents_Paper and Milk\n",
    "# strong correlation between milk & grocery, grocery & detergents_paper"
   ]
  },
  {
   "cell_type": "code",
   "execution_count": 529,
   "metadata": {
    "slideshow": {
     "slide_type": "subslide"
    }
   },
   "outputs": [
    {
     "data": {
      "image/png": "[encoded data removed]",
      "text/plain": [
       "<Figure size 432x288 with 1 Axes>"
      ]
     },
     "metadata": {
      "needs_background": "light"
     },
     "output_type": "display_data"
    }
   ],
   "source": [
    "sns.regplot(data=df,x='Milk',y='Grocery')\n",
    "plt.xlabel('Milk', fontsize=13)\n",
    "plt.ylabel('Grocery', fontsize=13)\n",
    "plt.show()"
   ]
  },
  {
   "cell_type": "code",
   "execution_count": 530,
   "metadata": {
    "slideshow": {
     "slide_type": "subslide"
    }
   },
   "outputs": [
    {
     "data": {
      "image/png": "[encoded data removed]",
      "text/plain": [
       "<Figure size 432x288 with 1 Axes>"
      ]
     },
     "metadata": {
      "needs_background": "light"
     },
     "output_type": "display_data"
    }
   ],
   "source": [
    "sns.regplot(data=df,x='Milk',y='Detergents_Paper')\n",
    "plt.xlabel('Milk', fontsize=13)\n",
    "plt.ylabel('Detergents_Paper', fontsize=13)\n",
    "plt.show()"
   ]
  },
  {
   "cell_type": "code",
   "execution_count": 531,
   "metadata": {
    "slideshow": {
     "slide_type": "subslide"
    }
   },
   "outputs": [
    {
     "data": {
      "image/png": "[encoded data removed]",
      "text/plain": [
       "<Figure size 432x288 with 1 Axes>"
      ]
     },
     "metadata": {
      "needs_background": "light"
     },
     "output_type": "display_data"
    }
   ],
   "source": [
    "sns.regplot(data=df,x='Grocery',y='Detergents_Paper')\n",
    "plt.xlabel('Grocery', fontsize=13)\n",
    "plt.ylabel('Detergents_Paper', fontsize=13)\n",
    "plt.show()"
   ]
  },
  {
   "cell_type": "code",
   "execution_count": 532,
   "metadata": {
    "slideshow": {
     "slide_type": "subslide"
    }
   },
   "outputs": [
    {
     "data": {
      "image/png": "[encoded data removed]",
      "text/plain": [
       "<Figure size 720x504 with 1 Axes>"
      ]
     },
     "metadata": {
      "needs_background": "light"
     },
     "output_type": "display_data"
    }
   ],
   "source": [
    "fig, ax = plt.subplots(figsize=(10, 7))\n",
    "ax = sns.countplot(x=\"Region\", hue=\"Channel\", data=df,palette=\"Set2\",\n",
    "                   order = df['Region'].value_counts().index)\n",
    "plt.title('Distribution between Channel for each Region',fontsize=16)\n",
    "plt.xlabel('Region', fontsize=15)\n",
    "plt.ylabel('Count',fontsize=15)\n",
    "ax.set_xticklabels(['Other','Lisbon', 'Porto'])\n",
    "plt.legend(['Horeca','Retail'])\n",
    "plt.show()"
   ]
  },
  {
   "cell_type": "code",
   "execution_count": 533,
   "metadata": {
    "slideshow": {
     "slide_type": "subslide"
    }
   },
   "outputs": [
    {
     "data": {
      "image/png": "[encoded data removed]",
      "text/plain": [
       "<Figure size 720x504 with 1 Axes>"
      ]
     },
     "metadata": {
      "needs_background": "light"
     },
     "output_type": "display_data"
    }
   ],
   "source": [
    "fig, ax = plt.subplots(figsize=(10, 7))\n",
    "ax = sns.countplot(x=\"Channel\", hue=\"Region\", data=df,palette=\"Set2\",\n",
    "                   order = df['Channel'].value_counts().index)\n",
    "plt.title('Distribution between Region for each Channel',fontsize=16)\n",
    "plt.xlabel('Channel', fontsize=15)\n",
    "plt.ylabel('Count',fontsize=15)\n",
    "ax.set_xticklabels(['Horeca','Retail'])\n",
    "plt.legend(['Lisbon','Porto','Other'])\n",
    "plt.show()"
   ]
  },
  {
   "cell_type": "markdown",
   "metadata": {
    "slideshow": {
     "slide_type": "skip"
    }
   },
   "source": [
    "### Outliers"
   ]
  },
  {
   "cell_type": "code",
   "execution_count": 534,
   "metadata": {
    "slideshow": {
     "slide_type": "skip"
    }
   },
   "outputs": [],
   "source": [
    "df_outlr = df.copy()"
   ]
  },
  {
   "cell_type": "code",
   "execution_count": 535,
   "metadata": {
    "slideshow": {
     "slide_type": "skip"
    }
   },
   "outputs": [],
   "source": [
    "#outliers \n",
    "def remove_outlier(df_in, col_name):\n",
    "    q1 = df_in[col_name].quantile(0.25)\n",
    "    q3 = df_in[col_name].quantile(0.75)\n",
    "    iqr = q3-q1 #Interquartile range\n",
    "    fence_low  = q1-1.5*iqr\n",
    "    fence_high = q3+1.5*iqr\n",
    "    df_out = df_in.loc[(df_in[col_name] > fence_low) & (df_in[col_name] < fence_high)]\n",
    "    return df_out\n",
    "\n",
    "j=['Fresh','Milk','Grocery','Frozen','Detergents_Paper','Delicassen']\n",
    "for i in j : \n",
    "    df = remove_outlier(df_outlr,i)"
   ]
  },
  {
   "cell_type": "code",
   "execution_count": 536,
   "metadata": {
    "slideshow": {
     "slide_type": "skip"
    }
   },
   "outputs": [
    {
     "data": {
      "image/png": "[encoded data removed]",
      "text/plain": [
       "<Figure size 1080x720 with 1 Axes>"
      ]
     },
     "metadata": {
      "needs_background": "light"
     },
     "output_type": "display_data"
    }
   ],
   "source": [
    "fig, ax = plt.subplots(figsize=(15, 10))\n",
    "boxplot = df_outlr.boxplot(column=['Fresh', 'Milk', 'Grocery', 'Frozen',\n",
    "                             'Detergents_Paper','Delicassen'],patch_artist=True, fontsize=11,\n",
    "                     notch=True,showfliers=True)\n",
    "plt.title(\"BoxPlot for each categories\",fontsize=16)\n",
    "plt.xlabel('Categories', fontsize=16)\n",
    "plt.xticks(fontsize=14)\n",
    "plt.show()"
   ]
  },
  {
   "cell_type": "code",
   "execution_count": 537,
   "metadata": {
    "slideshow": {
     "slide_type": "skip"
    }
   },
   "outputs": [
    {
     "data": {
      "image/png": "[encoded data removed]",
      "text/plain": [
       "<Figure size 720x288 with 1 Axes>"
      ]
     },
     "metadata": {
      "needs_background": "light"
     },
     "output_type": "display_data"
    },
    {
     "data": {
      "text/plain": [
       "<Figure size 432x288 with 0 Axes>"
      ]
     },
     "metadata": {},
     "output_type": "display_data"
    },
    {
     "data": {
      "image/png": "[encoded data removed]",
      "text/plain": [
       "<Figure size 720x288 with 1 Axes>"
      ]
     },
     "metadata": {
      "needs_background": "light"
     },
     "output_type": "display_data"
    },
    {
     "data": {
      "text/plain": [
       "<Figure size 432x288 with 0 Axes>"
      ]
     },
     "metadata": {},
     "output_type": "display_data"
    },
    {
     "data": {
      "image/png": "[encoded data removed]",
      "text/plain": [
       "<Figure size 720x288 with 1 Axes>"
      ]
     },
     "metadata": {
      "needs_background": "light"
     },
     "output_type": "display_data"
    },
    {
     "data": {
      "text/plain": [
       "<Figure size 432x288 with 0 Axes>"
      ]
     },
     "metadata": {},
     "output_type": "display_data"
    },
    {
     "data": {
      "image/png": "[encoded data removed]",
      "text/plain": [
       "<Figure size 720x288 with 1 Axes>"
      ]
     },
     "metadata": {
      "needs_background": "light"
     },
     "output_type": "display_data"
    },
    {
     "data": {
      "text/plain": [
       "<Figure size 432x288 with 0 Axes>"
      ]
     },
     "metadata": {},
     "output_type": "display_data"
    },
    {
     "data": {
      "image/png": "[encoded data removed]",
      "text/plain": [
       "<Figure size 720x288 with 1 Axes>"
      ]
     },
     "metadata": {
      "needs_background": "light"
     },
     "output_type": "display_data"
    },
    {
     "data": {
      "text/plain": [
       "<Figure size 432x288 with 0 Axes>"
      ]
     },
     "metadata": {},
     "output_type": "display_data"
    },
    {
     "data": {
      "image/png": "[encoded data removed]",
      "text/plain": [
       "<Figure size 720x288 with 1 Axes>"
      ]
     },
     "metadata": {
      "needs_background": "light"
     },
     "output_type": "display_data"
    },
    {
     "data": {
      "text/plain": [
       "<Figure size 432x288 with 0 Axes>"
      ]
     },
     "metadata": {},
     "output_type": "display_data"
    }
   ],
   "source": [
    "def plot_continous(i):\n",
    "    if df_outlr[i].dtype=='int':\n",
    "        fig, ax = plt.subplots(1,1, figsize=(10, 4))\n",
    "        plt.title(\"histogram of \"+str(i))        \n",
    "        df_outlr[i].plot.kde()\n",
    "        plt.xlabel(i, fontsize=13)\n",
    "        plt.ylabel('Density', fontsize=13)\n",
    "        plt.show()\n",
    "        plt.clf()\n",
    "    return\n",
    "j=['Fresh','Milk','Grocery','Frozen','Detergents_Paper','Delicassen']\n",
    "for i in j:\n",
    "    plot_continous(i)"
   ]
  },
  {
   "cell_type": "markdown",
   "metadata": {
    "slideshow": {
     "slide_type": "slide"
    }
   },
   "source": [
    "## Feature Engineering"
   ]
  },
  {
   "cell_type": "code",
   "execution_count": 538,
   "metadata": {
    "slideshow": {
     "slide_type": "skip"
    }
   },
   "outputs": [],
   "source": [
    "cust = df_outlr.copy()"
   ]
  },
  {
   "cell_type": "markdown",
   "metadata": {
    "slideshow": {
     "slide_type": "fragment"
    }
   },
   "source": [
    "### PCA"
   ]
  },
  {
   "cell_type": "code",
   "execution_count": 539,
   "metadata": {
    "scrolled": true,
    "slideshow": {
     "slide_type": "fragment"
    }
   },
   "outputs": [
    {
     "name": "stdout",
     "output_type": "stream",
     "text": [
      " Percentage of variance PC-0 : 49.0%\n",
      " Percentage of variance PC-1 : 41.0%\n",
      " sum of the ratios : 90.0%\n"
     ]
    }
   ],
   "source": [
    "# The pca algorithm is being used to convert data that might be overly \n",
    "# dispersed into a set of linear combinations that can more easily be interpreted.\n",
    "pca = PCA(n_components=2)\n",
    "pComp = pca.fit(df.iloc[:, 2:9])\n",
    "# I use the explained_variance_ratio_ method of my 2 components analysis object \n",
    "# to see how much of the variance is explained by each of our principle components vectors.\n",
    "print(f' Percentage of variance PC-0 : {round(100*(pComp.explained_variance_ratio_)[0], 0)}%')\n",
    "print(f' Percentage of variance PC-1 : {round(100*(pComp.explained_variance_ratio_)[1], 0)}%')\n",
    "print(f' sum of the ratios : {round(100*np.sum(pComp.explained_variance_ratio_), 0)}%')\n",
    "# The two components contain 90.0% of the information.\n",
    "# So two components can explain 90% of the variance from these 6 features.\n"
   ]
  },
  {
   "cell_type": "code",
   "execution_count": 540,
   "metadata": {
    "scrolled": true,
    "slideshow": {
     "slide_type": "subslide"
    }
   },
   "outputs": [
    {
     "data": {
      "text/html": [
       "<div>\n",
       "<style scoped>\n",
       "    .dataframe tbody tr th:only-of-type {\n",
       "        vertical-align: middle;\n",
       "    }\n",
       "\n",
       "    .dataframe tbody tr th {\n",
       "        vertical-align: top;\n",
       "    }\n",
       "\n",
       "    .dataframe thead th {\n",
       "        text-align: right;\n",
       "    }\n",
       "</style>\n",
       "<table border=\"1\" class=\"dataframe\">\n",
       "  <thead>\n",
       "    <tr style=\"text-align: right;\">\n",
       "      <th></th>\n",
       "      <th>Fresh</th>\n",
       "      <th>Milk</th>\n",
       "      <th>Grocery</th>\n",
       "      <th>Frozen</th>\n",
       "      <th>Detergents_Paper</th>\n",
       "      <th>Delicassen</th>\n",
       "    </tr>\n",
       "  </thead>\n",
       "  <tbody>\n",
       "    <tr>\n",
       "      <th>0</th>\n",
       "      <td>0.814831</td>\n",
       "      <td>-0.245117</td>\n",
       "      <td>-0.453268</td>\n",
       "      <td>0.106858</td>\n",
       "      <td>-0.243035</td>\n",
       "      <td>0.005641</td>\n",
       "    </tr>\n",
       "    <tr>\n",
       "      <th>1</th>\n",
       "      <td>0.568696</td>\n",
       "      <td>0.404908</td>\n",
       "      <td>0.649438</td>\n",
       "      <td>0.026229</td>\n",
       "      <td>0.299213</td>\n",
       "      <td>0.025465</td>\n",
       "    </tr>\n",
       "  </tbody>\n",
       "</table>\n",
       "</div>"
      ],
      "text/plain": [
       "      Fresh      Milk   Grocery    Frozen  Detergents_Paper  Delicassen\n",
       "0  0.814831 -0.245117 -0.453268  0.106858         -0.243035    0.005641\n",
       "1  0.568696  0.404908  0.649438  0.026229          0.299213    0.025465"
      ]
     },
     "execution_count": 540,
     "metadata": {},
     "output_type": "execute_result"
    }
   ],
   "source": [
    "# For correlations between the components and original variables \n",
    "# using the components_ method of the PCA() object.\n",
    "col = ['Fresh','Milk','Grocery','Frozen','Detergents_Paper','Delicassen']\n",
    "components = pd.DataFrame(pComp.components_, columns = col)\n",
    "components\n",
    "# For the component 0 : fresh is significant\n",
    "# For the component 1 : Fresh, Milk & Grocery are significant so this component is \n",
    "  # correlated well with Fresh, Milk & Grocery"
   ]
  },
  {
   "cell_type": "code",
   "execution_count": 541,
   "metadata": {
    "slideshow": {
     "slide_type": "subslide"
    }
   },
   "outputs": [],
   "source": [
    "# I need to create a new dataframe with my components\n",
    "info = pca.fit_transform(df.iloc[:, 2:9])\n",
    "new_data = pd.DataFrame(info, columns=['PC-0', 'PC-1'])"
   ]
  },
  {
   "cell_type": "code",
   "execution_count": 542,
   "metadata": {
    "scrolled": true
   },
   "outputs": [
    {
     "data": {
      "text/html": [
       "<div>\n",
       "<style scoped>\n",
       "    .dataframe tbody tr th:only-of-type {\n",
       "        vertical-align: middle;\n",
       "    }\n",
       "\n",
       "    .dataframe tbody tr th {\n",
       "        vertical-align: top;\n",
       "    }\n",
       "\n",
       "    .dataframe thead th {\n",
       "        text-align: right;\n",
       "    }\n",
       "</style>\n",
       "<table border=\"1\" class=\"dataframe\">\n",
       "  <thead>\n",
       "    <tr style=\"text-align: right;\">\n",
       "      <th></th>\n",
       "      <th>PC-0</th>\n",
       "      <th>PC-1</th>\n",
       "    </tr>\n",
       "  </thead>\n",
       "  <tbody>\n",
       "    <tr>\n",
       "      <th>0</th>\n",
       "      <td>-417.586207</td>\n",
       "      <td>2524.283483</td>\n",
       "    </tr>\n",
       "    <tr>\n",
       "      <th>1</th>\n",
       "      <td>-5920.426502</td>\n",
       "      <td>935.505644</td>\n",
       "    </tr>\n",
       "    <tr>\n",
       "      <th>2</th>\n",
       "      <td>4846.301041</td>\n",
       "      <td>-3205.999972</td>\n",
       "    </tr>\n",
       "    <tr>\n",
       "      <th>3</th>\n",
       "      <td>-1361.977576</td>\n",
       "      <td>-1722.704081</td>\n",
       "    </tr>\n",
       "    <tr>\n",
       "      <th>4</th>\n",
       "      <td>898.990939</td>\n",
       "      <td>-653.366284</td>\n",
       "    </tr>\n",
       "    <tr>\n",
       "      <th>5</th>\n",
       "      <td>-4253.210416</td>\n",
       "      <td>-799.224628</td>\n",
       "    </tr>\n",
       "    <tr>\n",
       "      <th>6</th>\n",
       "      <td>-3536.602743</td>\n",
       "      <td>-4907.247770</td>\n",
       "    </tr>\n",
       "    <tr>\n",
       "      <th>7</th>\n",
       "      <td>-12379.417620</td>\n",
       "      <td>8134.246387</td>\n",
       "    </tr>\n",
       "    <tr>\n",
       "      <th>8</th>\n",
       "      <td>-9762.161936</td>\n",
       "      <td>135.463908</td>\n",
       "    </tr>\n",
       "    <tr>\n",
       "      <th>9</th>\n",
       "      <td>4080.026650</td>\n",
       "      <td>-3257.729397</td>\n",
       "    </tr>\n",
       "    <tr>\n",
       "      <th>10</th>\n",
       "      <td>12269.662837</td>\n",
       "      <td>17562.043745</td>\n",
       "    </tr>\n",
       "    <tr>\n",
       "      <th>11</th>\n",
       "      <td>3352.603968</td>\n",
       "      <td>12072.398011</td>\n",
       "    </tr>\n",
       "    <tr>\n",
       "      <th>12</th>\n",
       "      <td>6774.703307</td>\n",
       "      <td>12940.710616</td>\n",
       "    </tr>\n",
       "    <tr>\n",
       "      <th>13</th>\n",
       "      <td>1832.709977</td>\n",
       "      <td>-5267.744965</td>\n",
       "    </tr>\n",
       "    <tr>\n",
       "      <th>14</th>\n",
       "      <td>-12226.287147</td>\n",
       "      <td>-939.058308</td>\n",
       "    </tr>\n",
       "    <tr>\n",
       "      <th>15</th>\n",
       "      <td>4282.142131</td>\n",
       "      <td>6325.101474</td>\n",
       "    </tr>\n",
       "    <tr>\n",
       "      <th>16</th>\n",
       "      <td>-3426.771020</td>\n",
       "      <td>-1975.798636</td>\n",
       "    </tr>\n",
       "    <tr>\n",
       "      <th>17</th>\n",
       "      <td>6353.065564</td>\n",
       "      <td>1214.303217</td>\n",
       "    </tr>\n",
       "    <tr>\n",
       "      <th>18</th>\n",
       "      <td>-642.046945</td>\n",
       "      <td>-9301.099378</td>\n",
       "    </tr>\n",
       "    <tr>\n",
       "      <th>19</th>\n",
       "      <td>3414.048213</td>\n",
       "      <td>2702.185449</td>\n",
       "    </tr>\n",
       "    <tr>\n",
       "      <th>20</th>\n",
       "      <td>2488.217830</td>\n",
       "      <td>-6288.120530</td>\n",
       "    </tr>\n",
       "    <tr>\n",
       "      <th>21</th>\n",
       "      <td>5758.726470</td>\n",
       "      <td>-3863.282543</td>\n",
       "    </tr>\n",
       "    <tr>\n",
       "      <th>22</th>\n",
       "      <td>28948.741790</td>\n",
       "      <td>13091.831073</td>\n",
       "    </tr>\n",
       "    <tr>\n",
       "      <th>23</th>\n",
       "      <td>4705.266593</td>\n",
       "      <td>5778.623002</td>\n",
       "    </tr>\n",
       "    <tr>\n",
       "      <th>24</th>\n",
       "      <td>-4653.142840</td>\n",
       "      <td>-8738.278917</td>\n",
       "    </tr>\n",
       "    <tr>\n",
       "      <th>25</th>\n",
       "      <td>11475.618128</td>\n",
       "      <td>661.448261</td>\n",
       "    </tr>\n",
       "    <tr>\n",
       "      <th>26</th>\n",
       "      <td>15976.545501</td>\n",
       "      <td>9558.315079</td>\n",
       "    </tr>\n",
       "    <tr>\n",
       "      <th>27</th>\n",
       "      <td>-4683.464664</td>\n",
       "      <td>-11050.252709</td>\n",
       "    </tr>\n",
       "    <tr>\n",
       "      <th>28</th>\n",
       "      <td>-11078.494936</td>\n",
       "      <td>-3221.660375</td>\n",
       "    </tr>\n",
       "    <tr>\n",
       "      <th>29</th>\n",
       "      <td>-1582.719491</td>\n",
       "      <td>8677.946840</td>\n",
       "    </tr>\n",
       "    <tr>\n",
       "      <th>...</th>\n",
       "      <td>...</td>\n",
       "      <td>...</td>\n",
       "    </tr>\n",
       "    <tr>\n",
       "      <th>383</th>\n",
       "      <td>-1939.952795</td>\n",
       "      <td>-3044.002892</td>\n",
       "    </tr>\n",
       "    <tr>\n",
       "      <th>384</th>\n",
       "      <td>-1797.415580</td>\n",
       "      <td>-6115.121379</td>\n",
       "    </tr>\n",
       "    <tr>\n",
       "      <th>385</th>\n",
       "      <td>-11463.336837</td>\n",
       "      <td>-3879.805758</td>\n",
       "    </tr>\n",
       "    <tr>\n",
       "      <th>386</th>\n",
       "      <td>-2763.246248</td>\n",
       "      <td>-4428.029992</td>\n",
       "    </tr>\n",
       "    <tr>\n",
       "      <th>387</th>\n",
       "      <td>-1167.451500</td>\n",
       "      <td>-7425.114514</td>\n",
       "    </tr>\n",
       "    <tr>\n",
       "      <th>388</th>\n",
       "      <td>-3964.708380</td>\n",
       "      <td>-727.432908</td>\n",
       "    </tr>\n",
       "    <tr>\n",
       "      <th>389</th>\n",
       "      <td>-9915.665773</td>\n",
       "      <td>1729.900430</td>\n",
       "    </tr>\n",
       "    <tr>\n",
       "      <th>390</th>\n",
       "      <td>-7360.953320</td>\n",
       "      <td>-974.558655</td>\n",
       "    </tr>\n",
       "    <tr>\n",
       "      <th>391</th>\n",
       "      <td>-15931.665990</td>\n",
       "      <td>3607.899652</td>\n",
       "    </tr>\n",
       "    <tr>\n",
       "      <th>392</th>\n",
       "      <td>650.334743</td>\n",
       "      <td>-5797.725621</td>\n",
       "    </tr>\n",
       "    <tr>\n",
       "      <th>393</th>\n",
       "      <td>-9628.968184</td>\n",
       "      <td>992.127615</td>\n",
       "    </tr>\n",
       "    <tr>\n",
       "      <th>394</th>\n",
       "      <td>3575.004018</td>\n",
       "      <td>4299.393602</td>\n",
       "    </tr>\n",
       "    <tr>\n",
       "      <th>395</th>\n",
       "      <td>14820.932736</td>\n",
       "      <td>4276.530321</td>\n",
       "    </tr>\n",
       "    <tr>\n",
       "      <th>396</th>\n",
       "      <td>6649.662545</td>\n",
       "      <td>749.837602</td>\n",
       "    </tr>\n",
       "    <tr>\n",
       "      <th>397</th>\n",
       "      <td>2571.257178</td>\n",
       "      <td>5418.271693</td>\n",
       "    </tr>\n",
       "    <tr>\n",
       "      <th>398</th>\n",
       "      <td>4692.813594</td>\n",
       "      <td>-4804.741007</td>\n",
       "    </tr>\n",
       "    <tr>\n",
       "      <th>399</th>\n",
       "      <td>-3293.358747</td>\n",
       "      <td>7861.097545</td>\n",
       "    </tr>\n",
       "    <tr>\n",
       "      <th>400</th>\n",
       "      <td>15902.777392</td>\n",
       "      <td>14134.958053</td>\n",
       "    </tr>\n",
       "    <tr>\n",
       "      <th>401</th>\n",
       "      <td>-5503.237798</td>\n",
       "      <td>-6681.588688</td>\n",
       "    </tr>\n",
       "    <tr>\n",
       "      <th>402</th>\n",
       "      <td>633.094763</td>\n",
       "      <td>-6322.102821</td>\n",
       "    </tr>\n",
       "    <tr>\n",
       "      <th>403</th>\n",
       "      <td>-10297.136321</td>\n",
       "      <td>-21.647609</td>\n",
       "    </tr>\n",
       "    <tr>\n",
       "      <th>404</th>\n",
       "      <td>52.141869</td>\n",
       "      <td>-3103.412240</td>\n",
       "    </tr>\n",
       "    <tr>\n",
       "      <th>405</th>\n",
       "      <td>10148.134446</td>\n",
       "      <td>1641.054729</td>\n",
       "    </tr>\n",
       "    <tr>\n",
       "      <th>406</th>\n",
       "      <td>-4091.417932</td>\n",
       "      <td>-10756.903614</td>\n",
       "    </tr>\n",
       "    <tr>\n",
       "      <th>407</th>\n",
       "      <td>4222.962828</td>\n",
       "      <td>2702.827739</td>\n",
       "    </tr>\n",
       "    <tr>\n",
       "      <th>408</th>\n",
       "      <td>11029.074158</td>\n",
       "      <td>18294.663744</td>\n",
       "    </tr>\n",
       "    <tr>\n",
       "      <th>409</th>\n",
       "      <td>27412.483517</td>\n",
       "      <td>9249.765445</td>\n",
       "    </tr>\n",
       "    <tr>\n",
       "      <th>410</th>\n",
       "      <td>-13541.093999</td>\n",
       "      <td>24335.005501</td>\n",
       "    </tr>\n",
       "    <tr>\n",
       "      <th>411</th>\n",
       "      <td>2642.199091</td>\n",
       "      <td>-6105.343593</td>\n",
       "    </tr>\n",
       "    <tr>\n",
       "      <th>412</th>\n",
       "      <td>-3718.884578</td>\n",
       "      <td>-10292.168790</td>\n",
       "    </tr>\n",
       "  </tbody>\n",
       "</table>\n",
       "<p>413 rows × 2 columns</p>\n",
       "</div>"
      ],
      "text/plain": [
       "             PC-0          PC-1\n",
       "0     -417.586207   2524.283483\n",
       "1    -5920.426502    935.505644\n",
       "2     4846.301041  -3205.999972\n",
       "3    -1361.977576  -1722.704081\n",
       "4      898.990939   -653.366284\n",
       "5    -4253.210416   -799.224628\n",
       "6    -3536.602743  -4907.247770\n",
       "7   -12379.417620   8134.246387\n",
       "8    -9762.161936    135.463908\n",
       "9     4080.026650  -3257.729397\n",
       "10   12269.662837  17562.043745\n",
       "11    3352.603968  12072.398011\n",
       "12    6774.703307  12940.710616\n",
       "13    1832.709977  -5267.744965\n",
       "14  -12226.287147   -939.058308\n",
       "15    4282.142131   6325.101474\n",
       "16   -3426.771020  -1975.798636\n",
       "17    6353.065564   1214.303217\n",
       "18    -642.046945  -9301.099378\n",
       "19    3414.048213   2702.185449\n",
       "20    2488.217830  -6288.120530\n",
       "21    5758.726470  -3863.282543\n",
       "22   28948.741790  13091.831073\n",
       "23    4705.266593   5778.623002\n",
       "24   -4653.142840  -8738.278917\n",
       "25   11475.618128    661.448261\n",
       "26   15976.545501   9558.315079\n",
       "27   -4683.464664 -11050.252709\n",
       "28  -11078.494936  -3221.660375\n",
       "29   -1582.719491   8677.946840\n",
       "..            ...           ...\n",
       "383  -1939.952795  -3044.002892\n",
       "384  -1797.415580  -6115.121379\n",
       "385 -11463.336837  -3879.805758\n",
       "386  -2763.246248  -4428.029992\n",
       "387  -1167.451500  -7425.114514\n",
       "388  -3964.708380   -727.432908\n",
       "389  -9915.665773   1729.900430\n",
       "390  -7360.953320   -974.558655\n",
       "391 -15931.665990   3607.899652\n",
       "392    650.334743  -5797.725621\n",
       "393  -9628.968184    992.127615\n",
       "394   3575.004018   4299.393602\n",
       "395  14820.932736   4276.530321\n",
       "396   6649.662545    749.837602\n",
       "397   2571.257178   5418.271693\n",
       "398   4692.813594  -4804.741007\n",
       "399  -3293.358747   7861.097545\n",
       "400  15902.777392  14134.958053\n",
       "401  -5503.237798  -6681.588688\n",
       "402    633.094763  -6322.102821\n",
       "403 -10297.136321    -21.647609\n",
       "404     52.141869  -3103.412240\n",
       "405  10148.134446   1641.054729\n",
       "406  -4091.417932 -10756.903614\n",
       "407   4222.962828   2702.827739\n",
       "408  11029.074158  18294.663744\n",
       "409  27412.483517   9249.765445\n",
       "410 -13541.093999  24335.005501\n",
       "411   2642.199091  -6105.343593\n",
       "412  -3718.884578 -10292.168790\n",
       "\n",
       "[413 rows x 2 columns]"
      ]
     },
     "execution_count": 542,
     "metadata": {},
     "output_type": "execute_result"
    }
   ],
   "source": [
    "new_data"
   ]
  },
  {
   "cell_type": "markdown",
   "metadata": {
    "slideshow": {
     "slide_type": "subslide"
    }
   },
   "source": [
    "### Implementing the K Means Clustering "
   ]
  },
  {
   "cell_type": "markdown",
   "metadata": {
    "slideshow": {
     "slide_type": "fragment"
    }
   },
   "source": [
    "#### Kelbow"
   ]
  },
  {
   "cell_type": "code",
   "execution_count": 543,
   "metadata": {
    "slideshow": {
     "slide_type": "fragment"
    }
   },
   "outputs": [
    {
     "data": {
      "image/png": "[encoded data removed]",
      "text/plain": [
       "<Figure size 432x288 with 2 Axes>"
      ]
     },
     "metadata": {},
     "output_type": "display_data"
    }
   ],
   "source": [
    "# I will use KElbowVisualizer implements the “elbow” method,\n",
    " # to find the best amount of clusters to get most accurate results.  \n",
    "# The KElbowVisualizer also displays the amount of time to train \n",
    " # the clustering model per K as a dashed green line.\n",
    "model = cluster.KMeans()\n",
    "visualizer = KElbowVisualizer(model, k=(1,9))\n",
    "visualizer.fit(new_data)\n",
    "visualizer.poof()\n",
    "plt.show()\n",
    "# k = 4"
   ]
  },
  {
   "cell_type": "markdown",
   "metadata": {
    "slideshow": {
     "slide_type": "subslide"
    }
   },
   "source": [
    "#### K-means"
   ]
  },
  {
   "cell_type": "code",
   "execution_count": 544,
   "metadata": {
    "scrolled": false,
    "slideshow": {
     "slide_type": "fragment"
    }
   },
   "outputs": [
    {
     "data": {
      "image/png": "[encoded data removed]",
      "text/plain": [
       "<Figure size 1080x720 with 1 Axes>"
      ]
     },
     "metadata": {
      "needs_background": "light"
     },
     "output_type": "display_data"
    }
   ],
   "source": [
    "kmeans=KMeans(n_clusters=4)\n",
    "kmeansoutput=kmeans.fit(new_data)\n",
    "colors = np.array([\"red\", \"blue\", \"purple\", 'violet'])\n",
    "plt.figure('Clustering using K-means with k=4', figsize=(15, 10))\n",
    "plt.scatter(new_data.iloc[:, 0], new_data.iloc[:, 1], c=colors[kmeansoutput.labels_] )\n",
    "plt.xlabel(f'PC-0 ({round(100*pComp.explained_variance_ratio_[0], 0)}%)',fontsize=15)\n",
    "plt.ylabel(f'PC-1 ({round(100*pComp.explained_variance_ratio_[1], 0)}%)',fontsize=15)\n",
    "plt.title('Clustering using K-means with k=4',fontsize=17)\n",
    "plt.show()\n",
    "# This plot shows 4 groups : they stand out significantly from each other"
   ]
  },
  {
   "cell_type": "code",
   "execution_count": 546,
   "metadata": {
    "scrolled": true,
    "slideshow": {
     "slide_type": "subslide"
    }
   },
   "outputs": [
    {
     "data": {
      "image/png": "[encoded data removed]",
      "text/plain": [
       "<Figure size 432x288 with 2 Axes>"
      ]
     },
     "metadata": {
      "needs_background": "light"
     },
     "output_type": "display_data"
    }
   ],
   "source": [
    "# Instantiate the clustering model and visualizer\n",
    "visualizer = InterclusterDistance(KMeans(4))\n",
    "\n",
    "visualizer.fit(new_data) # Fit the training data to the visualizer\n",
    "visualizer.poof() # Draw/show/poof the data\n",
    "\n",
    "# The closer to centers are in the visualization, \n",
    " # the closer they are in the original feature space.\n",
    "# Note however, that because two clusters overlap in the 2D space, \n",
    " # it does not imply that they overlap in the original feature space."
   ]
  },
  {
   "cell_type": "markdown",
   "metadata": {
    "slideshow": {
     "slide_type": "slide"
    }
   },
   "source": [
    "## Implementing the K Means Clustering to the database"
   ]
  },
  {
   "cell_type": "code",
   "execution_count": 680,
   "metadata": {
    "slideshow": {
     "slide_type": "skip"
    }
   },
   "outputs": [],
   "source": [
    "cust_pred = df.copy()"
   ]
  },
  {
   "cell_type": "code",
   "execution_count": 686,
   "metadata": {
    "scrolled": true,
    "slideshow": {
     "slide_type": "fragment"
    }
   },
   "outputs": [
    {
     "data": {
      "text/plain": [
       "1    268\n",
       "0     89\n",
       "2     50\n",
       "3      6\n",
       "Name: clusters, dtype: int64"
      ]
     },
     "execution_count": 686,
     "metadata": {},
     "output_type": "execute_result"
    }
   ],
   "source": [
    "# Add new column with 4 clusters\n",
    "cust_pred['clusters'] = kmeans.predict(new_data)\n",
    "cust_pred['clusters'].value_counts()"
   ]
  },
  {
   "cell_type": "markdown",
   "metadata": {},
   "source": [
    "### Convert  Channel and Region to categorical variable"
   ]
  },
  {
   "cell_type": "code",
   "execution_count": 683,
   "metadata": {},
   "outputs": [],
   "source": [
    "cust_pred['Channel'] = cust_pred['Channel'].map({1:'Horeca', 2:'Retail'})"
   ]
  },
  {
   "cell_type": "code",
   "execution_count": 684,
   "metadata": {},
   "outputs": [],
   "source": [
    "cust_pred['Region'].replace([1,2,3],['Lisbon','Porto','Other'],inplace=True)"
   ]
  },
  {
   "cell_type": "code",
   "execution_count": null,
   "metadata": {},
   "outputs": [],
   "source": []
  },
  {
   "cell_type": "code",
   "execution_count": 698,
   "metadata": {
    "collapsed": true
   },
   "outputs": [
    {
     "data": {
      "text/html": [
       "<div>\n",
       "<style scoped>\n",
       "    .dataframe tbody tr th:only-of-type {\n",
       "        vertical-align: middle;\n",
       "    }\n",
       "\n",
       "    .dataframe tbody tr th {\n",
       "        vertical-align: top;\n",
       "    }\n",
       "\n",
       "    .dataframe thead th {\n",
       "        text-align: right;\n",
       "    }\n",
       "</style>\n",
       "<table border=\"1\" class=\"dataframe\">\n",
       "  <thead>\n",
       "    <tr style=\"text-align: right;\">\n",
       "      <th></th>\n",
       "      <th>Channel</th>\n",
       "      <th>Region</th>\n",
       "      <th>Fresh</th>\n",
       "      <th>Milk</th>\n",
       "      <th>Grocery</th>\n",
       "      <th>Frozen</th>\n",
       "      <th>Detergents_Paper</th>\n",
       "      <th>Delicassen</th>\n",
       "      <th>clusters</th>\n",
       "    </tr>\n",
       "  </thead>\n",
       "  <tbody>\n",
       "    <tr>\n",
       "      <th>1</th>\n",
       "      <td>Retail</td>\n",
       "      <td>Other</td>\n",
       "      <td>7057</td>\n",
       "      <td>9810</td>\n",
       "      <td>9568</td>\n",
       "      <td>1762</td>\n",
       "      <td>3293</td>\n",
       "      <td>1776</td>\n",
       "      <td>0</td>\n",
       "    </tr>\n",
       "    <tr>\n",
       "      <th>9</th>\n",
       "      <td>Retail</td>\n",
       "      <td>Other</td>\n",
       "      <td>6006</td>\n",
       "      <td>11093</td>\n",
       "      <td>18881</td>\n",
       "      <td>1159</td>\n",
       "      <td>7425</td>\n",
       "      <td>2098</td>\n",
       "      <td>0</td>\n",
       "    </tr>\n",
       "    <tr>\n",
       "      <th>10</th>\n",
       "      <td>Retail</td>\n",
       "      <td>Other</td>\n",
       "      <td>3366</td>\n",
       "      <td>5403</td>\n",
       "      <td>12974</td>\n",
       "      <td>4400</td>\n",
       "      <td>5977</td>\n",
       "      <td>1744</td>\n",
       "      <td>0</td>\n",
       "    </tr>\n",
       "    <tr>\n",
       "      <th>13</th>\n",
       "      <td>Retail</td>\n",
       "      <td>Other</td>\n",
       "      <td>21217</td>\n",
       "      <td>6208</td>\n",
       "      <td>14982</td>\n",
       "      <td>3095</td>\n",
       "      <td>6707</td>\n",
       "      <td>602</td>\n",
       "      <td>0</td>\n",
       "    </tr>\n",
       "    <tr>\n",
       "      <th>16</th>\n",
       "      <td>Retail</td>\n",
       "      <td>Other</td>\n",
       "      <td>1020</td>\n",
       "      <td>8816</td>\n",
       "      <td>12121</td>\n",
       "      <td>134</td>\n",
       "      <td>4508</td>\n",
       "      <td>1080</td>\n",
       "      <td>0</td>\n",
       "    </tr>\n",
       "    <tr>\n",
       "      <th>35</th>\n",
       "      <td>Retail</td>\n",
       "      <td>Other</td>\n",
       "      <td>688</td>\n",
       "      <td>5491</td>\n",
       "      <td>11091</td>\n",
       "      <td>833</td>\n",
       "      <td>4239</td>\n",
       "      <td>436</td>\n",
       "      <td>0</td>\n",
       "    </tr>\n",
       "    <tr>\n",
       "      <th>37</th>\n",
       "      <td>Retail</td>\n",
       "      <td>Other</td>\n",
       "      <td>15168</td>\n",
       "      <td>10556</td>\n",
       "      <td>12477</td>\n",
       "      <td>1920</td>\n",
       "      <td>6506</td>\n",
       "      <td>714</td>\n",
       "      <td>0</td>\n",
       "    </tr>\n",
       "    <tr>\n",
       "      <th>38</th>\n",
       "      <td>Retail</td>\n",
       "      <td>Other</td>\n",
       "      <td>4591</td>\n",
       "      <td>15729</td>\n",
       "      <td>16709</td>\n",
       "      <td>33</td>\n",
       "      <td>6956</td>\n",
       "      <td>433</td>\n",
       "      <td>0</td>\n",
       "    </tr>\n",
       "    <tr>\n",
       "      <th>42</th>\n",
       "      <td>Retail</td>\n",
       "      <td>Other</td>\n",
       "      <td>10850</td>\n",
       "      <td>7555</td>\n",
       "      <td>14961</td>\n",
       "      <td>188</td>\n",
       "      <td>6899</td>\n",
       "      <td>46</td>\n",
       "      <td>0</td>\n",
       "    </tr>\n",
       "    <tr>\n",
       "      <th>43</th>\n",
       "      <td>Retail</td>\n",
       "      <td>Other</td>\n",
       "      <td>630</td>\n",
       "      <td>11095</td>\n",
       "      <td>23998</td>\n",
       "      <td>787</td>\n",
       "      <td>9529</td>\n",
       "      <td>72</td>\n",
       "      <td>0</td>\n",
       "    </tr>\n",
       "    <tr>\n",
       "      <th>44</th>\n",
       "      <td>Retail</td>\n",
       "      <td>Other</td>\n",
       "      <td>9670</td>\n",
       "      <td>7027</td>\n",
       "      <td>10471</td>\n",
       "      <td>541</td>\n",
       "      <td>4618</td>\n",
       "      <td>65</td>\n",
       "      <td>0</td>\n",
       "    </tr>\n",
       "    <tr>\n",
       "      <th>46</th>\n",
       "      <td>Retail</td>\n",
       "      <td>Other</td>\n",
       "      <td>3103</td>\n",
       "      <td>14069</td>\n",
       "      <td>21955</td>\n",
       "      <td>1668</td>\n",
       "      <td>6792</td>\n",
       "      <td>1452</td>\n",
       "      <td>0</td>\n",
       "    </tr>\n",
       "    <tr>\n",
       "      <th>49</th>\n",
       "      <td>Retail</td>\n",
       "      <td>Other</td>\n",
       "      <td>4967</td>\n",
       "      <td>21412</td>\n",
       "      <td>28921</td>\n",
       "      <td>1798</td>\n",
       "      <td>13583</td>\n",
       "      <td>1163</td>\n",
       "      <td>0</td>\n",
       "    </tr>\n",
       "    <tr>\n",
       "      <th>53</th>\n",
       "      <td>Retail</td>\n",
       "      <td>Other</td>\n",
       "      <td>491</td>\n",
       "      <td>10473</td>\n",
       "      <td>11532</td>\n",
       "      <td>744</td>\n",
       "      <td>5611</td>\n",
       "      <td>224</td>\n",
       "      <td>0</td>\n",
       "    </tr>\n",
       "    <tr>\n",
       "      <th>56</th>\n",
       "      <td>Retail</td>\n",
       "      <td>Other</td>\n",
       "      <td>4098</td>\n",
       "      <td>29892</td>\n",
       "      <td>26866</td>\n",
       "      <td>2616</td>\n",
       "      <td>17740</td>\n",
       "      <td>1340</td>\n",
       "      <td>0</td>\n",
       "    </tr>\n",
       "    <tr>\n",
       "      <th>57</th>\n",
       "      <td>Retail</td>\n",
       "      <td>Other</td>\n",
       "      <td>5417</td>\n",
       "      <td>9933</td>\n",
       "      <td>10487</td>\n",
       "      <td>38</td>\n",
       "      <td>7572</td>\n",
       "      <td>1282</td>\n",
       "      <td>0</td>\n",
       "    </tr>\n",
       "    <tr>\n",
       "      <th>63</th>\n",
       "      <td>Retail</td>\n",
       "      <td>Other</td>\n",
       "      <td>9396</td>\n",
       "      <td>11601</td>\n",
       "      <td>15775</td>\n",
       "      <td>2896</td>\n",
       "      <td>7677</td>\n",
       "      <td>1295</td>\n",
       "      <td>0</td>\n",
       "    </tr>\n",
       "    <tr>\n",
       "      <th>77</th>\n",
       "      <td>Retail</td>\n",
       "      <td>Other</td>\n",
       "      <td>12205</td>\n",
       "      <td>12697</td>\n",
       "      <td>28540</td>\n",
       "      <td>869</td>\n",
       "      <td>12034</td>\n",
       "      <td>1009</td>\n",
       "      <td>0</td>\n",
       "    </tr>\n",
       "    <tr>\n",
       "      <th>81</th>\n",
       "      <td>Retail</td>\n",
       "      <td>Other</td>\n",
       "      <td>219</td>\n",
       "      <td>9540</td>\n",
       "      <td>14403</td>\n",
       "      <td>283</td>\n",
       "      <td>7818</td>\n",
       "      <td>156</td>\n",
       "      <td>0</td>\n",
       "    </tr>\n",
       "    <tr>\n",
       "      <th>82</th>\n",
       "      <td>Retail</td>\n",
       "      <td>Other</td>\n",
       "      <td>10362</td>\n",
       "      <td>9232</td>\n",
       "      <td>11009</td>\n",
       "      <td>737</td>\n",
       "      <td>3537</td>\n",
       "      <td>2342</td>\n",
       "      <td>0</td>\n",
       "    </tr>\n",
       "    <tr>\n",
       "      <th>94</th>\n",
       "      <td>Retail</td>\n",
       "      <td>Other</td>\n",
       "      <td>5626</td>\n",
       "      <td>12220</td>\n",
       "      <td>11323</td>\n",
       "      <td>206</td>\n",
       "      <td>5038</td>\n",
       "      <td>244</td>\n",
       "      <td>0</td>\n",
       "    </tr>\n",
       "    <tr>\n",
       "      <th>100</th>\n",
       "      <td>Retail</td>\n",
       "      <td>Other</td>\n",
       "      <td>11594</td>\n",
       "      <td>7779</td>\n",
       "      <td>12144</td>\n",
       "      <td>3252</td>\n",
       "      <td>8035</td>\n",
       "      <td>3029</td>\n",
       "      <td>0</td>\n",
       "    </tr>\n",
       "    <tr>\n",
       "      <th>101</th>\n",
       "      <td>Retail</td>\n",
       "      <td>Other</td>\n",
       "      <td>1420</td>\n",
       "      <td>10810</td>\n",
       "      <td>16267</td>\n",
       "      <td>1593</td>\n",
       "      <td>6766</td>\n",
       "      <td>1838</td>\n",
       "      <td>0</td>\n",
       "    </tr>\n",
       "    <tr>\n",
       "      <th>106</th>\n",
       "      <td>Retail</td>\n",
       "      <td>Other</td>\n",
       "      <td>1454</td>\n",
       "      <td>6337</td>\n",
       "      <td>10704</td>\n",
       "      <td>133</td>\n",
       "      <td>6830</td>\n",
       "      <td>1831</td>\n",
       "      <td>0</td>\n",
       "    </tr>\n",
       "    <tr>\n",
       "      <th>107</th>\n",
       "      <td>Retail</td>\n",
       "      <td>Other</td>\n",
       "      <td>8797</td>\n",
       "      <td>10646</td>\n",
       "      <td>14886</td>\n",
       "      <td>2471</td>\n",
       "      <td>8969</td>\n",
       "      <td>1438</td>\n",
       "      <td>0</td>\n",
       "    </tr>\n",
       "    <tr>\n",
       "      <th>109</th>\n",
       "      <td>Retail</td>\n",
       "      <td>Other</td>\n",
       "      <td>1406</td>\n",
       "      <td>16729</td>\n",
       "      <td>28986</td>\n",
       "      <td>673</td>\n",
       "      <td>836</td>\n",
       "      <td>3</td>\n",
       "      <td>0</td>\n",
       "    </tr>\n",
       "    <tr>\n",
       "      <th>111</th>\n",
       "      <td>Retail</td>\n",
       "      <td>Other</td>\n",
       "      <td>12579</td>\n",
       "      <td>11114</td>\n",
       "      <td>17569</td>\n",
       "      <td>805</td>\n",
       "      <td>6457</td>\n",
       "      <td>1519</td>\n",
       "      <td>0</td>\n",
       "    </tr>\n",
       "    <tr>\n",
       "      <th>155</th>\n",
       "      <td>Retail</td>\n",
       "      <td>Other</td>\n",
       "      <td>1989</td>\n",
       "      <td>10690</td>\n",
       "      <td>19460</td>\n",
       "      <td>233</td>\n",
       "      <td>11577</td>\n",
       "      <td>2153</td>\n",
       "      <td>0</td>\n",
       "    </tr>\n",
       "    <tr>\n",
       "      <th>156</th>\n",
       "      <td>Retail</td>\n",
       "      <td>Other</td>\n",
       "      <td>3830</td>\n",
       "      <td>5291</td>\n",
       "      <td>14855</td>\n",
       "      <td>317</td>\n",
       "      <td>6694</td>\n",
       "      <td>3182</td>\n",
       "      <td>0</td>\n",
       "    </tr>\n",
       "    <tr>\n",
       "      <th>158</th>\n",
       "      <td>Retail</td>\n",
       "      <td>Other</td>\n",
       "      <td>2861</td>\n",
       "      <td>6570</td>\n",
       "      <td>9618</td>\n",
       "      <td>930</td>\n",
       "      <td>4004</td>\n",
       "      <td>1682</td>\n",
       "      <td>0</td>\n",
       "    </tr>\n",
       "    <tr>\n",
       "      <th>...</th>\n",
       "      <td>...</td>\n",
       "      <td>...</td>\n",
       "      <td>...</td>\n",
       "      <td>...</td>\n",
       "      <td>...</td>\n",
       "      <td>...</td>\n",
       "      <td>...</td>\n",
       "      <td>...</td>\n",
       "      <td>...</td>\n",
       "    </tr>\n",
       "    <tr>\n",
       "      <th>301</th>\n",
       "      <td>Retail</td>\n",
       "      <td>Porto</td>\n",
       "      <td>5283</td>\n",
       "      <td>13316</td>\n",
       "      <td>20399</td>\n",
       "      <td>1809</td>\n",
       "      <td>8752</td>\n",
       "      <td>172</td>\n",
       "      <td>0</td>\n",
       "    </tr>\n",
       "    <tr>\n",
       "      <th>302</th>\n",
       "      <td>Retail</td>\n",
       "      <td>Porto</td>\n",
       "      <td>2886</td>\n",
       "      <td>5302</td>\n",
       "      <td>9785</td>\n",
       "      <td>364</td>\n",
       "      <td>6236</td>\n",
       "      <td>555</td>\n",
       "      <td>0</td>\n",
       "    </tr>\n",
       "    <tr>\n",
       "      <th>303</th>\n",
       "      <td>Retail</td>\n",
       "      <td>Porto</td>\n",
       "      <td>2599</td>\n",
       "      <td>3688</td>\n",
       "      <td>13829</td>\n",
       "      <td>492</td>\n",
       "      <td>10069</td>\n",
       "      <td>59</td>\n",
       "      <td>0</td>\n",
       "    </tr>\n",
       "    <tr>\n",
       "      <th>304</th>\n",
       "      <td>Retail</td>\n",
       "      <td>Porto</td>\n",
       "      <td>161</td>\n",
       "      <td>7460</td>\n",
       "      <td>24773</td>\n",
       "      <td>617</td>\n",
       "      <td>11783</td>\n",
       "      <td>2410</td>\n",
       "      <td>0</td>\n",
       "    </tr>\n",
       "    <tr>\n",
       "      <th>305</th>\n",
       "      <td>Retail</td>\n",
       "      <td>Porto</td>\n",
       "      <td>243</td>\n",
       "      <td>12939</td>\n",
       "      <td>8852</td>\n",
       "      <td>799</td>\n",
       "      <td>3909</td>\n",
       "      <td>211</td>\n",
       "      <td>0</td>\n",
       "    </tr>\n",
       "    <tr>\n",
       "      <th>306</th>\n",
       "      <td>Retail</td>\n",
       "      <td>Porto</td>\n",
       "      <td>6468</td>\n",
       "      <td>12867</td>\n",
       "      <td>21570</td>\n",
       "      <td>1840</td>\n",
       "      <td>7558</td>\n",
       "      <td>1543</td>\n",
       "      <td>0</td>\n",
       "    </tr>\n",
       "    <tr>\n",
       "      <th>309</th>\n",
       "      <td>Retail</td>\n",
       "      <td>Porto</td>\n",
       "      <td>918</td>\n",
       "      <td>20655</td>\n",
       "      <td>13567</td>\n",
       "      <td>1465</td>\n",
       "      <td>6846</td>\n",
       "      <td>806</td>\n",
       "      <td>0</td>\n",
       "    </tr>\n",
       "    <tr>\n",
       "      <th>312</th>\n",
       "      <td>Retail</td>\n",
       "      <td>Porto</td>\n",
       "      <td>2137</td>\n",
       "      <td>3737</td>\n",
       "      <td>19172</td>\n",
       "      <td>1274</td>\n",
       "      <td>17120</td>\n",
       "      <td>142</td>\n",
       "      <td>0</td>\n",
       "    </tr>\n",
       "    <tr>\n",
       "      <th>315</th>\n",
       "      <td>Retail</td>\n",
       "      <td>Porto</td>\n",
       "      <td>1479</td>\n",
       "      <td>14982</td>\n",
       "      <td>11924</td>\n",
       "      <td>662</td>\n",
       "      <td>3891</td>\n",
       "      <td>3508</td>\n",
       "      <td>0</td>\n",
       "    </tr>\n",
       "    <tr>\n",
       "      <th>319</th>\n",
       "      <td>Retail</td>\n",
       "      <td>Porto</td>\n",
       "      <td>9759</td>\n",
       "      <td>25071</td>\n",
       "      <td>17645</td>\n",
       "      <td>1128</td>\n",
       "      <td>12408</td>\n",
       "      <td>1625</td>\n",
       "      <td>0</td>\n",
       "    </tr>\n",
       "    <tr>\n",
       "      <th>331</th>\n",
       "      <td>Retail</td>\n",
       "      <td>Porto</td>\n",
       "      <td>11223</td>\n",
       "      <td>14881</td>\n",
       "      <td>26839</td>\n",
       "      <td>1234</td>\n",
       "      <td>9606</td>\n",
       "      <td>1102</td>\n",
       "      <td>0</td>\n",
       "    </tr>\n",
       "    <tr>\n",
       "      <th>340</th>\n",
       "      <td>Retail</td>\n",
       "      <td>Other</td>\n",
       "      <td>381</td>\n",
       "      <td>4025</td>\n",
       "      <td>9670</td>\n",
       "      <td>388</td>\n",
       "      <td>7271</td>\n",
       "      <td>1371</td>\n",
       "      <td>0</td>\n",
       "    </tr>\n",
       "    <tr>\n",
       "      <th>341</th>\n",
       "      <td>Retail</td>\n",
       "      <td>Other</td>\n",
       "      <td>2320</td>\n",
       "      <td>5763</td>\n",
       "      <td>11238</td>\n",
       "      <td>767</td>\n",
       "      <td>5162</td>\n",
       "      <td>2158</td>\n",
       "      <td>0</td>\n",
       "    </tr>\n",
       "    <tr>\n",
       "      <th>343</th>\n",
       "      <td>Retail</td>\n",
       "      <td>Other</td>\n",
       "      <td>1689</td>\n",
       "      <td>6964</td>\n",
       "      <td>26316</td>\n",
       "      <td>1456</td>\n",
       "      <td>15469</td>\n",
       "      <td>37</td>\n",
       "      <td>0</td>\n",
       "    </tr>\n",
       "    <tr>\n",
       "      <th>346</th>\n",
       "      <td>Retail</td>\n",
       "      <td>Other</td>\n",
       "      <td>2771</td>\n",
       "      <td>6939</td>\n",
       "      <td>15541</td>\n",
       "      <td>2693</td>\n",
       "      <td>6600</td>\n",
       "      <td>1115</td>\n",
       "      <td>0</td>\n",
       "    </tr>\n",
       "    <tr>\n",
       "      <th>349</th>\n",
       "      <td>Retail</td>\n",
       "      <td>Other</td>\n",
       "      <td>5981</td>\n",
       "      <td>14641</td>\n",
       "      <td>20521</td>\n",
       "      <td>2005</td>\n",
       "      <td>12218</td>\n",
       "      <td>445</td>\n",
       "      <td>0</td>\n",
       "    </tr>\n",
       "    <tr>\n",
       "      <th>351</th>\n",
       "      <td>Retail</td>\n",
       "      <td>Other</td>\n",
       "      <td>1210</td>\n",
       "      <td>10044</td>\n",
       "      <td>22294</td>\n",
       "      <td>1741</td>\n",
       "      <td>12638</td>\n",
       "      <td>3137</td>\n",
       "      <td>0</td>\n",
       "    </tr>\n",
       "    <tr>\n",
       "      <th>353</th>\n",
       "      <td>Retail</td>\n",
       "      <td>Other</td>\n",
       "      <td>117</td>\n",
       "      <td>6264</td>\n",
       "      <td>21203</td>\n",
       "      <td>228</td>\n",
       "      <td>8682</td>\n",
       "      <td>1111</td>\n",
       "      <td>0</td>\n",
       "    </tr>\n",
       "    <tr>\n",
       "      <th>357</th>\n",
       "      <td>Retail</td>\n",
       "      <td>Other</td>\n",
       "      <td>37</td>\n",
       "      <td>1275</td>\n",
       "      <td>22272</td>\n",
       "      <td>137</td>\n",
       "      <td>6747</td>\n",
       "      <td>110</td>\n",
       "      <td>0</td>\n",
       "    </tr>\n",
       "    <tr>\n",
       "      <th>376</th>\n",
       "      <td>Retail</td>\n",
       "      <td>Other</td>\n",
       "      <td>3136</td>\n",
       "      <td>8630</td>\n",
       "      <td>13586</td>\n",
       "      <td>5641</td>\n",
       "      <td>4666</td>\n",
       "      <td>1426</td>\n",
       "      <td>0</td>\n",
       "    </tr>\n",
       "    <tr>\n",
       "      <th>396</th>\n",
       "      <td>Retail</td>\n",
       "      <td>Other</td>\n",
       "      <td>4515</td>\n",
       "      <td>11991</td>\n",
       "      <td>9345</td>\n",
       "      <td>2644</td>\n",
       "      <td>3378</td>\n",
       "      <td>2213</td>\n",
       "      <td>0</td>\n",
       "    </tr>\n",
       "    <tr>\n",
       "      <th>407</th>\n",
       "      <td>Retail</td>\n",
       "      <td>Other</td>\n",
       "      <td>7362</td>\n",
       "      <td>12844</td>\n",
       "      <td>18683</td>\n",
       "      <td>2854</td>\n",
       "      <td>7883</td>\n",
       "      <td>553</td>\n",
       "      <td>0</td>\n",
       "    </tr>\n",
       "    <tr>\n",
       "      <th>412</th>\n",
       "      <td>Horeca</td>\n",
       "      <td>Other</td>\n",
       "      <td>97</td>\n",
       "      <td>3605</td>\n",
       "      <td>12400</td>\n",
       "      <td>98</td>\n",
       "      <td>2970</td>\n",
       "      <td>62</td>\n",
       "      <td>0</td>\n",
       "    </tr>\n",
       "    <tr>\n",
       "      <th>416</th>\n",
       "      <td>Retail</td>\n",
       "      <td>Other</td>\n",
       "      <td>4389</td>\n",
       "      <td>10940</td>\n",
       "      <td>10908</td>\n",
       "      <td>848</td>\n",
       "      <td>6728</td>\n",
       "      <td>993</td>\n",
       "      <td>0</td>\n",
       "    </tr>\n",
       "    <tr>\n",
       "      <th>417</th>\n",
       "      <td>Horeca</td>\n",
       "      <td>Other</td>\n",
       "      <td>5065</td>\n",
       "      <td>5499</td>\n",
       "      <td>11055</td>\n",
       "      <td>364</td>\n",
       "      <td>3485</td>\n",
       "      <td>1063</td>\n",
       "      <td>0</td>\n",
       "    </tr>\n",
       "    <tr>\n",
       "      <th>418</th>\n",
       "      <td>Retail</td>\n",
       "      <td>Other</td>\n",
       "      <td>660</td>\n",
       "      <td>8494</td>\n",
       "      <td>18622</td>\n",
       "      <td>133</td>\n",
       "      <td>6740</td>\n",
       "      <td>776</td>\n",
       "      <td>0</td>\n",
       "    </tr>\n",
       "    <tr>\n",
       "      <th>420</th>\n",
       "      <td>Horeca</td>\n",
       "      <td>Other</td>\n",
       "      <td>4456</td>\n",
       "      <td>5266</td>\n",
       "      <td>13227</td>\n",
       "      <td>25</td>\n",
       "      <td>6818</td>\n",
       "      <td>1393</td>\n",
       "      <td>0</td>\n",
       "    </tr>\n",
       "    <tr>\n",
       "      <th>426</th>\n",
       "      <td>Horeca</td>\n",
       "      <td>Other</td>\n",
       "      <td>13134</td>\n",
       "      <td>9347</td>\n",
       "      <td>14316</td>\n",
       "      <td>3141</td>\n",
       "      <td>5079</td>\n",
       "      <td>1894</td>\n",
       "      <td>0</td>\n",
       "    </tr>\n",
       "    <tr>\n",
       "      <th>430</th>\n",
       "      <td>Horeca</td>\n",
       "      <td>Other</td>\n",
       "      <td>3097</td>\n",
       "      <td>4230</td>\n",
       "      <td>16483</td>\n",
       "      <td>575</td>\n",
       "      <td>241</td>\n",
       "      <td>2080</td>\n",
       "      <td>0</td>\n",
       "    </tr>\n",
       "    <tr>\n",
       "      <th>437</th>\n",
       "      <td>Retail</td>\n",
       "      <td>Other</td>\n",
       "      <td>14531</td>\n",
       "      <td>15488</td>\n",
       "      <td>30243</td>\n",
       "      <td>437</td>\n",
       "      <td>14841</td>\n",
       "      <td>1867</td>\n",
       "      <td>0</td>\n",
       "    </tr>\n",
       "  </tbody>\n",
       "</table>\n",
       "<p>89 rows × 9 columns</p>\n",
       "</div>"
      ],
      "text/plain": [
       "    Channel Region  Fresh   Milk  Grocery  Frozen  Detergents_Paper  \\\n",
       "1    Retail  Other   7057   9810     9568    1762              3293   \n",
       "9    Retail  Other   6006  11093    18881    1159              7425   \n",
       "10   Retail  Other   3366   5403    12974    4400              5977   \n",
       "13   Retail  Other  21217   6208    14982    3095              6707   \n",
       "16   Retail  Other   1020   8816    12121     134              4508   \n",
       "35   Retail  Other    688   5491    11091     833              4239   \n",
       "37   Retail  Other  15168  10556    12477    1920              6506   \n",
       "38   Retail  Other   4591  15729    16709      33              6956   \n",
       "42   Retail  Other  10850   7555    14961     188              6899   \n",
       "43   Retail  Other    630  11095    23998     787              9529   \n",
       "44   Retail  Other   9670   7027    10471     541              4618   \n",
       "46   Retail  Other   3103  14069    21955    1668              6792   \n",
       "49   Retail  Other   4967  21412    28921    1798             13583   \n",
       "53   Retail  Other    491  10473    11532     744              5611   \n",
       "56   Retail  Other   4098  29892    26866    2616             17740   \n",
       "57   Retail  Other   5417   9933    10487      38              7572   \n",
       "63   Retail  Other   9396  11601    15775    2896              7677   \n",
       "77   Retail  Other  12205  12697    28540     869             12034   \n",
       "81   Retail  Other    219   9540    14403     283              7818   \n",
       "82   Retail  Other  10362   9232    11009     737              3537   \n",
       "94   Retail  Other   5626  12220    11323     206              5038   \n",
       "100  Retail  Other  11594   7779    12144    3252              8035   \n",
       "101  Retail  Other   1420  10810    16267    1593              6766   \n",
       "106  Retail  Other   1454   6337    10704     133              6830   \n",
       "107  Retail  Other   8797  10646    14886    2471              8969   \n",
       "109  Retail  Other   1406  16729    28986     673               836   \n",
       "111  Retail  Other  12579  11114    17569     805              6457   \n",
       "155  Retail  Other   1989  10690    19460     233             11577   \n",
       "156  Retail  Other   3830   5291    14855     317              6694   \n",
       "158  Retail  Other   2861   6570     9618     930              4004   \n",
       "..      ...    ...    ...    ...      ...     ...               ...   \n",
       "301  Retail  Porto   5283  13316    20399    1809              8752   \n",
       "302  Retail  Porto   2886   5302     9785     364              6236   \n",
       "303  Retail  Porto   2599   3688    13829     492             10069   \n",
       "304  Retail  Porto    161   7460    24773     617             11783   \n",
       "305  Retail  Porto    243  12939     8852     799              3909   \n",
       "306  Retail  Porto   6468  12867    21570    1840              7558   \n",
       "309  Retail  Porto    918  20655    13567    1465              6846   \n",
       "312  Retail  Porto   2137   3737    19172    1274             17120   \n",
       "315  Retail  Porto   1479  14982    11924     662              3891   \n",
       "319  Retail  Porto   9759  25071    17645    1128             12408   \n",
       "331  Retail  Porto  11223  14881    26839    1234              9606   \n",
       "340  Retail  Other    381   4025     9670     388              7271   \n",
       "341  Retail  Other   2320   5763    11238     767              5162   \n",
       "343  Retail  Other   1689   6964    26316    1456             15469   \n",
       "346  Retail  Other   2771   6939    15541    2693              6600   \n",
       "349  Retail  Other   5981  14641    20521    2005             12218   \n",
       "351  Retail  Other   1210  10044    22294    1741             12638   \n",
       "353  Retail  Other    117   6264    21203     228              8682   \n",
       "357  Retail  Other     37   1275    22272     137              6747   \n",
       "376  Retail  Other   3136   8630    13586    5641              4666   \n",
       "396  Retail  Other   4515  11991     9345    2644              3378   \n",
       "407  Retail  Other   7362  12844    18683    2854              7883   \n",
       "412  Horeca  Other     97   3605    12400      98              2970   \n",
       "416  Retail  Other   4389  10940    10908     848              6728   \n",
       "417  Horeca  Other   5065   5499    11055     364              3485   \n",
       "418  Retail  Other    660   8494    18622     133              6740   \n",
       "420  Horeca  Other   4456   5266    13227      25              6818   \n",
       "426  Horeca  Other  13134   9347    14316    3141              5079   \n",
       "430  Horeca  Other   3097   4230    16483     575               241   \n",
       "437  Retail  Other  14531  15488    30243     437             14841   \n",
       "\n",
       "     Delicassen  clusters  \n",
       "1          1776         0  \n",
       "9          2098         0  \n",
       "10         1744         0  \n",
       "13          602         0  \n",
       "16         1080         0  \n",
       "35          436         0  \n",
       "37          714         0  \n",
       "38          433         0  \n",
       "42           46         0  \n",
       "43           72         0  \n",
       "44           65         0  \n",
       "46         1452         0  \n",
       "49         1163         0  \n",
       "53          224         0  \n",
       "56         1340         0  \n",
       "57         1282         0  \n",
       "63         1295         0  \n",
       "77         1009         0  \n",
       "81          156         0  \n",
       "82         2342         0  \n",
       "94          244         0  \n",
       "100        3029         0  \n",
       "101        1838         0  \n",
       "106        1831         0  \n",
       "107        1438         0  \n",
       "109           3         0  \n",
       "111        1519         0  \n",
       "155        2153         0  \n",
       "156        3182         0  \n",
       "158        1682         0  \n",
       "..          ...       ...  \n",
       "301         172         0  \n",
       "302         555         0  \n",
       "303          59         0  \n",
       "304        2410         0  \n",
       "305         211         0  \n",
       "306        1543         0  \n",
       "309         806         0  \n",
       "312         142         0  \n",
       "315        3508         0  \n",
       "319        1625         0  \n",
       "331        1102         0  \n",
       "340        1371         0  \n",
       "341        2158         0  \n",
       "343          37         0  \n",
       "346        1115         0  \n",
       "349         445         0  \n",
       "351        3137         0  \n",
       "353        1111         0  \n",
       "357         110         0  \n",
       "376        1426         0  \n",
       "396        2213         0  \n",
       "407         553         0  \n",
       "412          62         0  \n",
       "416         993         0  \n",
       "417        1063         0  \n",
       "418         776         0  \n",
       "420        1393         0  \n",
       "426        1894         0  \n",
       "430        2080         0  \n",
       "437        1867         0  \n",
       "\n",
       "[89 rows x 9 columns]"
      ]
     },
     "execution_count": 698,
     "metadata": {},
     "output_type": "execute_result"
    }
   ],
   "source": [
    "cust_pred[cust_pred['clusters'] == 0] #subset = braket"
   ]
  },
  {
   "cell_type": "code",
   "execution_count": 697,
   "metadata": {
    "collapsed": true
   },
   "outputs": [
    {
     "data": {
      "text/html": [
       "<div>\n",
       "<style scoped>\n",
       "    .dataframe tbody tr th:only-of-type {\n",
       "        vertical-align: middle;\n",
       "    }\n",
       "\n",
       "    .dataframe tbody tr th {\n",
       "        vertical-align: top;\n",
       "    }\n",
       "\n",
       "    .dataframe thead th {\n",
       "        text-align: right;\n",
       "    }\n",
       "</style>\n",
       "<table border=\"1\" class=\"dataframe\">\n",
       "  <thead>\n",
       "    <tr style=\"text-align: right;\">\n",
       "      <th></th>\n",
       "      <th>Channel</th>\n",
       "      <th>Region</th>\n",
       "      <th>Fresh</th>\n",
       "      <th>Milk</th>\n",
       "      <th>Grocery</th>\n",
       "      <th>Frozen</th>\n",
       "      <th>Detergents_Paper</th>\n",
       "      <th>Delicassen</th>\n",
       "      <th>clusters</th>\n",
       "    </tr>\n",
       "  </thead>\n",
       "  <tbody>\n",
       "    <tr>\n",
       "      <th>311</th>\n",
       "      <td>Horeca</td>\n",
       "      <td>Porto</td>\n",
       "      <td>29635</td>\n",
       "      <td>2335</td>\n",
       "      <td>8280</td>\n",
       "      <td>3046</td>\n",
       "      <td>371</td>\n",
       "      <td>117</td>\n",
       "      <td>2</td>\n",
       "    </tr>\n",
       "    <tr>\n",
       "      <th>324</th>\n",
       "      <td>Horeca</td>\n",
       "      <td>Porto</td>\n",
       "      <td>25977</td>\n",
       "      <td>3587</td>\n",
       "      <td>2464</td>\n",
       "      <td>2369</td>\n",
       "      <td>140</td>\n",
       "      <td>1092</td>\n",
       "      <td>2</td>\n",
       "    </tr>\n",
       "    <tr>\n",
       "      <th>335</th>\n",
       "      <td>Retail</td>\n",
       "      <td>Porto</td>\n",
       "      <td>27082</td>\n",
       "      <td>6817</td>\n",
       "      <td>10790</td>\n",
       "      <td>1365</td>\n",
       "      <td>4111</td>\n",
       "      <td>2139</td>\n",
       "      <td>2</td>\n",
       "    </tr>\n",
       "  </tbody>\n",
       "</table>\n",
       "</div>"
      ],
      "text/plain": [
       "    Channel Region  Fresh  Milk  Grocery  Frozen  Detergents_Paper  \\\n",
       "311  Horeca  Porto  29635  2335     8280    3046               371   \n",
       "324  Horeca  Porto  25977  3587     2464    2369               140   \n",
       "335  Retail  Porto  27082  6817    10790    1365              4111   \n",
       "\n",
       "     Delicassen  clusters  \n",
       "311         117         2  \n",
       "324        1092         2  \n",
       "335        2139         2  "
      ]
     },
     "execution_count": 697,
     "metadata": {},
     "output_type": "execute_result"
    }
   ],
   "source": [
    "cust_pred[(cust_pred['clusters'] == 2)&(cust_pred['Region'] == 'Porto')]#subset = brakets"
   ]
  },
  {
   "cell_type": "code",
   "execution_count": 651,
   "metadata": {
    "slideshow": {
     "slide_type": "subslide"
    }
   },
   "outputs": [
    {
     "data": {
      "image/png": "[encoded data removed]",
      "text/plain": [
       "<Figure size 1080x720 with 6 Axes>"
      ]
     },
     "metadata": {
      "needs_background": "light"
     },
     "output_type": "display_data"
    }
   ],
   "source": [
    "fig,axs = plt.subplots(nrows=3,ncols=2,figsize=(15, 10))\n",
    "x = cust_pred.clusters\n",
    "a = cust_pred.Fresh\n",
    "b = cust_pred.Milk\n",
    "c = cust_pred.Grocery\n",
    "d = cust_pred.Frozen\n",
    "e = cust_pred.Detergents_Paper\n",
    "f = cust_pred.Delicassen\n",
    "axs[0, 0].bar(x,a)\n",
    "axs[0, 0].set_title('Fresh',fontsize=16)\n",
    "axs[0, 0].set_xticklabels([' ',' ','0',' ','1',' ','2',' ','3'])\n",
    "axs[0, 1].bar(x,b)\n",
    "axs[0, 1].set_title('Milk',fontsize=16)\n",
    "axs[0, 1].set_xticklabels([' ',' ','0',' ','1',' ','2',' ','3'])\n",
    "axs[1, 0].bar(x,c)\n",
    "axs[1, 0].set_title('Grocery',fontsize=16)\n",
    "axs[1, 0].set_xticklabels([' ',' ','0',' ','1',' ','2',' ','3'])\n",
    "axs[1, 1].bar(x,d)\n",
    "axs[1, 1].set_title('Frozen',fontsize=16)\n",
    "axs[1, 1].set_xticklabels([' ',' ','0',' ','1',' ','2',' ','3'])\n",
    "axs[2, 0].bar(x,e)\n",
    "axs[2, 0].set_title('Detergents_Paper',fontsize=16)\n",
    "axs[2, 0].set_xticklabels([' ',' ','0',' ','1',' ','2',' ','3'])\n",
    "axs[2, 1].bar(x,f)\n",
    "axs[2, 1].set_title('Delicassen',fontsize=16)\n",
    "axs[2, 1].set_xticklabels([' ',' ','0',' ','1',' ','2',' ','3'])\n",
    "plt.show()"
   ]
  },
  {
   "cell_type": "markdown",
   "metadata": {
    "slideshow": {
     "slide_type": "subslide"
    }
   },
   "source": [
    "                                                    '''THE END'''\n",
    "                                                       🤓🙌🥳💃"
   ]
  }
 ],
 "metadata": {
  "celltoolbar": "Diaporama",
  "kernelspec": {
   "display_name": "Python 3",
   "language": "python",
   "name": "python3"
  },
  "language_info": {
   "codemirror_mode": {
    "name": "ipython",
    "version": 3
   },
   "file_extension": ".py",
   "mimetype": "text/x-python",
   "name": "python",
   "nbconvert_exporter": "python",
   "pygments_lexer": "ipython3",
   "version": "3.7.3"
  },
  "toc": {
   "base_numbering": 1,
   "nav_menu": {
    "height": "248px",
    "width": "602px"
   },
   "number_sections": true,
   "sideBar": true,
   "skip_h1_title": false,
   "title_cell": "Table of Contents",
   "title_sidebar": "Contents",
   "toc_cell": false,
   "toc_position": {},
   "toc_section_display": true,
   "toc_window_display": false
  }
 },
 "nbformat": 4,
 "nbformat_minor": 2
}
