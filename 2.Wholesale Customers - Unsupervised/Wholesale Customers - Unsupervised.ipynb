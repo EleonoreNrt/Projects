{
 "cells": [
  {
   "cell_type": "markdown",
   "metadata": {
    "slideshow": {
     "slide_type": "slide"
    }
   },
   "source": [
    "# Wholesale customers Data Set\n",
    "##### Annual spending in monetary units of clients of a wholesale distributor"
   ]
  },
  {
   "cell_type": "markdown",
   "metadata": {
    "slideshow": {
     "slide_type": "fragment"
    }
   },
   "source": [
    "https://archive.ics.uci.edu/ml/datasets/wholesale+customers"
   ]
  },
  {
   "cell_type": "markdown",
   "metadata": {
    "slideshow": {
     "slide_type": "slide"
    }
   },
   "source": [
    "## Libraries"
   ]
  },
  {
   "cell_type": "code",
   "execution_count": 718,
   "metadata": {
    "slideshow": {
     "slide_type": "fragment"
    }
   },
   "outputs": [],
   "source": [
    "#libraries\n",
    "import pandas as pd\n",
    "import numpy as np\n",
    "import matplotlib.pyplot as plt\n",
    "%matplotlib inline\n",
    "import seaborn as sns\n",
    "from sklearn.decomposition import PCA\n",
    "from sklearn import cluster\n",
    "from sklearn.cluster import KMeans\n",
    "from scipy.cluster.hierarchy import dendrogram, linkage\n",
    "from yellowbrick.cluster import InterclusterDistance #cluster viz"
   ]
  },
  {
   "cell_type": "markdown",
   "metadata": {
    "slideshow": {
     "slide_type": "slide"
    }
   },
   "source": [
    "## Database"
   ]
  },
  {
   "cell_type": "code",
   "execution_count": 719,
   "metadata": {
    "slideshow": {
     "slide_type": "fragment"
    }
   },
   "outputs": [],
   "source": [
    "df = pd.read_csv('Wholesale customers data.csv')"
   ]
  },
  {
   "cell_type": "code",
   "execution_count": 720,
   "metadata": {
    "scrolled": false,
    "slideshow": {
     "slide_type": "fragment"
    }
   },
   "outputs": [
    {
     "data": {
      "text/html": [
       "<div>\n",
       "<style scoped>\n",
       "    .dataframe tbody tr th:only-of-type {\n",
       "        vertical-align: middle;\n",
       "    }\n",
       "\n",
       "    .dataframe tbody tr th {\n",
       "        vertical-align: top;\n",
       "    }\n",
       "\n",
       "    .dataframe thead th {\n",
       "        text-align: right;\n",
       "    }\n",
       "</style>\n",
       "<table border=\"1\" class=\"dataframe\">\n",
       "  <thead>\n",
       "    <tr style=\"text-align: right;\">\n",
       "      <th></th>\n",
       "      <th>Channel</th>\n",
       "      <th>Region</th>\n",
       "      <th>Fresh</th>\n",
       "      <th>Milk</th>\n",
       "      <th>Grocery</th>\n",
       "      <th>Frozen</th>\n",
       "      <th>Detergents_Paper</th>\n",
       "      <th>Delicassen</th>\n",
       "    </tr>\n",
       "  </thead>\n",
       "  <tbody>\n",
       "    <tr>\n",
       "      <th>0</th>\n",
       "      <td>2</td>\n",
       "      <td>3</td>\n",
       "      <td>12669</td>\n",
       "      <td>9656</td>\n",
       "      <td>7561</td>\n",
       "      <td>214</td>\n",
       "      <td>2674</td>\n",
       "      <td>1338</td>\n",
       "    </tr>\n",
       "    <tr>\n",
       "      <th>1</th>\n",
       "      <td>2</td>\n",
       "      <td>3</td>\n",
       "      <td>7057</td>\n",
       "      <td>9810</td>\n",
       "      <td>9568</td>\n",
       "      <td>1762</td>\n",
       "      <td>3293</td>\n",
       "      <td>1776</td>\n",
       "    </tr>\n",
       "    <tr>\n",
       "      <th>2</th>\n",
       "      <td>2</td>\n",
       "      <td>3</td>\n",
       "      <td>6353</td>\n",
       "      <td>8808</td>\n",
       "      <td>7684</td>\n",
       "      <td>2405</td>\n",
       "      <td>3516</td>\n",
       "      <td>7844</td>\n",
       "    </tr>\n",
       "    <tr>\n",
       "      <th>3</th>\n",
       "      <td>1</td>\n",
       "      <td>3</td>\n",
       "      <td>13265</td>\n",
       "      <td>1196</td>\n",
       "      <td>4221</td>\n",
       "      <td>6404</td>\n",
       "      <td>507</td>\n",
       "      <td>1788</td>\n",
       "    </tr>\n",
       "    <tr>\n",
       "      <th>4</th>\n",
       "      <td>2</td>\n",
       "      <td>3</td>\n",
       "      <td>22615</td>\n",
       "      <td>5410</td>\n",
       "      <td>7198</td>\n",
       "      <td>3915</td>\n",
       "      <td>1777</td>\n",
       "      <td>5185</td>\n",
       "    </tr>\n",
       "  </tbody>\n",
       "</table>\n",
       "</div>"
      ],
      "text/plain": [
       "   Channel  Region  Fresh  Milk  Grocery  Frozen  Detergents_Paper  Delicassen\n",
       "0        2       3  12669  9656     7561     214              2674        1338\n",
       "1        2       3   7057  9810     9568    1762              3293        1776\n",
       "2        2       3   6353  8808     7684    2405              3516        7844\n",
       "3        1       3  13265  1196     4221    6404               507        1788\n",
       "4        2       3  22615  5410     7198    3915              1777        5185"
      ]
     },
     "execution_count": 720,
     "metadata": {},
     "output_type": "execute_result"
    }
   ],
   "source": [
    "df.head()"
   ]
  },
  {
   "cell_type": "markdown",
   "metadata": {
    "slideshow": {
     "slide_type": "subslide"
    }
   },
   "source": [
    "Attribute Information:\n",
    "\n",
    "- FRESH: annual spending (m.u.) on fresh products (Continuous); \n",
    "- MILK: annual spending (m.u.) on milk products (Continuous); \n",
    "- GROCERY: annual spending (m.u.)on grocery products (Continuous); \n",
    "    - épicerie\n",
    "- FROZEN: annual spending (m.u.)on frozen products (Continuous) \n",
    "- DETERGENTS_PAPER: annual spending (m.u.) on detergents and paper products (Continuous) \n",
    "    - cleaning products\n",
    "- DELICATESSEN: annual spending (m.u.)on and delicatessen products (Continuous); \n",
    "    - meats (épicierie fine, charcuterie)\n",
    "- CHANNEL: customer Channel - Horeca (Hotel/Restaurant/Café) or Retail channel (Nominal)\n",
    "    - Channel = {Horeca : 1, Retail : 2}\n",
    "    - Horeca is an abbreviation for the food service industry\n",
    "- REGION: customers Region - Lisbon, Porto or Other (Nominal) \n",
    "    - Region = {Lisbon : 1, Porto : 2, Other region : 3}"
   ]
  },
  {
   "cell_type": "markdown",
   "metadata": {
    "slideshow": {
     "slide_type": "subslide"
    }
   },
   "source": [
    "##### My project goal is to use various clustering techniques to segment customers. "
   ]
  },
  {
   "cell_type": "markdown",
   "metadata": {
    "slideshow": {
     "slide_type": "subslide"
    }
   },
   "source": [
    "## Exploratory Data Analysis"
   ]
  },
  {
   "cell_type": "code",
   "execution_count": 721,
   "metadata": {
    "slideshow": {
     "slide_type": "fragment"
    }
   },
   "outputs": [
    {
     "data": {
      "text/plain": [
       "(440, 8)"
      ]
     },
     "execution_count": 721,
     "metadata": {},
     "output_type": "execute_result"
    }
   ],
   "source": [
    "df.shape"
   ]
  },
  {
   "cell_type": "code",
   "execution_count": 722,
   "metadata": {
    "slideshow": {
     "slide_type": "fragment"
    }
   },
   "outputs": [
    {
     "name": "stdout",
     "output_type": "stream",
     "text": [
      "<class 'pandas.core.frame.DataFrame'>\n",
      "RangeIndex: 440 entries, 0 to 439\n",
      "Data columns (total 8 columns):\n",
      "Channel             440 non-null int64\n",
      "Region              440 non-null int64\n",
      "Fresh               440 non-null int64\n",
      "Milk                440 non-null int64\n",
      "Grocery             440 non-null int64\n",
      "Frozen              440 non-null int64\n",
      "Detergents_Paper    440 non-null int64\n",
      "Delicassen          440 non-null int64\n",
      "dtypes: int64(8)\n",
      "memory usage: 27.6 KB\n"
     ]
    }
   ],
   "source": [
    "df.info()"
   ]
  },
  {
   "cell_type": "code",
   "execution_count": 723,
   "metadata": {
    "slideshow": {
     "slide_type": "subslide"
    }
   },
   "outputs": [
    {
     "data": {
      "text/plain": [
       "Channel             int64\n",
       "Region              int64\n",
       "Fresh               int64\n",
       "Milk                int64\n",
       "Grocery             int64\n",
       "Frozen              int64\n",
       "Detergents_Paper    int64\n",
       "Delicassen          int64\n",
       "dtype: object"
      ]
     },
     "execution_count": 723,
     "metadata": {},
     "output_type": "execute_result"
    }
   ],
   "source": [
    "df.dtypes"
   ]
  },
  {
   "cell_type": "code",
   "execution_count": 724,
   "metadata": {
    "slideshow": {
     "slide_type": "fragment"
    }
   },
   "outputs": [
    {
     "data": {
      "text/plain": [
       "Channel             0\n",
       "Region              0\n",
       "Fresh               0\n",
       "Milk                0\n",
       "Grocery             0\n",
       "Frozen              0\n",
       "Detergents_Paper    0\n",
       "Delicassen          0\n",
       "dtype: int64"
      ]
     },
     "execution_count": 724,
     "metadata": {},
     "output_type": "execute_result"
    }
   ],
   "source": [
    "df.isnull().sum()"
   ]
  },
  {
   "cell_type": "code",
   "execution_count": 725,
   "metadata": {
    "slideshow": {
     "slide_type": "skip"
    }
   },
   "outputs": [
    {
     "data": {
      "text/html": [
       "<div>\n",
       "<style scoped>\n",
       "    .dataframe tbody tr th:only-of-type {\n",
       "        vertical-align: middle;\n",
       "    }\n",
       "\n",
       "    .dataframe tbody tr th {\n",
       "        vertical-align: top;\n",
       "    }\n",
       "\n",
       "    .dataframe thead th {\n",
       "        text-align: right;\n",
       "    }\n",
       "</style>\n",
       "<table border=\"1\" class=\"dataframe\">\n",
       "  <thead>\n",
       "    <tr style=\"text-align: right;\">\n",
       "      <th></th>\n",
       "      <th>count</th>\n",
       "      <th>mean</th>\n",
       "      <th>std</th>\n",
       "      <th>min</th>\n",
       "      <th>25%</th>\n",
       "      <th>50%</th>\n",
       "      <th>75%</th>\n",
       "      <th>max</th>\n",
       "    </tr>\n",
       "  </thead>\n",
       "  <tbody>\n",
       "    <tr>\n",
       "      <th>Channel</th>\n",
       "      <td>440.0</td>\n",
       "      <td>1.322727</td>\n",
       "      <td>0.468052</td>\n",
       "      <td>1.0</td>\n",
       "      <td>1.00</td>\n",
       "      <td>1.0</td>\n",
       "      <td>2.00</td>\n",
       "      <td>2.0</td>\n",
       "    </tr>\n",
       "    <tr>\n",
       "      <th>Region</th>\n",
       "      <td>440.0</td>\n",
       "      <td>2.543182</td>\n",
       "      <td>0.774272</td>\n",
       "      <td>1.0</td>\n",
       "      <td>2.00</td>\n",
       "      <td>3.0</td>\n",
       "      <td>3.00</td>\n",
       "      <td>3.0</td>\n",
       "    </tr>\n",
       "    <tr>\n",
       "      <th>Fresh</th>\n",
       "      <td>440.0</td>\n",
       "      <td>12000.297727</td>\n",
       "      <td>12647.328865</td>\n",
       "      <td>3.0</td>\n",
       "      <td>3127.75</td>\n",
       "      <td>8504.0</td>\n",
       "      <td>16933.75</td>\n",
       "      <td>112151.0</td>\n",
       "    </tr>\n",
       "    <tr>\n",
       "      <th>Milk</th>\n",
       "      <td>440.0</td>\n",
       "      <td>5796.265909</td>\n",
       "      <td>7380.377175</td>\n",
       "      <td>55.0</td>\n",
       "      <td>1533.00</td>\n",
       "      <td>3627.0</td>\n",
       "      <td>7190.25</td>\n",
       "      <td>73498.0</td>\n",
       "    </tr>\n",
       "    <tr>\n",
       "      <th>Grocery</th>\n",
       "      <td>440.0</td>\n",
       "      <td>7951.277273</td>\n",
       "      <td>9503.162829</td>\n",
       "      <td>3.0</td>\n",
       "      <td>2153.00</td>\n",
       "      <td>4755.5</td>\n",
       "      <td>10655.75</td>\n",
       "      <td>92780.0</td>\n",
       "    </tr>\n",
       "    <tr>\n",
       "      <th>Frozen</th>\n",
       "      <td>440.0</td>\n",
       "      <td>3071.931818</td>\n",
       "      <td>4854.673333</td>\n",
       "      <td>25.0</td>\n",
       "      <td>742.25</td>\n",
       "      <td>1526.0</td>\n",
       "      <td>3554.25</td>\n",
       "      <td>60869.0</td>\n",
       "    </tr>\n",
       "    <tr>\n",
       "      <th>Detergents_Paper</th>\n",
       "      <td>440.0</td>\n",
       "      <td>2881.493182</td>\n",
       "      <td>4767.854448</td>\n",
       "      <td>3.0</td>\n",
       "      <td>256.75</td>\n",
       "      <td>816.5</td>\n",
       "      <td>3922.00</td>\n",
       "      <td>40827.0</td>\n",
       "    </tr>\n",
       "    <tr>\n",
       "      <th>Delicassen</th>\n",
       "      <td>440.0</td>\n",
       "      <td>1524.870455</td>\n",
       "      <td>2820.105937</td>\n",
       "      <td>3.0</td>\n",
       "      <td>408.25</td>\n",
       "      <td>965.5</td>\n",
       "      <td>1820.25</td>\n",
       "      <td>47943.0</td>\n",
       "    </tr>\n",
       "  </tbody>\n",
       "</table>\n",
       "</div>"
      ],
      "text/plain": [
       "                  count          mean           std   min      25%     50%  \\\n",
       "Channel           440.0      1.322727      0.468052   1.0     1.00     1.0   \n",
       "Region            440.0      2.543182      0.774272   1.0     2.00     3.0   \n",
       "Fresh             440.0  12000.297727  12647.328865   3.0  3127.75  8504.0   \n",
       "Milk              440.0   5796.265909   7380.377175  55.0  1533.00  3627.0   \n",
       "Grocery           440.0   7951.277273   9503.162829   3.0  2153.00  4755.5   \n",
       "Frozen            440.0   3071.931818   4854.673333  25.0   742.25  1526.0   \n",
       "Detergents_Paper  440.0   2881.493182   4767.854448   3.0   256.75   816.5   \n",
       "Delicassen        440.0   1524.870455   2820.105937   3.0   408.25   965.5   \n",
       "\n",
       "                       75%       max  \n",
       "Channel               2.00       2.0  \n",
       "Region                3.00       3.0  \n",
       "Fresh             16933.75  112151.0  \n",
       "Milk               7190.25   73498.0  \n",
       "Grocery           10655.75   92780.0  \n",
       "Frozen             3554.25   60869.0  \n",
       "Detergents_Paper   3922.00   40827.0  \n",
       "Delicassen         1820.25   47943.0  "
      ]
     },
     "execution_count": 725,
     "metadata": {},
     "output_type": "execute_result"
    }
   ],
   "source": [
    "df.describe().T"
   ]
  },
  {
   "cell_type": "code",
   "execution_count": 726,
   "metadata": {
    "slideshow": {
     "slide_type": "subslide"
    }
   },
   "outputs": [
    {
     "data": {
      "text/plain": [
       "3    316\n",
       "1     77\n",
       "2     47\n",
       "Name: Region, dtype: int64"
      ]
     },
     "execution_count": 726,
     "metadata": {},
     "output_type": "execute_result"
    }
   ],
   "source": [
    "df.Region.value_counts()\n",
    "# Channel = {Horeca : 1, Retail : 2}"
   ]
  },
  {
   "cell_type": "code",
   "execution_count": 727,
   "metadata": {
    "slideshow": {
     "slide_type": "fragment"
    }
   },
   "outputs": [
    {
     "data": {
      "text/plain": [
       "3    316\n",
       "1     77\n",
       "2     47\n",
       "Name: Region, dtype: int64"
      ]
     },
     "execution_count": 727,
     "metadata": {},
     "output_type": "execute_result"
    }
   ],
   "source": [
    "df.Region.value_counts()\n",
    "# Region = {Lisbon : 1, Porto : 2, Other region : 3}"
   ]
  },
  {
   "cell_type": "code",
   "execution_count": 728,
   "metadata": {
    "slideshow": {
     "slide_type": "skip"
    }
   },
   "outputs": [
    {
     "data": {
      "text/plain": [
       "Index(['Channel', 'Region', 'Fresh', 'Milk', 'Grocery', 'Frozen',\n",
       "       'Detergents_Paper', 'Delicassen'],\n",
       "      dtype='object')"
      ]
     },
     "execution_count": 728,
     "metadata": {},
     "output_type": "execute_result"
    }
   ],
   "source": [
    "df.columns"
   ]
  },
  {
   "cell_type": "markdown",
   "metadata": {
    "slideshow": {
     "slide_type": "subslide"
    }
   },
   "source": [
    "### Continuous columns : Fresh, Milk, Grocery, Frozen,Detergents_Paper & Delicassen"
   ]
  },
  {
   "cell_type": "code",
   "execution_count": 762,
   "metadata": {
    "slideshow": {
     "slide_type": "subslide"
    }
   },
   "outputs": [
    {
     "data": {
      "image/png": "[encoded data removed]",
      "text/plain": [
       "<Figure size 1080x720 with 1 Axes>"
      ]
     },
     "metadata": {
      "needs_background": "light"
     },
     "output_type": "display_data"
    }
   ],
   "source": [
    "fig, ax = plt.subplots(figsize=(15, 10))\n",
    "boxplot = df.boxplot(column=['Fresh', 'Milk', 'Grocery', 'Frozen',\n",
    "                             'Detergents_Paper','Delicassen'],patch_artist=True, fontsize=11,\n",
    "                     notch=True,showfliers=True)\n",
    "plt.title(\"BoxPlot for each categories\",fontsize=16)\n",
    "plt.xlabel('Categories', fontsize=16)\n",
    "plt.xticks(fontsize=14)\n",
    "plt.show()"
   ]
  },
  {
   "cell_type": "code",
   "execution_count": 730,
   "metadata": {
    "slideshow": {
     "slide_type": "subslide"
    }
   },
   "outputs": [
    {
     "data": {
      "image/png": "[encoded data removed]",
      "text/plain": [
       "<Figure size 432x288 with 1 Axes>"
      ]
     },
     "metadata": {
      "needs_background": "light"
     },
     "output_type": "display_data"
    },
    {
     "data": {
      "image/png": "[encoded data removed]",
      "text/plain": [
       "<Figure size 432x288 with 1 Axes>"
      ]
     },
     "metadata": {
      "needs_background": "light"
     },
     "output_type": "display_data"
    },
    {
     "data": {
      "image/png": "[encoded data removed]",
      "text/plain": [
       "<Figure size 432x288 with 1 Axes>"
      ]
     },
     "metadata": {
      "needs_background": "light"
     },
     "output_type": "display_data"
    },
    {
     "data": {
      "image/png": "[encoded data removed]",
      "text/plain": [
       "<Figure size 432x288 with 1 Axes>"
      ]
     },
     "metadata": {
      "needs_background": "light"
     },
     "output_type": "display_data"
    },
    {
     "data": {
      "image/png": "[encoded data removed]",
      "text/plain": [
       "<Figure size 432x288 with 1 Axes>"
      ]
     },
     "metadata": {
      "needs_background": "light"
     },
     "output_type": "display_data"
    },
    {
     "data": {
      "image/png": "[encoded data removed]",
      "text/plain": [
       "<Figure size 432x288 with 1 Axes>"
      ]
     },
     "metadata": {
      "needs_background": "light"
     },
     "output_type": "display_data"
    },
    {
     "data": {
      "text/plain": [
       "<Figure size 432x288 with 0 Axes>"
      ]
     },
     "metadata": {},
     "output_type": "display_data"
    }
   ],
   "source": [
    "def plot_continous(i):\n",
    "    if df[i].dtype=='int':\n",
    "        plt.title(\"histogram of \"+str(i))        \n",
    "        df[i].plot.hist(bins = 20)\n",
    "        plt.xlabel(i, fontsize=13)\n",
    "        plt.ylabel('Frequency', fontsize=13)\n",
    "        plt.show()\n",
    "        plt.clf()\n",
    "    return\n",
    "j=['Fresh','Milk','Grocery','Frozen','Detergents_Paper','Delicassen']\n",
    "for i in j:\n",
    "    plot_continous(i)"
   ]
  },
  {
   "cell_type": "markdown",
   "metadata": {
    "slideshow": {
     "slide_type": "subslide"
    }
   },
   "source": [
    "### Nominal columns : Channel & Region"
   ]
  },
  {
   "cell_type": "code",
   "execution_count": 731,
   "metadata": {
    "slideshow": {
     "slide_type": "subslide"
    }
   },
   "outputs": [
    {
     "data": {
      "image/png": "[encoded data removed]",
      "text/plain": [
       "<Figure size 720x504 with 1 Axes>"
      ]
     },
     "metadata": {
      "needs_background": "light"
     },
     "output_type": "display_data"
    }
   ],
   "source": [
    "fig, ax = plt.subplots(figsize=(10, 7))\n",
    "sns.countplot(x='Channel',data=df,palette=\"Set2\")\n",
    "plt.title('Distribution between Horeca and retail channel',fontsize=16)\n",
    "plt.xlabel('Channel', fontsize=16)\n",
    "plt.ylabel('Count',fontsize=15)\n",
    "ax.set_xticklabels(['Horeca','Retail'])\n",
    "plt.xticks(fontsize=14)\n",
    "plt.show()"
   ]
  },
  {
   "cell_type": "code",
   "execution_count": 732,
   "metadata": {
    "slideshow": {
     "slide_type": "subslide"
    }
   },
   "outputs": [
    {
     "data": {
      "image/png": "[encoded data removed]",
      "text/plain": [
       "<Figure size 720x504 with 1 Axes>"
      ]
     },
     "metadata": {
      "needs_background": "light"
     },
     "output_type": "display_data"
    }
   ],
   "source": [
    "fig, ax = plt.subplots(figsize=(10, 7))\n",
    "sns.countplot(x='Region',data=df,palette=\"Set2\",\n",
    "             order = df['Region'].value_counts().index)\n",
    "plt.title('Distribution between Lisbon, Porto and other',fontsize=16)\n",
    "plt.xlabel('Region', fontsize=16)\n",
    "plt.ylabel('Count',fontsize=15)\n",
    "ax.set_xticklabels(['Other','Lisbon', 'Porto'])\n",
    "plt.xticks(fontsize=14)\n",
    "plt.show()"
   ]
  },
  {
   "cell_type": "markdown",
   "metadata": {
    "slideshow": {
     "slide_type": "skip"
    }
   },
   "source": [
    "### Correlation"
   ]
  },
  {
   "cell_type": "code",
   "execution_count": 733,
   "metadata": {
    "slideshow": {
     "slide_type": "skip"
    }
   },
   "outputs": [
    {
     "data": {
      "image/png": "[encoded data removed]",
      "text/plain": [
       "<Figure size 504x360 with 2 Axes>"
      ]
     },
     "metadata": {
      "needs_background": "light"
     },
     "output_type": "display_data"
    }
   ],
   "source": [
    "# correlation\n",
    "fig, ax = plt.subplots(figsize=(7, 5))\n",
    "sns.heatmap(df.corr(),cmap=\"BuPu\",annot=True)\n",
    "plt.show()\n",
    "\n",
    "# there are correlations with Channel between Grocery, Detergents_Paper and Milk\n",
    "# strong correlation between milk & grocery, grocery & detergents_paper"
   ]
  },
  {
   "cell_type": "code",
   "execution_count": 734,
   "metadata": {
    "slideshow": {
     "slide_type": "skip"
    }
   },
   "outputs": [
    {
     "data": {
      "image/png": "[encoded data removed]",
      "text/plain": [
       "<Figure size 432x288 with 1 Axes>"
      ]
     },
     "metadata": {
      "needs_background": "light"
     },
     "output_type": "display_data"
    }
   ],
   "source": [
    "sns.regplot(data=df,x='Milk',y='Grocery')\n",
    "plt.xlabel('Milk', fontsize=13)\n",
    "plt.ylabel('Grocery', fontsize=13)\n",
    "plt.show()"
   ]
  },
  {
   "cell_type": "code",
   "execution_count": 735,
   "metadata": {
    "slideshow": {
     "slide_type": "skip"
    }
   },
   "outputs": [
    {
     "data": {
      "image/png": "[encoded data removed]",
      "text/plain": [
       "<Figure size 432x288 with 1 Axes>"
      ]
     },
     "metadata": {
      "needs_background": "light"
     },
     "output_type": "display_data"
    }
   ],
   "source": [
    "sns.regplot(data=df,x='Milk',y='Detergents_Paper')\n",
    "plt.xlabel('Milk', fontsize=13)\n",
    "plt.ylabel('Detergents_Paper', fontsize=13)\n",
    "plt.show()"
   ]
  },
  {
   "cell_type": "code",
   "execution_count": 736,
   "metadata": {
    "slideshow": {
     "slide_type": "skip"
    }
   },
   "outputs": [
    {
     "data": {
      "image/png": "[encoded data removed]",
      "text/plain": [
       "<Figure size 432x288 with 1 Axes>"
      ]
     },
     "metadata": {
      "needs_background": "light"
     },
     "output_type": "display_data"
    }
   ],
   "source": [
    "sns.regplot(data=df,x='Grocery',y='Detergents_Paper')\n",
    "plt.xlabel('Grocery', fontsize=13)\n",
    "plt.ylabel('Detergents_Paper', fontsize=13)\n",
    "plt.show()"
   ]
  },
  {
   "cell_type": "code",
   "execution_count": 737,
   "metadata": {
    "slideshow": {
     "slide_type": "subslide"
    }
   },
   "outputs": [
    {
     "data": {
      "image/png": "[encoded data removed]",
      "text/plain": [
       "<Figure size 720x504 with 1 Axes>"
      ]
     },
     "metadata": {
      "needs_background": "light"
     },
     "output_type": "display_data"
    }
   ],
   "source": [
    "fig, ax = plt.subplots(figsize=(10, 7))\n",
    "ax = sns.countplot(x=\"Region\", hue=\"Channel\", data=df,palette=\"Set2\",\n",
    "                   order = df['Region'].value_counts().index)\n",
    "plt.title('Distribution between Channel for each Region',fontsize=16)\n",
    "plt.xlabel('Region', fontsize=15)\n",
    "plt.ylabel('Count',fontsize=15)\n",
    "ax.set_xticklabels(['Other','Lisbon', 'Porto'])\n",
    "plt.legend(['Horeca','Retail'])\n",
    "plt.show()"
   ]
  },
  {
   "cell_type": "code",
   "execution_count": 738,
   "metadata": {
    "slideshow": {
     "slide_type": "skip"
    }
   },
   "outputs": [
    {
     "data": {
      "image/png": "[encoded data removed]",
      "text/plain": [
       "<Figure size 720x504 with 1 Axes>"
      ]
     },
     "metadata": {
      "needs_background": "light"
     },
     "output_type": "display_data"
    }
   ],
   "source": [
    "fig, ax = plt.subplots(figsize=(10, 7))\n",
    "ax = sns.countplot(x=\"Channel\", hue=\"Region\", data=df,palette=\"Set2\",\n",
    "                   order = df['Channel'].value_counts().index)\n",
    "plt.title('Distribution between Region for each Channel',fontsize=16)\n",
    "plt.xlabel('Channel', fontsize=15)\n",
    "plt.ylabel('Count',fontsize=15)\n",
    "ax.set_xticklabels(['Horeca','Retail'])\n",
    "plt.legend(['Lisbon','Porto','Other'])\n",
    "plt.show()"
   ]
  },
  {
   "cell_type": "markdown",
   "metadata": {
    "slideshow": {
     "slide_type": "skip"
    }
   },
   "source": [
    "### Outliers"
   ]
  },
  {
   "cell_type": "code",
   "execution_count": 739,
   "metadata": {
    "slideshow": {
     "slide_type": "skip"
    }
   },
   "outputs": [],
   "source": [
    "df_outlr = df.copy()"
   ]
  },
  {
   "cell_type": "code",
   "execution_count": 740,
   "metadata": {
    "slideshow": {
     "slide_type": "skip"
    }
   },
   "outputs": [],
   "source": [
    "#outliers \n",
    "def remove_outlier(df_in, col_name):\n",
    "    q1 = df_in[col_name].quantile(0.25)\n",
    "    q3 = df_in[col_name].quantile(0.75)\n",
    "    iqr = q3-q1 #Interquartile range\n",
    "    fence_low  = q1-1.5*iqr\n",
    "    fence_high = q3+1.5*iqr\n",
    "    df_out = df_in.loc[(df_in[col_name] > fence_low) & (df_in[col_name] < fence_high)]\n",
    "    return df_out\n",
    "\n",
    "j=['Fresh','Milk','Grocery','Frozen','Detergents_Paper','Delicassen']\n",
    "for i in j : \n",
    "    df = remove_outlier(df_outlr,i)"
   ]
  },
  {
   "cell_type": "code",
   "execution_count": 741,
   "metadata": {
    "slideshow": {
     "slide_type": "skip"
    }
   },
   "outputs": [
    {
     "data": {
      "image/png": "[encoded data removed]",
      "text/plain": [
       "<Figure size 1080x720 with 1 Axes>"
      ]
     },
     "metadata": {
      "needs_background": "light"
     },
     "output_type": "display_data"
    }
   ],
   "source": [
    "fig, ax = plt.subplots(figsize=(15, 10))\n",
    "boxplot = df_outlr.boxplot(column=['Fresh', 'Milk', 'Grocery', 'Frozen',\n",
    "                             'Detergents_Paper','Delicassen'],patch_artist=True, fontsize=11,\n",
    "                     notch=True,showfliers=True)\n",
    "plt.title(\"BoxPlot for each categories\",fontsize=16)\n",
    "plt.xlabel('Categories', fontsize=16)\n",
    "plt.xticks(fontsize=14)\n",
    "plt.show()"
   ]
  },
  {
   "cell_type": "code",
   "execution_count": 742,
   "metadata": {
    "slideshow": {
     "slide_type": "skip"
    }
   },
   "outputs": [
    {
     "data": {
      "image/png": "[encoded data removed]",
      "text/plain": [
       "<Figure size 720x288 with 1 Axes>"
      ]
     },
     "metadata": {
      "needs_background": "light"
     },
     "output_type": "display_data"
    },
    {
     "data": {
      "text/plain": [
       "<Figure size 432x288 with 0 Axes>"
      ]
     },
     "metadata": {},
     "output_type": "display_data"
    },
    {
     "data": {
      "image/png": "[encoded data removed]",
      "text/plain": [
       "<Figure size 720x288 with 1 Axes>"
      ]
     },
     "metadata": {
      "needs_background": "light"
     },
     "output_type": "display_data"
    },
    {
     "data": {
      "text/plain": [
       "<Figure size 432x288 with 0 Axes>"
      ]
     },
     "metadata": {},
     "output_type": "display_data"
    },
    {
     "data": {
      "image/png": "[encoded data removed]",
      "text/plain": [
       "<Figure size 720x288 with 1 Axes>"
      ]
     },
     "metadata": {
      "needs_background": "light"
     },
     "output_type": "display_data"
    },
    {
     "data": {
      "text/plain": [
       "<Figure size 432x288 with 0 Axes>"
      ]
     },
     "metadata": {},
     "output_type": "display_data"
    },
    {
     "data": {
      "image/png": "[encoded data removed]",
      "text/plain": [
       "<Figure size 720x288 with 1 Axes>"
      ]
     },
     "metadata": {
      "needs_background": "light"
     },
     "output_type": "display_data"
    },
    {
     "data": {
      "text/plain": [
       "<Figure size 432x288 with 0 Axes>"
      ]
     },
     "metadata": {},
     "output_type": "display_data"
    },
    {
     "data": {
      "image/png": "[encoded data removed]",
      "text/plain": [
       "<Figure size 720x288 with 1 Axes>"
      ]
     },
     "metadata": {
      "needs_background": "light"
     },
     "output_type": "display_data"
    },
    {
     "data": {
      "text/plain": [
       "<Figure size 432x288 with 0 Axes>"
      ]
     },
     "metadata": {},
     "output_type": "display_data"
    },
    {
     "data": {
      "image/png": "[encoded data removed]",
      "text/plain": [
       "<Figure size 720x288 with 1 Axes>"
      ]
     },
     "metadata": {
      "needs_background": "light"
     },
     "output_type": "display_data"
    },
    {
     "data": {
      "text/plain": [
       "<Figure size 432x288 with 0 Axes>"
      ]
     },
     "metadata": {},
     "output_type": "display_data"
    }
   ],
   "source": [
    "def plot_continous(i):\n",
    "    if df_outlr[i].dtype=='int':\n",
    "        fig, ax = plt.subplots(1,1, figsize=(10, 4))\n",
    "        plt.title(\"histogram of \"+str(i))        \n",
    "        df_outlr[i].plot.kde()\n",
    "        plt.xlabel(i, fontsize=13)\n",
    "        plt.ylabel('Density', fontsize=13)\n",
    "        plt.show()\n",
    "        plt.clf()\n",
    "    return\n",
    "j=['Fresh','Milk','Grocery','Frozen','Detergents_Paper','Delicassen']\n",
    "for i in j:\n",
    "    plot_continous(i)"
   ]
  },
  {
   "cell_type": "markdown",
   "metadata": {
    "slideshow": {
     "slide_type": "slide"
    }
   },
   "source": [
    "## Feature Engineering"
   ]
  },
  {
   "cell_type": "code",
   "execution_count": 743,
   "metadata": {
    "slideshow": {
     "slide_type": "skip"
    }
   },
   "outputs": [],
   "source": [
    "cust = df_outlr.copy()"
   ]
  },
  {
   "cell_type": "markdown",
   "metadata": {
    "slideshow": {
     "slide_type": "fragment"
    }
   },
   "source": [
    "### PCA"
   ]
  },
  {
   "cell_type": "code",
   "execution_count": 744,
   "metadata": {
    "scrolled": true,
    "slideshow": {
     "slide_type": "fragment"
    }
   },
   "outputs": [
    {
     "name": "stdout",
     "output_type": "stream",
     "text": [
      " Percentage of variance PC-0 : 49.0%\n",
      " Percentage of variance PC-1 : 41.0%\n",
      " sum of the ratios : 90.0%\n"
     ]
    }
   ],
   "source": [
    "# The pca algorithm is being used to convert data that might be overly \n",
    "# dispersed into a set of linear combinations that can more easily be interpreted.\n",
    "pca = PCA(n_components=2)\n",
    "pComp = pca.fit(df.iloc[:, 2:9])\n",
    "# I use the explained_variance_ratio_ method of my 2 components analysis object \n",
    "# to see how much of the variance is explained by each of our principle components vectors.\n",
    "print(f' Percentage of variance PC-0 : {round(100*(pComp.explained_variance_ratio_)[0], 0)}%')\n",
    "print(f' Percentage of variance PC-1 : {round(100*(pComp.explained_variance_ratio_)[1], 0)}%')\n",
    "print(f' sum of the ratios : {round(100*np.sum(pComp.explained_variance_ratio_), 0)}%')\n",
    "# The two components contain 90.0% of the information.\n",
    "# So two components can explain 90.0% of the variance from these 6 features.\n"
   ]
  },
  {
   "cell_type": "code",
   "execution_count": 745,
   "metadata": {
    "scrolled": true,
    "slideshow": {
     "slide_type": "subslide"
    }
   },
   "outputs": [
    {
     "data": {
      "text/html": [
       "<div>\n",
       "<style scoped>\n",
       "    .dataframe tbody tr th:only-of-type {\n",
       "        vertical-align: middle;\n",
       "    }\n",
       "\n",
       "    .dataframe tbody tr th {\n",
       "        vertical-align: top;\n",
       "    }\n",
       "\n",
       "    .dataframe thead th {\n",
       "        text-align: right;\n",
       "    }\n",
       "</style>\n",
       "<table border=\"1\" class=\"dataframe\">\n",
       "  <thead>\n",
       "    <tr style=\"text-align: right;\">\n",
       "      <th></th>\n",
       "      <th>Fresh</th>\n",
       "      <th>Milk</th>\n",
       "      <th>Grocery</th>\n",
       "      <th>Frozen</th>\n",
       "      <th>Detergents_Paper</th>\n",
       "      <th>Delicassen</th>\n",
       "    </tr>\n",
       "  </thead>\n",
       "  <tbody>\n",
       "    <tr>\n",
       "      <th>0</th>\n",
       "      <td>0.814831</td>\n",
       "      <td>-0.245117</td>\n",
       "      <td>-0.453268</td>\n",
       "      <td>0.106858</td>\n",
       "      <td>-0.243035</td>\n",
       "      <td>0.005641</td>\n",
       "    </tr>\n",
       "    <tr>\n",
       "      <th>1</th>\n",
       "      <td>0.568696</td>\n",
       "      <td>0.404908</td>\n",
       "      <td>0.649438</td>\n",
       "      <td>0.026229</td>\n",
       "      <td>0.299213</td>\n",
       "      <td>0.025465</td>\n",
       "    </tr>\n",
       "  </tbody>\n",
       "</table>\n",
       "</div>"
      ],
      "text/plain": [
       "      Fresh      Milk   Grocery    Frozen  Detergents_Paper  Delicassen\n",
       "0  0.814831 -0.245117 -0.453268  0.106858         -0.243035    0.005641\n",
       "1  0.568696  0.404908  0.649438  0.026229          0.299213    0.025465"
      ]
     },
     "execution_count": 745,
     "metadata": {},
     "output_type": "execute_result"
    }
   ],
   "source": [
    "# For correlations between the components and original variables \n",
    "# using the components_ method of the PCA() object.\n",
    "col = ['Fresh','Milk','Grocery','Frozen','Detergents_Paper','Delicassen']\n",
    "components = pd.DataFrame(pComp.components_, columns = col)\n",
    "components\n",
    "# For the component 0 : fresh is significant\n",
    "# For the component 1 : Fresh, Milk & Grocery are significant so this component is \n",
    "  # correlated well with Fresh, Milk & Grocery"
   ]
  },
  {
   "cell_type": "code",
   "execution_count": 746,
   "metadata": {
    "slideshow": {
     "slide_type": "subslide"
    }
   },
   "outputs": [],
   "source": [
    "# I need to create a new dataframe with my components\n",
    "info = pca.fit_transform(df.iloc[:, 2:9])\n",
    "new_data = pd.DataFrame(info, columns=['PC-0', 'PC-1'])"
   ]
  },
  {
   "cell_type": "code",
   "execution_count": 747,
   "metadata": {
    "scrolled": true,
    "slideshow": {
     "slide_type": "fragment"
    }
   },
   "outputs": [
    {
     "data": {
      "text/html": [
       "<div>\n",
       "<style scoped>\n",
       "    .dataframe tbody tr th:only-of-type {\n",
       "        vertical-align: middle;\n",
       "    }\n",
       "\n",
       "    .dataframe tbody tr th {\n",
       "        vertical-align: top;\n",
       "    }\n",
       "\n",
       "    .dataframe thead th {\n",
       "        text-align: right;\n",
       "    }\n",
       "</style>\n",
       "<table border=\"1\" class=\"dataframe\">\n",
       "  <thead>\n",
       "    <tr style=\"text-align: right;\">\n",
       "      <th></th>\n",
       "      <th>PC-0</th>\n",
       "      <th>PC-1</th>\n",
       "    </tr>\n",
       "  </thead>\n",
       "  <tbody>\n",
       "    <tr>\n",
       "      <th>0</th>\n",
       "      <td>-417.586207</td>\n",
       "      <td>2524.283483</td>\n",
       "    </tr>\n",
       "    <tr>\n",
       "      <th>1</th>\n",
       "      <td>-5920.426502</td>\n",
       "      <td>935.505644</td>\n",
       "    </tr>\n",
       "    <tr>\n",
       "      <th>2</th>\n",
       "      <td>4846.301041</td>\n",
       "      <td>-3205.999972</td>\n",
       "    </tr>\n",
       "    <tr>\n",
       "      <th>3</th>\n",
       "      <td>-1361.977576</td>\n",
       "      <td>-1722.704081</td>\n",
       "    </tr>\n",
       "    <tr>\n",
       "      <th>4</th>\n",
       "      <td>898.990939</td>\n",
       "      <td>-653.366284</td>\n",
       "    </tr>\n",
       "    <tr>\n",
       "      <th>5</th>\n",
       "      <td>-4253.210416</td>\n",
       "      <td>-799.224628</td>\n",
       "    </tr>\n",
       "    <tr>\n",
       "      <th>6</th>\n",
       "      <td>-3536.602743</td>\n",
       "      <td>-4907.247770</td>\n",
       "    </tr>\n",
       "    <tr>\n",
       "      <th>7</th>\n",
       "      <td>-12379.417620</td>\n",
       "      <td>8134.246387</td>\n",
       "    </tr>\n",
       "    <tr>\n",
       "      <th>8</th>\n",
       "      <td>-9762.161936</td>\n",
       "      <td>135.463908</td>\n",
       "    </tr>\n",
       "    <tr>\n",
       "      <th>9</th>\n",
       "      <td>4080.026650</td>\n",
       "      <td>-3257.729397</td>\n",
       "    </tr>\n",
       "    <tr>\n",
       "      <th>10</th>\n",
       "      <td>12269.662837</td>\n",
       "      <td>17562.043745</td>\n",
       "    </tr>\n",
       "    <tr>\n",
       "      <th>11</th>\n",
       "      <td>3352.603968</td>\n",
       "      <td>12072.398011</td>\n",
       "    </tr>\n",
       "    <tr>\n",
       "      <th>12</th>\n",
       "      <td>6774.703307</td>\n",
       "      <td>12940.710616</td>\n",
       "    </tr>\n",
       "    <tr>\n",
       "      <th>13</th>\n",
       "      <td>1832.709977</td>\n",
       "      <td>-5267.744965</td>\n",
       "    </tr>\n",
       "    <tr>\n",
       "      <th>14</th>\n",
       "      <td>-12226.287147</td>\n",
       "      <td>-939.058308</td>\n",
       "    </tr>\n",
       "    <tr>\n",
       "      <th>15</th>\n",
       "      <td>4282.142131</td>\n",
       "      <td>6325.101474</td>\n",
       "    </tr>\n",
       "    <tr>\n",
       "      <th>16</th>\n",
       "      <td>-3426.771020</td>\n",
       "      <td>-1975.798636</td>\n",
       "    </tr>\n",
       "    <tr>\n",
       "      <th>17</th>\n",
       "      <td>6353.065564</td>\n",
       "      <td>1214.303217</td>\n",
       "    </tr>\n",
       "    <tr>\n",
       "      <th>18</th>\n",
       "      <td>-642.046945</td>\n",
       "      <td>-9301.099378</td>\n",
       "    </tr>\n",
       "    <tr>\n",
       "      <th>19</th>\n",
       "      <td>3414.048213</td>\n",
       "      <td>2702.185449</td>\n",
       "    </tr>\n",
       "    <tr>\n",
       "      <th>20</th>\n",
       "      <td>2488.217830</td>\n",
       "      <td>-6288.120530</td>\n",
       "    </tr>\n",
       "    <tr>\n",
       "      <th>21</th>\n",
       "      <td>5758.726470</td>\n",
       "      <td>-3863.282543</td>\n",
       "    </tr>\n",
       "    <tr>\n",
       "      <th>22</th>\n",
       "      <td>28948.741790</td>\n",
       "      <td>13091.831073</td>\n",
       "    </tr>\n",
       "    <tr>\n",
       "      <th>23</th>\n",
       "      <td>4705.266593</td>\n",
       "      <td>5778.623002</td>\n",
       "    </tr>\n",
       "    <tr>\n",
       "      <th>24</th>\n",
       "      <td>-4653.142840</td>\n",
       "      <td>-8738.278917</td>\n",
       "    </tr>\n",
       "    <tr>\n",
       "      <th>25</th>\n",
       "      <td>11475.618128</td>\n",
       "      <td>661.448261</td>\n",
       "    </tr>\n",
       "    <tr>\n",
       "      <th>26</th>\n",
       "      <td>15976.545501</td>\n",
       "      <td>9558.315079</td>\n",
       "    </tr>\n",
       "    <tr>\n",
       "      <th>27</th>\n",
       "      <td>-4683.464664</td>\n",
       "      <td>-11050.252709</td>\n",
       "    </tr>\n",
       "    <tr>\n",
       "      <th>28</th>\n",
       "      <td>-11078.494936</td>\n",
       "      <td>-3221.660375</td>\n",
       "    </tr>\n",
       "    <tr>\n",
       "      <th>29</th>\n",
       "      <td>-1582.719491</td>\n",
       "      <td>8677.946840</td>\n",
       "    </tr>\n",
       "    <tr>\n",
       "      <th>...</th>\n",
       "      <td>...</td>\n",
       "      <td>...</td>\n",
       "    </tr>\n",
       "    <tr>\n",
       "      <th>383</th>\n",
       "      <td>-1939.952795</td>\n",
       "      <td>-3044.002892</td>\n",
       "    </tr>\n",
       "    <tr>\n",
       "      <th>384</th>\n",
       "      <td>-1797.415580</td>\n",
       "      <td>-6115.121379</td>\n",
       "    </tr>\n",
       "    <tr>\n",
       "      <th>385</th>\n",
       "      <td>-11463.336837</td>\n",
       "      <td>-3879.805758</td>\n",
       "    </tr>\n",
       "    <tr>\n",
       "      <th>386</th>\n",
       "      <td>-2763.246248</td>\n",
       "      <td>-4428.029992</td>\n",
       "    </tr>\n",
       "    <tr>\n",
       "      <th>387</th>\n",
       "      <td>-1167.451500</td>\n",
       "      <td>-7425.114514</td>\n",
       "    </tr>\n",
       "    <tr>\n",
       "      <th>388</th>\n",
       "      <td>-3964.708380</td>\n",
       "      <td>-727.432908</td>\n",
       "    </tr>\n",
       "    <tr>\n",
       "      <th>389</th>\n",
       "      <td>-9915.665773</td>\n",
       "      <td>1729.900430</td>\n",
       "    </tr>\n",
       "    <tr>\n",
       "      <th>390</th>\n",
       "      <td>-7360.953320</td>\n",
       "      <td>-974.558655</td>\n",
       "    </tr>\n",
       "    <tr>\n",
       "      <th>391</th>\n",
       "      <td>-15931.665990</td>\n",
       "      <td>3607.899652</td>\n",
       "    </tr>\n",
       "    <tr>\n",
       "      <th>392</th>\n",
       "      <td>650.334743</td>\n",
       "      <td>-5797.725621</td>\n",
       "    </tr>\n",
       "    <tr>\n",
       "      <th>393</th>\n",
       "      <td>-9628.968184</td>\n",
       "      <td>992.127615</td>\n",
       "    </tr>\n",
       "    <tr>\n",
       "      <th>394</th>\n",
       "      <td>3575.004018</td>\n",
       "      <td>4299.393602</td>\n",
       "    </tr>\n",
       "    <tr>\n",
       "      <th>395</th>\n",
       "      <td>14820.932736</td>\n",
       "      <td>4276.530321</td>\n",
       "    </tr>\n",
       "    <tr>\n",
       "      <th>396</th>\n",
       "      <td>6649.662545</td>\n",
       "      <td>749.837602</td>\n",
       "    </tr>\n",
       "    <tr>\n",
       "      <th>397</th>\n",
       "      <td>2571.257178</td>\n",
       "      <td>5418.271693</td>\n",
       "    </tr>\n",
       "    <tr>\n",
       "      <th>398</th>\n",
       "      <td>4692.813594</td>\n",
       "      <td>-4804.741007</td>\n",
       "    </tr>\n",
       "    <tr>\n",
       "      <th>399</th>\n",
       "      <td>-3293.358747</td>\n",
       "      <td>7861.097545</td>\n",
       "    </tr>\n",
       "    <tr>\n",
       "      <th>400</th>\n",
       "      <td>15902.777392</td>\n",
       "      <td>14134.958053</td>\n",
       "    </tr>\n",
       "    <tr>\n",
       "      <th>401</th>\n",
       "      <td>-5503.237798</td>\n",
       "      <td>-6681.588688</td>\n",
       "    </tr>\n",
       "    <tr>\n",
       "      <th>402</th>\n",
       "      <td>633.094763</td>\n",
       "      <td>-6322.102821</td>\n",
       "    </tr>\n",
       "    <tr>\n",
       "      <th>403</th>\n",
       "      <td>-10297.136321</td>\n",
       "      <td>-21.647609</td>\n",
       "    </tr>\n",
       "    <tr>\n",
       "      <th>404</th>\n",
       "      <td>52.141869</td>\n",
       "      <td>-3103.412240</td>\n",
       "    </tr>\n",
       "    <tr>\n",
       "      <th>405</th>\n",
       "      <td>10148.134446</td>\n",
       "      <td>1641.054729</td>\n",
       "    </tr>\n",
       "    <tr>\n",
       "      <th>406</th>\n",
       "      <td>-4091.417932</td>\n",
       "      <td>-10756.903614</td>\n",
       "    </tr>\n",
       "    <tr>\n",
       "      <th>407</th>\n",
       "      <td>4222.962828</td>\n",
       "      <td>2702.827739</td>\n",
       "    </tr>\n",
       "    <tr>\n",
       "      <th>408</th>\n",
       "      <td>11029.074158</td>\n",
       "      <td>18294.663744</td>\n",
       "    </tr>\n",
       "    <tr>\n",
       "      <th>409</th>\n",
       "      <td>27412.483517</td>\n",
       "      <td>9249.765445</td>\n",
       "    </tr>\n",
       "    <tr>\n",
       "      <th>410</th>\n",
       "      <td>-13541.093999</td>\n",
       "      <td>24335.005501</td>\n",
       "    </tr>\n",
       "    <tr>\n",
       "      <th>411</th>\n",
       "      <td>2642.199091</td>\n",
       "      <td>-6105.343593</td>\n",
       "    </tr>\n",
       "    <tr>\n",
       "      <th>412</th>\n",
       "      <td>-3718.884578</td>\n",
       "      <td>-10292.168790</td>\n",
       "    </tr>\n",
       "  </tbody>\n",
       "</table>\n",
       "<p>413 rows × 2 columns</p>\n",
       "</div>"
      ],
      "text/plain": [
       "             PC-0          PC-1\n",
       "0     -417.586207   2524.283483\n",
       "1    -5920.426502    935.505644\n",
       "2     4846.301041  -3205.999972\n",
       "3    -1361.977576  -1722.704081\n",
       "4      898.990939   -653.366284\n",
       "5    -4253.210416   -799.224628\n",
       "6    -3536.602743  -4907.247770\n",
       "7   -12379.417620   8134.246387\n",
       "8    -9762.161936    135.463908\n",
       "9     4080.026650  -3257.729397\n",
       "10   12269.662837  17562.043745\n",
       "11    3352.603968  12072.398011\n",
       "12    6774.703307  12940.710616\n",
       "13    1832.709977  -5267.744965\n",
       "14  -12226.287147   -939.058308\n",
       "15    4282.142131   6325.101474\n",
       "16   -3426.771020  -1975.798636\n",
       "17    6353.065564   1214.303217\n",
       "18    -642.046945  -9301.099378\n",
       "19    3414.048213   2702.185449\n",
       "20    2488.217830  -6288.120530\n",
       "21    5758.726470  -3863.282543\n",
       "22   28948.741790  13091.831073\n",
       "23    4705.266593   5778.623002\n",
       "24   -4653.142840  -8738.278917\n",
       "25   11475.618128    661.448261\n",
       "26   15976.545501   9558.315079\n",
       "27   -4683.464664 -11050.252709\n",
       "28  -11078.494936  -3221.660375\n",
       "29   -1582.719491   8677.946840\n",
       "..            ...           ...\n",
       "383  -1939.952795  -3044.002892\n",
       "384  -1797.415580  -6115.121379\n",
       "385 -11463.336837  -3879.805758\n",
       "386  -2763.246248  -4428.029992\n",
       "387  -1167.451500  -7425.114514\n",
       "388  -3964.708380   -727.432908\n",
       "389  -9915.665773   1729.900430\n",
       "390  -7360.953320   -974.558655\n",
       "391 -15931.665990   3607.899652\n",
       "392    650.334743  -5797.725621\n",
       "393  -9628.968184    992.127615\n",
       "394   3575.004018   4299.393602\n",
       "395  14820.932736   4276.530321\n",
       "396   6649.662545    749.837602\n",
       "397   2571.257178   5418.271693\n",
       "398   4692.813594  -4804.741007\n",
       "399  -3293.358747   7861.097545\n",
       "400  15902.777392  14134.958053\n",
       "401  -5503.237798  -6681.588688\n",
       "402    633.094763  -6322.102821\n",
       "403 -10297.136321    -21.647609\n",
       "404     52.141869  -3103.412240\n",
       "405  10148.134446   1641.054729\n",
       "406  -4091.417932 -10756.903614\n",
       "407   4222.962828   2702.827739\n",
       "408  11029.074158  18294.663744\n",
       "409  27412.483517   9249.765445\n",
       "410 -13541.093999  24335.005501\n",
       "411   2642.199091  -6105.343593\n",
       "412  -3718.884578 -10292.168790\n",
       "\n",
       "[413 rows x 2 columns]"
      ]
     },
     "execution_count": 747,
     "metadata": {},
     "output_type": "execute_result"
    }
   ],
   "source": [
    "new_data"
   ]
  },
  {
   "cell_type": "markdown",
   "metadata": {
    "slideshow": {
     "slide_type": "subslide"
    }
   },
   "source": [
    "### Implementing the K Means Clustering "
   ]
  },
  {
   "cell_type": "markdown",
   "metadata": {
    "slideshow": {
     "slide_type": "fragment"
    }
   },
   "source": [
    "#### Kelbow"
   ]
  },
  {
   "cell_type": "code",
   "execution_count": 765,
   "metadata": {
    "slideshow": {
     "slide_type": "fragment"
    }
   },
   "outputs": [
    {
     "data": {
      "image/png": "[encoded data removed]",
      "text/plain": [
       "<Figure size 432x288 with 2 Axes>"
      ]
     },
     "metadata": {},
     "output_type": "display_data"
    }
   ],
   "source": [
    "# I will use KElbowVisualizer implements the “elbow” method,\n",
    " # to find the best amount of clusters to get most accurate results.  \n",
    "# The KElbowVisualizer also displays the amount of time to train \n",
    " # the clustering model per K as a dashed green line.\n",
    "#meanshift & dbscan + standardize the database \n",
    "model = cluster.KMeans()\n",
    "visualizer = KElbowVisualizer(model, k=(1,9))\n",
    "visualizer.fit(new_data)\n",
    "visualizer.poof()\n",
    "plt.show()\n",
    "# k = 4"
   ]
  },
  {
   "cell_type": "markdown",
   "metadata": {
    "slideshow": {
     "slide_type": "subslide"
    }
   },
   "source": [
    "#### K-means"
   ]
  },
  {
   "cell_type": "code",
   "execution_count": 749,
   "metadata": {
    "scrolled": false,
    "slideshow": {
     "slide_type": "fragment"
    }
   },
   "outputs": [
    {
     "data": {
      "image/png": "[encoded data removed]",
      "text/plain": [
       "<Figure size 1080x720 with 1 Axes>"
      ]
     },
     "metadata": {
      "needs_background": "light"
     },
     "output_type": "display_data"
    }
   ],
   "source": [
    "kmeans=KMeans(n_clusters=4)\n",
    "kmeansoutput=kmeans.fit(new_data)\n",
    "colors = np.array([\"red\", \"blue\", \"purple\", 'violet'])\n",
    "plt.figure('Clustering using K-means with k=4', figsize=(15, 10))\n",
    "plt.scatter(new_data.iloc[:, 0], new_data.iloc[:, 1], c=colors[kmeansoutput.labels_] )\n",
    "plt.xlabel(f'PC-0 ({round(100*pComp.explained_variance_ratio_[0], 0)}%)',fontsize=15)\n",
    "plt.ylabel(f'PC-1 ({round(100*pComp.explained_variance_ratio_[1], 0)}%)',fontsize=15)\n",
    "plt.title('Clustering using K-means with k=4',fontsize=17)\n",
    "plt.show()\n",
    "# This plot shows 4 groups : they stand out significantly from each other"
   ]
  },
  {
   "cell_type": "code",
   "execution_count": 750,
   "metadata": {
    "scrolled": true,
    "slideshow": {
     "slide_type": "skip"
    }
   },
   "outputs": [
    {
     "data": {
      "image/png": "[encoded data removed]",
      "text/plain": [
       "<Figure size 432x288 with 2 Axes>"
      ]
     },
     "metadata": {
      "needs_background": "light"
     },
     "output_type": "display_data"
    }
   ],
   "source": [
    "# Instantiate the clustering model and visualizer\n",
    "visualizer = InterclusterDistance(KMeans(4))\n",
    "\n",
    "visualizer.fit(new_data) # Fit the training data to the visualizer\n",
    "visualizer.poof() # Draw/show/poof the data\n",
    "\n",
    "# The closer to centers are in the visualization, \n",
    " # the closer they are in the original feature space.\n",
    "# Note however, that because two clusters overlap in the 2D space, \n",
    " # it does not imply that they overlap in the original feature space."
   ]
  },
  {
   "cell_type": "markdown",
   "metadata": {
    "slideshow": {
     "slide_type": "slide"
    }
   },
   "source": [
    "## Implementing the K Means Clustering to the database"
   ]
  },
  {
   "cell_type": "code",
   "execution_count": 751,
   "metadata": {
    "scrolled": true,
    "slideshow": {
     "slide_type": "skip"
    }
   },
   "outputs": [
    {
     "data": {
      "text/html": [
       "<div>\n",
       "<style scoped>\n",
       "    .dataframe tbody tr th:only-of-type {\n",
       "        vertical-align: middle;\n",
       "    }\n",
       "\n",
       "    .dataframe tbody tr th {\n",
       "        vertical-align: top;\n",
       "    }\n",
       "\n",
       "    .dataframe thead th {\n",
       "        text-align: right;\n",
       "    }\n",
       "</style>\n",
       "<table border=\"1\" class=\"dataframe\">\n",
       "  <thead>\n",
       "    <tr style=\"text-align: right;\">\n",
       "      <th></th>\n",
       "      <th>Channel</th>\n",
       "      <th>Region</th>\n",
       "      <th>Fresh</th>\n",
       "      <th>Milk</th>\n",
       "      <th>Grocery</th>\n",
       "      <th>Frozen</th>\n",
       "      <th>Detergents_Paper</th>\n",
       "      <th>Delicassen</th>\n",
       "    </tr>\n",
       "  </thead>\n",
       "  <tbody>\n",
       "    <tr>\n",
       "      <th>0</th>\n",
       "      <td>2</td>\n",
       "      <td>3</td>\n",
       "      <td>12669</td>\n",
       "      <td>9656</td>\n",
       "      <td>7561</td>\n",
       "      <td>214</td>\n",
       "      <td>2674</td>\n",
       "      <td>1338</td>\n",
       "    </tr>\n",
       "    <tr>\n",
       "      <th>1</th>\n",
       "      <td>2</td>\n",
       "      <td>3</td>\n",
       "      <td>7057</td>\n",
       "      <td>9810</td>\n",
       "      <td>9568</td>\n",
       "      <td>1762</td>\n",
       "      <td>3293</td>\n",
       "      <td>1776</td>\n",
       "    </tr>\n",
       "    <tr>\n",
       "      <th>3</th>\n",
       "      <td>1</td>\n",
       "      <td>3</td>\n",
       "      <td>13265</td>\n",
       "      <td>1196</td>\n",
       "      <td>4221</td>\n",
       "      <td>6404</td>\n",
       "      <td>507</td>\n",
       "      <td>1788</td>\n",
       "    </tr>\n",
       "    <tr>\n",
       "      <th>5</th>\n",
       "      <td>2</td>\n",
       "      <td>3</td>\n",
       "      <td>9413</td>\n",
       "      <td>8259</td>\n",
       "      <td>5126</td>\n",
       "      <td>666</td>\n",
       "      <td>1795</td>\n",
       "      <td>1451</td>\n",
       "    </tr>\n",
       "    <tr>\n",
       "      <th>6</th>\n",
       "      <td>2</td>\n",
       "      <td>3</td>\n",
       "      <td>12126</td>\n",
       "      <td>3199</td>\n",
       "      <td>6975</td>\n",
       "      <td>480</td>\n",
       "      <td>3140</td>\n",
       "      <td>545</td>\n",
       "    </tr>\n",
       "    <tr>\n",
       "      <th>7</th>\n",
       "      <td>2</td>\n",
       "      <td>3</td>\n",
       "      <td>7579</td>\n",
       "      <td>4956</td>\n",
       "      <td>9426</td>\n",
       "      <td>1669</td>\n",
       "      <td>3321</td>\n",
       "      <td>2566</td>\n",
       "    </tr>\n",
       "    <tr>\n",
       "      <th>8</th>\n",
       "      <td>1</td>\n",
       "      <td>3</td>\n",
       "      <td>5963</td>\n",
       "      <td>3648</td>\n",
       "      <td>6192</td>\n",
       "      <td>425</td>\n",
       "      <td>1716</td>\n",
       "      <td>750</td>\n",
       "    </tr>\n",
       "    <tr>\n",
       "      <th>9</th>\n",
       "      <td>2</td>\n",
       "      <td>3</td>\n",
       "      <td>6006</td>\n",
       "      <td>11093</td>\n",
       "      <td>18881</td>\n",
       "      <td>1159</td>\n",
       "      <td>7425</td>\n",
       "      <td>2098</td>\n",
       "    </tr>\n",
       "    <tr>\n",
       "      <th>10</th>\n",
       "      <td>2</td>\n",
       "      <td>3</td>\n",
       "      <td>3366</td>\n",
       "      <td>5403</td>\n",
       "      <td>12974</td>\n",
       "      <td>4400</td>\n",
       "      <td>5977</td>\n",
       "      <td>1744</td>\n",
       "    </tr>\n",
       "    <tr>\n",
       "      <th>11</th>\n",
       "      <td>2</td>\n",
       "      <td>3</td>\n",
       "      <td>13146</td>\n",
       "      <td>1124</td>\n",
       "      <td>4523</td>\n",
       "      <td>1420</td>\n",
       "      <td>549</td>\n",
       "      <td>497</td>\n",
       "    </tr>\n",
       "    <tr>\n",
       "      <th>12</th>\n",
       "      <td>2</td>\n",
       "      <td>3</td>\n",
       "      <td>31714</td>\n",
       "      <td>12319</td>\n",
       "      <td>11757</td>\n",
       "      <td>287</td>\n",
       "      <td>3881</td>\n",
       "      <td>2931</td>\n",
       "    </tr>\n",
       "    <tr>\n",
       "      <th>13</th>\n",
       "      <td>2</td>\n",
       "      <td>3</td>\n",
       "      <td>21217</td>\n",
       "      <td>6208</td>\n",
       "      <td>14982</td>\n",
       "      <td>3095</td>\n",
       "      <td>6707</td>\n",
       "      <td>602</td>\n",
       "    </tr>\n",
       "    <tr>\n",
       "      <th>14</th>\n",
       "      <td>2</td>\n",
       "      <td>3</td>\n",
       "      <td>24653</td>\n",
       "      <td>9465</td>\n",
       "      <td>12091</td>\n",
       "      <td>294</td>\n",
       "      <td>5058</td>\n",
       "      <td>2168</td>\n",
       "    </tr>\n",
       "    <tr>\n",
       "      <th>15</th>\n",
       "      <td>1</td>\n",
       "      <td>3</td>\n",
       "      <td>10253</td>\n",
       "      <td>1114</td>\n",
       "      <td>3821</td>\n",
       "      <td>397</td>\n",
       "      <td>964</td>\n",
       "      <td>412</td>\n",
       "    </tr>\n",
       "    <tr>\n",
       "      <th>16</th>\n",
       "      <td>2</td>\n",
       "      <td>3</td>\n",
       "      <td>1020</td>\n",
       "      <td>8816</td>\n",
       "      <td>12121</td>\n",
       "      <td>134</td>\n",
       "      <td>4508</td>\n",
       "      <td>1080</td>\n",
       "    </tr>\n",
       "    <tr>\n",
       "      <th>18</th>\n",
       "      <td>2</td>\n",
       "      <td>3</td>\n",
       "      <td>18601</td>\n",
       "      <td>6327</td>\n",
       "      <td>10099</td>\n",
       "      <td>2205</td>\n",
       "      <td>2767</td>\n",
       "      <td>3181</td>\n",
       "    </tr>\n",
       "    <tr>\n",
       "      <th>19</th>\n",
       "      <td>1</td>\n",
       "      <td>3</td>\n",
       "      <td>7780</td>\n",
       "      <td>2495</td>\n",
       "      <td>9464</td>\n",
       "      <td>669</td>\n",
       "      <td>2518</td>\n",
       "      <td>501</td>\n",
       "    </tr>\n",
       "    <tr>\n",
       "      <th>20</th>\n",
       "      <td>2</td>\n",
       "      <td>3</td>\n",
       "      <td>17546</td>\n",
       "      <td>4519</td>\n",
       "      <td>4602</td>\n",
       "      <td>1066</td>\n",
       "      <td>2259</td>\n",
       "      <td>2124</td>\n",
       "    </tr>\n",
       "    <tr>\n",
       "      <th>21</th>\n",
       "      <td>1</td>\n",
       "      <td>3</td>\n",
       "      <td>5567</td>\n",
       "      <td>871</td>\n",
       "      <td>2010</td>\n",
       "      <td>3383</td>\n",
       "      <td>375</td>\n",
       "      <td>569</td>\n",
       "    </tr>\n",
       "    <tr>\n",
       "      <th>25</th>\n",
       "      <td>2</td>\n",
       "      <td>3</td>\n",
       "      <td>16165</td>\n",
       "      <td>4230</td>\n",
       "      <td>7595</td>\n",
       "      <td>201</td>\n",
       "      <td>4003</td>\n",
       "      <td>57</td>\n",
       "    </tr>\n",
       "    <tr>\n",
       "      <th>26</th>\n",
       "      <td>1</td>\n",
       "      <td>3</td>\n",
       "      <td>9898</td>\n",
       "      <td>961</td>\n",
       "      <td>2861</td>\n",
       "      <td>3151</td>\n",
       "      <td>242</td>\n",
       "      <td>833</td>\n",
       "    </tr>\n",
       "    <tr>\n",
       "      <th>27</th>\n",
       "      <td>1</td>\n",
       "      <td>3</td>\n",
       "      <td>14276</td>\n",
       "      <td>803</td>\n",
       "      <td>3045</td>\n",
       "      <td>485</td>\n",
       "      <td>100</td>\n",
       "      <td>518</td>\n",
       "    </tr>\n",
       "    <tr>\n",
       "      <th>29</th>\n",
       "      <td>1</td>\n",
       "      <td>3</td>\n",
       "      <td>43088</td>\n",
       "      <td>2100</td>\n",
       "      <td>2609</td>\n",
       "      <td>1200</td>\n",
       "      <td>1107</td>\n",
       "      <td>823</td>\n",
       "    </tr>\n",
       "    <tr>\n",
       "      <th>30</th>\n",
       "      <td>1</td>\n",
       "      <td>3</td>\n",
       "      <td>18815</td>\n",
       "      <td>3610</td>\n",
       "      <td>11107</td>\n",
       "      <td>1148</td>\n",
       "      <td>2134</td>\n",
       "      <td>2963</td>\n",
       "    </tr>\n",
       "    <tr>\n",
       "      <th>31</th>\n",
       "      <td>1</td>\n",
       "      <td>3</td>\n",
       "      <td>2612</td>\n",
       "      <td>4339</td>\n",
       "      <td>3133</td>\n",
       "      <td>2088</td>\n",
       "      <td>820</td>\n",
       "      <td>985</td>\n",
       "    </tr>\n",
       "    <tr>\n",
       "      <th>32</th>\n",
       "      <td>1</td>\n",
       "      <td>3</td>\n",
       "      <td>21632</td>\n",
       "      <td>1318</td>\n",
       "      <td>2886</td>\n",
       "      <td>266</td>\n",
       "      <td>918</td>\n",
       "      <td>405</td>\n",
       "    </tr>\n",
       "    <tr>\n",
       "      <th>33</th>\n",
       "      <td>1</td>\n",
       "      <td>3</td>\n",
       "      <td>29729</td>\n",
       "      <td>4786</td>\n",
       "      <td>7326</td>\n",
       "      <td>6130</td>\n",
       "      <td>361</td>\n",
       "      <td>1083</td>\n",
       "    </tr>\n",
       "    <tr>\n",
       "      <th>34</th>\n",
       "      <td>1</td>\n",
       "      <td>3</td>\n",
       "      <td>1502</td>\n",
       "      <td>1979</td>\n",
       "      <td>2262</td>\n",
       "      <td>425</td>\n",
       "      <td>483</td>\n",
       "      <td>395</td>\n",
       "    </tr>\n",
       "    <tr>\n",
       "      <th>35</th>\n",
       "      <td>2</td>\n",
       "      <td>3</td>\n",
       "      <td>688</td>\n",
       "      <td>5491</td>\n",
       "      <td>11091</td>\n",
       "      <td>833</td>\n",
       "      <td>4239</td>\n",
       "      <td>436</td>\n",
       "    </tr>\n",
       "    <tr>\n",
       "      <th>37</th>\n",
       "      <td>2</td>\n",
       "      <td>3</td>\n",
       "      <td>15168</td>\n",
       "      <td>10556</td>\n",
       "      <td>12477</td>\n",
       "      <td>1920</td>\n",
       "      <td>6506</td>\n",
       "      <td>714</td>\n",
       "    </tr>\n",
       "    <tr>\n",
       "      <th>...</th>\n",
       "      <td>...</td>\n",
       "      <td>...</td>\n",
       "      <td>...</td>\n",
       "      <td>...</td>\n",
       "      <td>...</td>\n",
       "      <td>...</td>\n",
       "      <td>...</td>\n",
       "      <td>...</td>\n",
       "    </tr>\n",
       "    <tr>\n",
       "      <th>408</th>\n",
       "      <td>2</td>\n",
       "      <td>3</td>\n",
       "      <td>8257</td>\n",
       "      <td>3880</td>\n",
       "      <td>6407</td>\n",
       "      <td>1646</td>\n",
       "      <td>2730</td>\n",
       "      <td>344</td>\n",
       "    </tr>\n",
       "    <tr>\n",
       "      <th>410</th>\n",
       "      <td>1</td>\n",
       "      <td>3</td>\n",
       "      <td>6633</td>\n",
       "      <td>2096</td>\n",
       "      <td>4563</td>\n",
       "      <td>1389</td>\n",
       "      <td>1860</td>\n",
       "      <td>1892</td>\n",
       "    </tr>\n",
       "    <tr>\n",
       "      <th>412</th>\n",
       "      <td>1</td>\n",
       "      <td>3</td>\n",
       "      <td>97</td>\n",
       "      <td>3605</td>\n",
       "      <td>12400</td>\n",
       "      <td>98</td>\n",
       "      <td>2970</td>\n",
       "      <td>62</td>\n",
       "    </tr>\n",
       "    <tr>\n",
       "      <th>413</th>\n",
       "      <td>1</td>\n",
       "      <td>3</td>\n",
       "      <td>4983</td>\n",
       "      <td>4859</td>\n",
       "      <td>6633</td>\n",
       "      <td>17866</td>\n",
       "      <td>912</td>\n",
       "      <td>2435</td>\n",
       "    </tr>\n",
       "    <tr>\n",
       "      <th>414</th>\n",
       "      <td>1</td>\n",
       "      <td>3</td>\n",
       "      <td>5969</td>\n",
       "      <td>1990</td>\n",
       "      <td>3417</td>\n",
       "      <td>5679</td>\n",
       "      <td>1135</td>\n",
       "      <td>290</td>\n",
       "    </tr>\n",
       "    <tr>\n",
       "      <th>415</th>\n",
       "      <td>2</td>\n",
       "      <td>3</td>\n",
       "      <td>7842</td>\n",
       "      <td>6046</td>\n",
       "      <td>8552</td>\n",
       "      <td>1691</td>\n",
       "      <td>3540</td>\n",
       "      <td>1874</td>\n",
       "    </tr>\n",
       "    <tr>\n",
       "      <th>416</th>\n",
       "      <td>2</td>\n",
       "      <td>3</td>\n",
       "      <td>4389</td>\n",
       "      <td>10940</td>\n",
       "      <td>10908</td>\n",
       "      <td>848</td>\n",
       "      <td>6728</td>\n",
       "      <td>993</td>\n",
       "    </tr>\n",
       "    <tr>\n",
       "      <th>417</th>\n",
       "      <td>1</td>\n",
       "      <td>3</td>\n",
       "      <td>5065</td>\n",
       "      <td>5499</td>\n",
       "      <td>11055</td>\n",
       "      <td>364</td>\n",
       "      <td>3485</td>\n",
       "      <td>1063</td>\n",
       "    </tr>\n",
       "    <tr>\n",
       "      <th>418</th>\n",
       "      <td>2</td>\n",
       "      <td>3</td>\n",
       "      <td>660</td>\n",
       "      <td>8494</td>\n",
       "      <td>18622</td>\n",
       "      <td>133</td>\n",
       "      <td>6740</td>\n",
       "      <td>776</td>\n",
       "    </tr>\n",
       "    <tr>\n",
       "      <th>419</th>\n",
       "      <td>1</td>\n",
       "      <td>3</td>\n",
       "      <td>8861</td>\n",
       "      <td>3783</td>\n",
       "      <td>2223</td>\n",
       "      <td>633</td>\n",
       "      <td>1580</td>\n",
       "      <td>1521</td>\n",
       "    </tr>\n",
       "    <tr>\n",
       "      <th>420</th>\n",
       "      <td>1</td>\n",
       "      <td>3</td>\n",
       "      <td>4456</td>\n",
       "      <td>5266</td>\n",
       "      <td>13227</td>\n",
       "      <td>25</td>\n",
       "      <td>6818</td>\n",
       "      <td>1393</td>\n",
       "    </tr>\n",
       "    <tr>\n",
       "      <th>421</th>\n",
       "      <td>2</td>\n",
       "      <td>3</td>\n",
       "      <td>17063</td>\n",
       "      <td>4847</td>\n",
       "      <td>9053</td>\n",
       "      <td>1031</td>\n",
       "      <td>3415</td>\n",
       "      <td>1784</td>\n",
       "    </tr>\n",
       "    <tr>\n",
       "      <th>422</th>\n",
       "      <td>1</td>\n",
       "      <td>3</td>\n",
       "      <td>26400</td>\n",
       "      <td>1377</td>\n",
       "      <td>4172</td>\n",
       "      <td>830</td>\n",
       "      <td>948</td>\n",
       "      <td>1218</td>\n",
       "    </tr>\n",
       "    <tr>\n",
       "      <th>423</th>\n",
       "      <td>2</td>\n",
       "      <td>3</td>\n",
       "      <td>17565</td>\n",
       "      <td>3686</td>\n",
       "      <td>4657</td>\n",
       "      <td>1059</td>\n",
       "      <td>1803</td>\n",
       "      <td>668</td>\n",
       "    </tr>\n",
       "    <tr>\n",
       "      <th>424</th>\n",
       "      <td>2</td>\n",
       "      <td>3</td>\n",
       "      <td>16980</td>\n",
       "      <td>2884</td>\n",
       "      <td>12232</td>\n",
       "      <td>874</td>\n",
       "      <td>3213</td>\n",
       "      <td>249</td>\n",
       "    </tr>\n",
       "    <tr>\n",
       "      <th>425</th>\n",
       "      <td>1</td>\n",
       "      <td>3</td>\n",
       "      <td>11243</td>\n",
       "      <td>2408</td>\n",
       "      <td>2593</td>\n",
       "      <td>15348</td>\n",
       "      <td>108</td>\n",
       "      <td>1886</td>\n",
       "    </tr>\n",
       "    <tr>\n",
       "      <th>426</th>\n",
       "      <td>1</td>\n",
       "      <td>3</td>\n",
       "      <td>13134</td>\n",
       "      <td>9347</td>\n",
       "      <td>14316</td>\n",
       "      <td>3141</td>\n",
       "      <td>5079</td>\n",
       "      <td>1894</td>\n",
       "    </tr>\n",
       "    <tr>\n",
       "      <th>427</th>\n",
       "      <td>1</td>\n",
       "      <td>3</td>\n",
       "      <td>31012</td>\n",
       "      <td>16687</td>\n",
       "      <td>5429</td>\n",
       "      <td>15082</td>\n",
       "      <td>439</td>\n",
       "      <td>1163</td>\n",
       "    </tr>\n",
       "    <tr>\n",
       "      <th>428</th>\n",
       "      <td>1</td>\n",
       "      <td>3</td>\n",
       "      <td>3047</td>\n",
       "      <td>5970</td>\n",
       "      <td>4910</td>\n",
       "      <td>2198</td>\n",
       "      <td>850</td>\n",
       "      <td>317</td>\n",
       "    </tr>\n",
       "    <tr>\n",
       "      <th>429</th>\n",
       "      <td>1</td>\n",
       "      <td>3</td>\n",
       "      <td>8607</td>\n",
       "      <td>1750</td>\n",
       "      <td>3580</td>\n",
       "      <td>47</td>\n",
       "      <td>84</td>\n",
       "      <td>2501</td>\n",
       "    </tr>\n",
       "    <tr>\n",
       "      <th>430</th>\n",
       "      <td>1</td>\n",
       "      <td>3</td>\n",
       "      <td>3097</td>\n",
       "      <td>4230</td>\n",
       "      <td>16483</td>\n",
       "      <td>575</td>\n",
       "      <td>241</td>\n",
       "      <td>2080</td>\n",
       "    </tr>\n",
       "    <tr>\n",
       "      <th>431</th>\n",
       "      <td>1</td>\n",
       "      <td>3</td>\n",
       "      <td>8533</td>\n",
       "      <td>5506</td>\n",
       "      <td>5160</td>\n",
       "      <td>13486</td>\n",
       "      <td>1377</td>\n",
       "      <td>1498</td>\n",
       "    </tr>\n",
       "    <tr>\n",
       "      <th>432</th>\n",
       "      <td>1</td>\n",
       "      <td>3</td>\n",
       "      <td>21117</td>\n",
       "      <td>1162</td>\n",
       "      <td>4754</td>\n",
       "      <td>269</td>\n",
       "      <td>1328</td>\n",
       "      <td>395</td>\n",
       "    </tr>\n",
       "    <tr>\n",
       "      <th>433</th>\n",
       "      <td>1</td>\n",
       "      <td>3</td>\n",
       "      <td>1982</td>\n",
       "      <td>3218</td>\n",
       "      <td>1493</td>\n",
       "      <td>1541</td>\n",
       "      <td>356</td>\n",
       "      <td>1449</td>\n",
       "    </tr>\n",
       "    <tr>\n",
       "      <th>434</th>\n",
       "      <td>1</td>\n",
       "      <td>3</td>\n",
       "      <td>16731</td>\n",
       "      <td>3922</td>\n",
       "      <td>7994</td>\n",
       "      <td>688</td>\n",
       "      <td>2371</td>\n",
       "      <td>838</td>\n",
       "    </tr>\n",
       "    <tr>\n",
       "      <th>435</th>\n",
       "      <td>1</td>\n",
       "      <td>3</td>\n",
       "      <td>29703</td>\n",
       "      <td>12051</td>\n",
       "      <td>16027</td>\n",
       "      <td>13135</td>\n",
       "      <td>182</td>\n",
       "      <td>2204</td>\n",
       "    </tr>\n",
       "    <tr>\n",
       "      <th>436</th>\n",
       "      <td>1</td>\n",
       "      <td>3</td>\n",
       "      <td>39228</td>\n",
       "      <td>1431</td>\n",
       "      <td>764</td>\n",
       "      <td>4510</td>\n",
       "      <td>93</td>\n",
       "      <td>2346</td>\n",
       "    </tr>\n",
       "    <tr>\n",
       "      <th>437</th>\n",
       "      <td>2</td>\n",
       "      <td>3</td>\n",
       "      <td>14531</td>\n",
       "      <td>15488</td>\n",
       "      <td>30243</td>\n",
       "      <td>437</td>\n",
       "      <td>14841</td>\n",
       "      <td>1867</td>\n",
       "    </tr>\n",
       "    <tr>\n",
       "      <th>438</th>\n",
       "      <td>1</td>\n",
       "      <td>3</td>\n",
       "      <td>10290</td>\n",
       "      <td>1981</td>\n",
       "      <td>2232</td>\n",
       "      <td>1038</td>\n",
       "      <td>168</td>\n",
       "      <td>2125</td>\n",
       "    </tr>\n",
       "    <tr>\n",
       "      <th>439</th>\n",
       "      <td>1</td>\n",
       "      <td>3</td>\n",
       "      <td>2787</td>\n",
       "      <td>1698</td>\n",
       "      <td>2510</td>\n",
       "      <td>65</td>\n",
       "      <td>477</td>\n",
       "      <td>52</td>\n",
       "    </tr>\n",
       "  </tbody>\n",
       "</table>\n",
       "<p>413 rows × 8 columns</p>\n",
       "</div>"
      ],
      "text/plain": [
       "     Channel  Region  Fresh   Milk  Grocery  Frozen  Detergents_Paper  \\\n",
       "0          2       3  12669   9656     7561     214              2674   \n",
       "1          2       3   7057   9810     9568    1762              3293   \n",
       "3          1       3  13265   1196     4221    6404               507   \n",
       "5          2       3   9413   8259     5126     666              1795   \n",
       "6          2       3  12126   3199     6975     480              3140   \n",
       "7          2       3   7579   4956     9426    1669              3321   \n",
       "8          1       3   5963   3648     6192     425              1716   \n",
       "9          2       3   6006  11093    18881    1159              7425   \n",
       "10         2       3   3366   5403    12974    4400              5977   \n",
       "11         2       3  13146   1124     4523    1420               549   \n",
       "12         2       3  31714  12319    11757     287              3881   \n",
       "13         2       3  21217   6208    14982    3095              6707   \n",
       "14         2       3  24653   9465    12091     294              5058   \n",
       "15         1       3  10253   1114     3821     397               964   \n",
       "16         2       3   1020   8816    12121     134              4508   \n",
       "18         2       3  18601   6327    10099    2205              2767   \n",
       "19         1       3   7780   2495     9464     669              2518   \n",
       "20         2       3  17546   4519     4602    1066              2259   \n",
       "21         1       3   5567    871     2010    3383               375   \n",
       "25         2       3  16165   4230     7595     201              4003   \n",
       "26         1       3   9898    961     2861    3151               242   \n",
       "27         1       3  14276    803     3045     485               100   \n",
       "29         1       3  43088   2100     2609    1200              1107   \n",
       "30         1       3  18815   3610    11107    1148              2134   \n",
       "31         1       3   2612   4339     3133    2088               820   \n",
       "32         1       3  21632   1318     2886     266               918   \n",
       "33         1       3  29729   4786     7326    6130               361   \n",
       "34         1       3   1502   1979     2262     425               483   \n",
       "35         2       3    688   5491    11091     833              4239   \n",
       "37         2       3  15168  10556    12477    1920              6506   \n",
       "..       ...     ...    ...    ...      ...     ...               ...   \n",
       "408        2       3   8257   3880     6407    1646              2730   \n",
       "410        1       3   6633   2096     4563    1389              1860   \n",
       "412        1       3     97   3605    12400      98              2970   \n",
       "413        1       3   4983   4859     6633   17866               912   \n",
       "414        1       3   5969   1990     3417    5679              1135   \n",
       "415        2       3   7842   6046     8552    1691              3540   \n",
       "416        2       3   4389  10940    10908     848              6728   \n",
       "417        1       3   5065   5499    11055     364              3485   \n",
       "418        2       3    660   8494    18622     133              6740   \n",
       "419        1       3   8861   3783     2223     633              1580   \n",
       "420        1       3   4456   5266    13227      25              6818   \n",
       "421        2       3  17063   4847     9053    1031              3415   \n",
       "422        1       3  26400   1377     4172     830               948   \n",
       "423        2       3  17565   3686     4657    1059              1803   \n",
       "424        2       3  16980   2884    12232     874              3213   \n",
       "425        1       3  11243   2408     2593   15348               108   \n",
       "426        1       3  13134   9347    14316    3141              5079   \n",
       "427        1       3  31012  16687     5429   15082               439   \n",
       "428        1       3   3047   5970     4910    2198               850   \n",
       "429        1       3   8607   1750     3580      47                84   \n",
       "430        1       3   3097   4230    16483     575               241   \n",
       "431        1       3   8533   5506     5160   13486              1377   \n",
       "432        1       3  21117   1162     4754     269              1328   \n",
       "433        1       3   1982   3218     1493    1541               356   \n",
       "434        1       3  16731   3922     7994     688              2371   \n",
       "435        1       3  29703  12051    16027   13135               182   \n",
       "436        1       3  39228   1431      764    4510                93   \n",
       "437        2       3  14531  15488    30243     437             14841   \n",
       "438        1       3  10290   1981     2232    1038               168   \n",
       "439        1       3   2787   1698     2510      65               477   \n",
       "\n",
       "     Delicassen  \n",
       "0          1338  \n",
       "1          1776  \n",
       "3          1788  \n",
       "5          1451  \n",
       "6           545  \n",
       "7          2566  \n",
       "8           750  \n",
       "9          2098  \n",
       "10         1744  \n",
       "11          497  \n",
       "12         2931  \n",
       "13          602  \n",
       "14         2168  \n",
       "15          412  \n",
       "16         1080  \n",
       "18         3181  \n",
       "19          501  \n",
       "20         2124  \n",
       "21          569  \n",
       "25           57  \n",
       "26          833  \n",
       "27          518  \n",
       "29          823  \n",
       "30         2963  \n",
       "31          985  \n",
       "32          405  \n",
       "33         1083  \n",
       "34          395  \n",
       "35          436  \n",
       "37          714  \n",
       "..          ...  \n",
       "408         344  \n",
       "410        1892  \n",
       "412          62  \n",
       "413        2435  \n",
       "414         290  \n",
       "415        1874  \n",
       "416         993  \n",
       "417        1063  \n",
       "418         776  \n",
       "419        1521  \n",
       "420        1393  \n",
       "421        1784  \n",
       "422        1218  \n",
       "423         668  \n",
       "424         249  \n",
       "425        1886  \n",
       "426        1894  \n",
       "427        1163  \n",
       "428         317  \n",
       "429        2501  \n",
       "430        2080  \n",
       "431        1498  \n",
       "432         395  \n",
       "433        1449  \n",
       "434         838  \n",
       "435        2204  \n",
       "436        2346  \n",
       "437        1867  \n",
       "438        2125  \n",
       "439          52  \n",
       "\n",
       "[413 rows x 8 columns]"
      ]
     },
     "execution_count": 751,
     "metadata": {},
     "output_type": "execute_result"
    }
   ],
   "source": [
    "cust_pred = df.copy()\n",
    "cust_pred"
   ]
  },
  {
   "cell_type": "code",
   "execution_count": 752,
   "metadata": {
    "scrolled": true,
    "slideshow": {
     "slide_type": "fragment"
    }
   },
   "outputs": [
    {
     "data": {
      "text/plain": [
       "0    268\n",
       "1     89\n",
       "2     50\n",
       "3      6\n",
       "Name: clusters, dtype: int64"
      ]
     },
     "execution_count": 752,
     "metadata": {},
     "output_type": "execute_result"
    }
   ],
   "source": [
    "# Add new column with 4 clusters\n",
    "cust_pred['clusters'] = kmeans.predict(new_data)\n",
    "cust_pred['clusters'].value_counts()"
   ]
  },
  {
   "cell_type": "markdown",
   "metadata": {
    "slideshow": {
     "slide_type": "skip"
    }
   },
   "source": [
    "### Convert  Channel and Region to categorical variable"
   ]
  },
  {
   "cell_type": "code",
   "execution_count": 753,
   "metadata": {
    "slideshow": {
     "slide_type": "skip"
    }
   },
   "outputs": [],
   "source": [
    "cust_pred['Channel'] = cust_pred['Channel'].map({1:'Horeca', 2:'Retail'})"
   ]
  },
  {
   "cell_type": "code",
   "execution_count": 754,
   "metadata": {
    "slideshow": {
     "slide_type": "skip"
    }
   },
   "outputs": [],
   "source": [
    "cust_pred['Region'].replace([1,2,3],['Lisbon','Porto','Other'],inplace=True)"
   ]
  },
  {
   "cell_type": "code",
   "execution_count": 755,
   "metadata": {
    "collapsed": true,
    "slideshow": {
     "slide_type": "skip"
    }
   },
   "outputs": [
    {
     "data": {
      "text/html": [
       "<div>\n",
       "<style scoped>\n",
       "    .dataframe tbody tr th:only-of-type {\n",
       "        vertical-align: middle;\n",
       "    }\n",
       "\n",
       "    .dataframe tbody tr th {\n",
       "        vertical-align: top;\n",
       "    }\n",
       "\n",
       "    .dataframe thead th {\n",
       "        text-align: right;\n",
       "    }\n",
       "</style>\n",
       "<table border=\"1\" class=\"dataframe\">\n",
       "  <thead>\n",
       "    <tr style=\"text-align: right;\">\n",
       "      <th></th>\n",
       "      <th>Channel</th>\n",
       "      <th>Region</th>\n",
       "      <th>Fresh</th>\n",
       "      <th>Milk</th>\n",
       "      <th>Grocery</th>\n",
       "      <th>Frozen</th>\n",
       "      <th>Detergents_Paper</th>\n",
       "      <th>Delicassen</th>\n",
       "      <th>clusters</th>\n",
       "    </tr>\n",
       "  </thead>\n",
       "  <tbody>\n",
       "    <tr>\n",
       "      <th>0</th>\n",
       "      <td>Retail</td>\n",
       "      <td>Other</td>\n",
       "      <td>12669</td>\n",
       "      <td>9656</td>\n",
       "      <td>7561</td>\n",
       "      <td>214</td>\n",
       "      <td>2674</td>\n",
       "      <td>1338</td>\n",
       "      <td>0</td>\n",
       "    </tr>\n",
       "    <tr>\n",
       "      <th>3</th>\n",
       "      <td>Horeca</td>\n",
       "      <td>Other</td>\n",
       "      <td>13265</td>\n",
       "      <td>1196</td>\n",
       "      <td>4221</td>\n",
       "      <td>6404</td>\n",
       "      <td>507</td>\n",
       "      <td>1788</td>\n",
       "      <td>0</td>\n",
       "    </tr>\n",
       "    <tr>\n",
       "      <th>5</th>\n",
       "      <td>Retail</td>\n",
       "      <td>Other</td>\n",
       "      <td>9413</td>\n",
       "      <td>8259</td>\n",
       "      <td>5126</td>\n",
       "      <td>666</td>\n",
       "      <td>1795</td>\n",
       "      <td>1451</td>\n",
       "      <td>0</td>\n",
       "    </tr>\n",
       "    <tr>\n",
       "      <th>6</th>\n",
       "      <td>Retail</td>\n",
       "      <td>Other</td>\n",
       "      <td>12126</td>\n",
       "      <td>3199</td>\n",
       "      <td>6975</td>\n",
       "      <td>480</td>\n",
       "      <td>3140</td>\n",
       "      <td>545</td>\n",
       "      <td>0</td>\n",
       "    </tr>\n",
       "    <tr>\n",
       "      <th>7</th>\n",
       "      <td>Retail</td>\n",
       "      <td>Other</td>\n",
       "      <td>7579</td>\n",
       "      <td>4956</td>\n",
       "      <td>9426</td>\n",
       "      <td>1669</td>\n",
       "      <td>3321</td>\n",
       "      <td>2566</td>\n",
       "      <td>0</td>\n",
       "    </tr>\n",
       "    <tr>\n",
       "      <th>8</th>\n",
       "      <td>Horeca</td>\n",
       "      <td>Other</td>\n",
       "      <td>5963</td>\n",
       "      <td>3648</td>\n",
       "      <td>6192</td>\n",
       "      <td>425</td>\n",
       "      <td>1716</td>\n",
       "      <td>750</td>\n",
       "      <td>0</td>\n",
       "    </tr>\n",
       "    <tr>\n",
       "      <th>11</th>\n",
       "      <td>Retail</td>\n",
       "      <td>Other</td>\n",
       "      <td>13146</td>\n",
       "      <td>1124</td>\n",
       "      <td>4523</td>\n",
       "      <td>1420</td>\n",
       "      <td>549</td>\n",
       "      <td>497</td>\n",
       "      <td>0</td>\n",
       "    </tr>\n",
       "    <tr>\n",
       "      <th>15</th>\n",
       "      <td>Horeca</td>\n",
       "      <td>Other</td>\n",
       "      <td>10253</td>\n",
       "      <td>1114</td>\n",
       "      <td>3821</td>\n",
       "      <td>397</td>\n",
       "      <td>964</td>\n",
       "      <td>412</td>\n",
       "      <td>0</td>\n",
       "    </tr>\n",
       "    <tr>\n",
       "      <th>18</th>\n",
       "      <td>Retail</td>\n",
       "      <td>Other</td>\n",
       "      <td>18601</td>\n",
       "      <td>6327</td>\n",
       "      <td>10099</td>\n",
       "      <td>2205</td>\n",
       "      <td>2767</td>\n",
       "      <td>3181</td>\n",
       "      <td>0</td>\n",
       "    </tr>\n",
       "    <tr>\n",
       "      <th>19</th>\n",
       "      <td>Horeca</td>\n",
       "      <td>Other</td>\n",
       "      <td>7780</td>\n",
       "      <td>2495</td>\n",
       "      <td>9464</td>\n",
       "      <td>669</td>\n",
       "      <td>2518</td>\n",
       "      <td>501</td>\n",
       "      <td>0</td>\n",
       "    </tr>\n",
       "    <tr>\n",
       "      <th>20</th>\n",
       "      <td>Retail</td>\n",
       "      <td>Other</td>\n",
       "      <td>17546</td>\n",
       "      <td>4519</td>\n",
       "      <td>4602</td>\n",
       "      <td>1066</td>\n",
       "      <td>2259</td>\n",
       "      <td>2124</td>\n",
       "      <td>0</td>\n",
       "    </tr>\n",
       "    <tr>\n",
       "      <th>21</th>\n",
       "      <td>Horeca</td>\n",
       "      <td>Other</td>\n",
       "      <td>5567</td>\n",
       "      <td>871</td>\n",
       "      <td>2010</td>\n",
       "      <td>3383</td>\n",
       "      <td>375</td>\n",
       "      <td>569</td>\n",
       "      <td>0</td>\n",
       "    </tr>\n",
       "    <tr>\n",
       "      <th>25</th>\n",
       "      <td>Retail</td>\n",
       "      <td>Other</td>\n",
       "      <td>16165</td>\n",
       "      <td>4230</td>\n",
       "      <td>7595</td>\n",
       "      <td>201</td>\n",
       "      <td>4003</td>\n",
       "      <td>57</td>\n",
       "      <td>0</td>\n",
       "    </tr>\n",
       "    <tr>\n",
       "      <th>26</th>\n",
       "      <td>Horeca</td>\n",
       "      <td>Other</td>\n",
       "      <td>9898</td>\n",
       "      <td>961</td>\n",
       "      <td>2861</td>\n",
       "      <td>3151</td>\n",
       "      <td>242</td>\n",
       "      <td>833</td>\n",
       "      <td>0</td>\n",
       "    </tr>\n",
       "    <tr>\n",
       "      <th>27</th>\n",
       "      <td>Horeca</td>\n",
       "      <td>Other</td>\n",
       "      <td>14276</td>\n",
       "      <td>803</td>\n",
       "      <td>3045</td>\n",
       "      <td>485</td>\n",
       "      <td>100</td>\n",
       "      <td>518</td>\n",
       "      <td>0</td>\n",
       "    </tr>\n",
       "    <tr>\n",
       "      <th>30</th>\n",
       "      <td>Horeca</td>\n",
       "      <td>Other</td>\n",
       "      <td>18815</td>\n",
       "      <td>3610</td>\n",
       "      <td>11107</td>\n",
       "      <td>1148</td>\n",
       "      <td>2134</td>\n",
       "      <td>2963</td>\n",
       "      <td>0</td>\n",
       "    </tr>\n",
       "    <tr>\n",
       "      <th>31</th>\n",
       "      <td>Horeca</td>\n",
       "      <td>Other</td>\n",
       "      <td>2612</td>\n",
       "      <td>4339</td>\n",
       "      <td>3133</td>\n",
       "      <td>2088</td>\n",
       "      <td>820</td>\n",
       "      <td>985</td>\n",
       "      <td>0</td>\n",
       "    </tr>\n",
       "    <tr>\n",
       "      <th>32</th>\n",
       "      <td>Horeca</td>\n",
       "      <td>Other</td>\n",
       "      <td>21632</td>\n",
       "      <td>1318</td>\n",
       "      <td>2886</td>\n",
       "      <td>266</td>\n",
       "      <td>918</td>\n",
       "      <td>405</td>\n",
       "      <td>0</td>\n",
       "    </tr>\n",
       "    <tr>\n",
       "      <th>34</th>\n",
       "      <td>Horeca</td>\n",
       "      <td>Other</td>\n",
       "      <td>1502</td>\n",
       "      <td>1979</td>\n",
       "      <td>2262</td>\n",
       "      <td>425</td>\n",
       "      <td>483</td>\n",
       "      <td>395</td>\n",
       "      <td>0</td>\n",
       "    </tr>\n",
       "    <tr>\n",
       "      <th>41</th>\n",
       "      <td>Horeca</td>\n",
       "      <td>Other</td>\n",
       "      <td>19176</td>\n",
       "      <td>3065</td>\n",
       "      <td>5956</td>\n",
       "      <td>2033</td>\n",
       "      <td>2575</td>\n",
       "      <td>2802</td>\n",
       "      <td>0</td>\n",
       "    </tr>\n",
       "    <tr>\n",
       "      <th>48</th>\n",
       "      <td>Retail</td>\n",
       "      <td>Other</td>\n",
       "      <td>11519</td>\n",
       "      <td>6152</td>\n",
       "      <td>10868</td>\n",
       "      <td>584</td>\n",
       "      <td>5121</td>\n",
       "      <td>1476</td>\n",
       "      <td>0</td>\n",
       "    </tr>\n",
       "    <tr>\n",
       "      <th>50</th>\n",
       "      <td>Horeca</td>\n",
       "      <td>Other</td>\n",
       "      <td>6269</td>\n",
       "      <td>1095</td>\n",
       "      <td>1980</td>\n",
       "      <td>3860</td>\n",
       "      <td>609</td>\n",
       "      <td>2162</td>\n",
       "      <td>0</td>\n",
       "    </tr>\n",
       "    <tr>\n",
       "      <th>51</th>\n",
       "      <td>Horeca</td>\n",
       "      <td>Other</td>\n",
       "      <td>3347</td>\n",
       "      <td>4051</td>\n",
       "      <td>6996</td>\n",
       "      <td>239</td>\n",
       "      <td>1538</td>\n",
       "      <td>301</td>\n",
       "      <td>0</td>\n",
       "    </tr>\n",
       "    <tr>\n",
       "      <th>55</th>\n",
       "      <td>Horeca</td>\n",
       "      <td>Other</td>\n",
       "      <td>5264</td>\n",
       "      <td>3683</td>\n",
       "      <td>5005</td>\n",
       "      <td>1057</td>\n",
       "      <td>2024</td>\n",
       "      <td>1130</td>\n",
       "      <td>0</td>\n",
       "    </tr>\n",
       "    <tr>\n",
       "      <th>58</th>\n",
       "      <td>Horeca</td>\n",
       "      <td>Other</td>\n",
       "      <td>13779</td>\n",
       "      <td>1970</td>\n",
       "      <td>1648</td>\n",
       "      <td>596</td>\n",
       "      <td>227</td>\n",
       "      <td>436</td>\n",
       "      <td>0</td>\n",
       "    </tr>\n",
       "    <tr>\n",
       "      <th>59</th>\n",
       "      <td>Horeca</td>\n",
       "      <td>Other</td>\n",
       "      <td>6137</td>\n",
       "      <td>5360</td>\n",
       "      <td>8040</td>\n",
       "      <td>129</td>\n",
       "      <td>3084</td>\n",
       "      <td>1603</td>\n",
       "      <td>0</td>\n",
       "    </tr>\n",
       "    <tr>\n",
       "      <th>60</th>\n",
       "      <td>Retail</td>\n",
       "      <td>Other</td>\n",
       "      <td>8590</td>\n",
       "      <td>3045</td>\n",
       "      <td>7854</td>\n",
       "      <td>96</td>\n",
       "      <td>4095</td>\n",
       "      <td>225</td>\n",
       "      <td>0</td>\n",
       "    </tr>\n",
       "    <tr>\n",
       "      <th>62</th>\n",
       "      <td>Retail</td>\n",
       "      <td>Other</td>\n",
       "      <td>7823</td>\n",
       "      <td>6245</td>\n",
       "      <td>6544</td>\n",
       "      <td>4154</td>\n",
       "      <td>4074</td>\n",
       "      <td>964</td>\n",
       "      <td>0</td>\n",
       "    </tr>\n",
       "    <tr>\n",
       "      <th>64</th>\n",
       "      <td>Horeca</td>\n",
       "      <td>Other</td>\n",
       "      <td>4760</td>\n",
       "      <td>1227</td>\n",
       "      <td>3250</td>\n",
       "      <td>3724</td>\n",
       "      <td>1247</td>\n",
       "      <td>1145</td>\n",
       "      <td>0</td>\n",
       "    </tr>\n",
       "    <tr>\n",
       "      <th>66</th>\n",
       "      <td>Horeca</td>\n",
       "      <td>Other</td>\n",
       "      <td>9</td>\n",
       "      <td>1534</td>\n",
       "      <td>7417</td>\n",
       "      <td>175</td>\n",
       "      <td>3468</td>\n",
       "      <td>27</td>\n",
       "      <td>0</td>\n",
       "    </tr>\n",
       "    <tr>\n",
       "      <th>...</th>\n",
       "      <td>...</td>\n",
       "      <td>...</td>\n",
       "      <td>...</td>\n",
       "      <td>...</td>\n",
       "      <td>...</td>\n",
       "      <td>...</td>\n",
       "      <td>...</td>\n",
       "      <td>...</td>\n",
       "      <td>...</td>\n",
       "    </tr>\n",
       "    <tr>\n",
       "      <th>389</th>\n",
       "      <td>Horeca</td>\n",
       "      <td>Other</td>\n",
       "      <td>9385</td>\n",
       "      <td>1530</td>\n",
       "      <td>1422</td>\n",
       "      <td>3019</td>\n",
       "      <td>227</td>\n",
       "      <td>684</td>\n",
       "      <td>0</td>\n",
       "    </tr>\n",
       "    <tr>\n",
       "      <th>390</th>\n",
       "      <td>Horeca</td>\n",
       "      <td>Other</td>\n",
       "      <td>3352</td>\n",
       "      <td>1181</td>\n",
       "      <td>1328</td>\n",
       "      <td>5502</td>\n",
       "      <td>311</td>\n",
       "      <td>1000</td>\n",
       "      <td>0</td>\n",
       "    </tr>\n",
       "    <tr>\n",
       "      <th>391</th>\n",
       "      <td>Horeca</td>\n",
       "      <td>Other</td>\n",
       "      <td>2647</td>\n",
       "      <td>2761</td>\n",
       "      <td>2313</td>\n",
       "      <td>907</td>\n",
       "      <td>95</td>\n",
       "      <td>1827</td>\n",
       "      <td>0</td>\n",
       "    </tr>\n",
       "    <tr>\n",
       "      <th>392</th>\n",
       "      <td>Horeca</td>\n",
       "      <td>Other</td>\n",
       "      <td>518</td>\n",
       "      <td>4180</td>\n",
       "      <td>3600</td>\n",
       "      <td>659</td>\n",
       "      <td>122</td>\n",
       "      <td>654</td>\n",
       "      <td>0</td>\n",
       "    </tr>\n",
       "    <tr>\n",
       "      <th>394</th>\n",
       "      <td>Horeca</td>\n",
       "      <td>Other</td>\n",
       "      <td>12377</td>\n",
       "      <td>865</td>\n",
       "      <td>3204</td>\n",
       "      <td>1398</td>\n",
       "      <td>149</td>\n",
       "      <td>452</td>\n",
       "      <td>0</td>\n",
       "    </tr>\n",
       "    <tr>\n",
       "      <th>395</th>\n",
       "      <td>Horeca</td>\n",
       "      <td>Other</td>\n",
       "      <td>9602</td>\n",
       "      <td>1316</td>\n",
       "      <td>1263</td>\n",
       "      <td>2921</td>\n",
       "      <td>841</td>\n",
       "      <td>290</td>\n",
       "      <td>0</td>\n",
       "    </tr>\n",
       "    <tr>\n",
       "      <th>397</th>\n",
       "      <td>Horeca</td>\n",
       "      <td>Other</td>\n",
       "      <td>11535</td>\n",
       "      <td>1666</td>\n",
       "      <td>1428</td>\n",
       "      <td>6838</td>\n",
       "      <td>64</td>\n",
       "      <td>743</td>\n",
       "      <td>0</td>\n",
       "    </tr>\n",
       "    <tr>\n",
       "      <th>398</th>\n",
       "      <td>Horeca</td>\n",
       "      <td>Other</td>\n",
       "      <td>11442</td>\n",
       "      <td>1032</td>\n",
       "      <td>582</td>\n",
       "      <td>5390</td>\n",
       "      <td>74</td>\n",
       "      <td>247</td>\n",
       "      <td>0</td>\n",
       "    </tr>\n",
       "    <tr>\n",
       "      <th>399</th>\n",
       "      <td>Horeca</td>\n",
       "      <td>Other</td>\n",
       "      <td>9612</td>\n",
       "      <td>577</td>\n",
       "      <td>935</td>\n",
       "      <td>1601</td>\n",
       "      <td>469</td>\n",
       "      <td>375</td>\n",
       "      <td>0</td>\n",
       "    </tr>\n",
       "    <tr>\n",
       "      <th>400</th>\n",
       "      <td>Horeca</td>\n",
       "      <td>Other</td>\n",
       "      <td>4446</td>\n",
       "      <td>906</td>\n",
       "      <td>1238</td>\n",
       "      <td>3576</td>\n",
       "      <td>153</td>\n",
       "      <td>1014</td>\n",
       "      <td>0</td>\n",
       "    </tr>\n",
       "    <tr>\n",
       "      <th>404</th>\n",
       "      <td>Horeca</td>\n",
       "      <td>Other</td>\n",
       "      <td>18073</td>\n",
       "      <td>4613</td>\n",
       "      <td>3444</td>\n",
       "      <td>4324</td>\n",
       "      <td>914</td>\n",
       "      <td>715</td>\n",
       "      <td>0</td>\n",
       "    </tr>\n",
       "    <tr>\n",
       "      <th>405</th>\n",
       "      <td>Horeca</td>\n",
       "      <td>Other</td>\n",
       "      <td>6884</td>\n",
       "      <td>1046</td>\n",
       "      <td>1167</td>\n",
       "      <td>2069</td>\n",
       "      <td>593</td>\n",
       "      <td>378</td>\n",
       "      <td>0</td>\n",
       "    </tr>\n",
       "    <tr>\n",
       "      <th>408</th>\n",
       "      <td>Retail</td>\n",
       "      <td>Other</td>\n",
       "      <td>8257</td>\n",
       "      <td>3880</td>\n",
       "      <td>6407</td>\n",
       "      <td>1646</td>\n",
       "      <td>2730</td>\n",
       "      <td>344</td>\n",
       "      <td>0</td>\n",
       "    </tr>\n",
       "    <tr>\n",
       "      <th>410</th>\n",
       "      <td>Horeca</td>\n",
       "      <td>Other</td>\n",
       "      <td>6633</td>\n",
       "      <td>2096</td>\n",
       "      <td>4563</td>\n",
       "      <td>1389</td>\n",
       "      <td>1860</td>\n",
       "      <td>1892</td>\n",
       "      <td>0</td>\n",
       "    </tr>\n",
       "    <tr>\n",
       "      <th>413</th>\n",
       "      <td>Horeca</td>\n",
       "      <td>Other</td>\n",
       "      <td>4983</td>\n",
       "      <td>4859</td>\n",
       "      <td>6633</td>\n",
       "      <td>17866</td>\n",
       "      <td>912</td>\n",
       "      <td>2435</td>\n",
       "      <td>0</td>\n",
       "    </tr>\n",
       "    <tr>\n",
       "      <th>414</th>\n",
       "      <td>Horeca</td>\n",
       "      <td>Other</td>\n",
       "      <td>5969</td>\n",
       "      <td>1990</td>\n",
       "      <td>3417</td>\n",
       "      <td>5679</td>\n",
       "      <td>1135</td>\n",
       "      <td>290</td>\n",
       "      <td>0</td>\n",
       "    </tr>\n",
       "    <tr>\n",
       "      <th>415</th>\n",
       "      <td>Retail</td>\n",
       "      <td>Other</td>\n",
       "      <td>7842</td>\n",
       "      <td>6046</td>\n",
       "      <td>8552</td>\n",
       "      <td>1691</td>\n",
       "      <td>3540</td>\n",
       "      <td>1874</td>\n",
       "      <td>0</td>\n",
       "    </tr>\n",
       "    <tr>\n",
       "      <th>419</th>\n",
       "      <td>Horeca</td>\n",
       "      <td>Other</td>\n",
       "      <td>8861</td>\n",
       "      <td>3783</td>\n",
       "      <td>2223</td>\n",
       "      <td>633</td>\n",
       "      <td>1580</td>\n",
       "      <td>1521</td>\n",
       "      <td>0</td>\n",
       "    </tr>\n",
       "    <tr>\n",
       "      <th>421</th>\n",
       "      <td>Retail</td>\n",
       "      <td>Other</td>\n",
       "      <td>17063</td>\n",
       "      <td>4847</td>\n",
       "      <td>9053</td>\n",
       "      <td>1031</td>\n",
       "      <td>3415</td>\n",
       "      <td>1784</td>\n",
       "      <td>0</td>\n",
       "    </tr>\n",
       "    <tr>\n",
       "      <th>423</th>\n",
       "      <td>Retail</td>\n",
       "      <td>Other</td>\n",
       "      <td>17565</td>\n",
       "      <td>3686</td>\n",
       "      <td>4657</td>\n",
       "      <td>1059</td>\n",
       "      <td>1803</td>\n",
       "      <td>668</td>\n",
       "      <td>0</td>\n",
       "    </tr>\n",
       "    <tr>\n",
       "      <th>424</th>\n",
       "      <td>Retail</td>\n",
       "      <td>Other</td>\n",
       "      <td>16980</td>\n",
       "      <td>2884</td>\n",
       "      <td>12232</td>\n",
       "      <td>874</td>\n",
       "      <td>3213</td>\n",
       "      <td>249</td>\n",
       "      <td>0</td>\n",
       "    </tr>\n",
       "    <tr>\n",
       "      <th>425</th>\n",
       "      <td>Horeca</td>\n",
       "      <td>Other</td>\n",
       "      <td>11243</td>\n",
       "      <td>2408</td>\n",
       "      <td>2593</td>\n",
       "      <td>15348</td>\n",
       "      <td>108</td>\n",
       "      <td>1886</td>\n",
       "      <td>0</td>\n",
       "    </tr>\n",
       "    <tr>\n",
       "      <th>428</th>\n",
       "      <td>Horeca</td>\n",
       "      <td>Other</td>\n",
       "      <td>3047</td>\n",
       "      <td>5970</td>\n",
       "      <td>4910</td>\n",
       "      <td>2198</td>\n",
       "      <td>850</td>\n",
       "      <td>317</td>\n",
       "      <td>0</td>\n",
       "    </tr>\n",
       "    <tr>\n",
       "      <th>429</th>\n",
       "      <td>Horeca</td>\n",
       "      <td>Other</td>\n",
       "      <td>8607</td>\n",
       "      <td>1750</td>\n",
       "      <td>3580</td>\n",
       "      <td>47</td>\n",
       "      <td>84</td>\n",
       "      <td>2501</td>\n",
       "      <td>0</td>\n",
       "    </tr>\n",
       "    <tr>\n",
       "      <th>431</th>\n",
       "      <td>Horeca</td>\n",
       "      <td>Other</td>\n",
       "      <td>8533</td>\n",
       "      <td>5506</td>\n",
       "      <td>5160</td>\n",
       "      <td>13486</td>\n",
       "      <td>1377</td>\n",
       "      <td>1498</td>\n",
       "      <td>0</td>\n",
       "    </tr>\n",
       "    <tr>\n",
       "      <th>432</th>\n",
       "      <td>Horeca</td>\n",
       "      <td>Other</td>\n",
       "      <td>21117</td>\n",
       "      <td>1162</td>\n",
       "      <td>4754</td>\n",
       "      <td>269</td>\n",
       "      <td>1328</td>\n",
       "      <td>395</td>\n",
       "      <td>0</td>\n",
       "    </tr>\n",
       "    <tr>\n",
       "      <th>433</th>\n",
       "      <td>Horeca</td>\n",
       "      <td>Other</td>\n",
       "      <td>1982</td>\n",
       "      <td>3218</td>\n",
       "      <td>1493</td>\n",
       "      <td>1541</td>\n",
       "      <td>356</td>\n",
       "      <td>1449</td>\n",
       "      <td>0</td>\n",
       "    </tr>\n",
       "    <tr>\n",
       "      <th>434</th>\n",
       "      <td>Horeca</td>\n",
       "      <td>Other</td>\n",
       "      <td>16731</td>\n",
       "      <td>3922</td>\n",
       "      <td>7994</td>\n",
       "      <td>688</td>\n",
       "      <td>2371</td>\n",
       "      <td>838</td>\n",
       "      <td>0</td>\n",
       "    </tr>\n",
       "    <tr>\n",
       "      <th>438</th>\n",
       "      <td>Horeca</td>\n",
       "      <td>Other</td>\n",
       "      <td>10290</td>\n",
       "      <td>1981</td>\n",
       "      <td>2232</td>\n",
       "      <td>1038</td>\n",
       "      <td>168</td>\n",
       "      <td>2125</td>\n",
       "      <td>0</td>\n",
       "    </tr>\n",
       "    <tr>\n",
       "      <th>439</th>\n",
       "      <td>Horeca</td>\n",
       "      <td>Other</td>\n",
       "      <td>2787</td>\n",
       "      <td>1698</td>\n",
       "      <td>2510</td>\n",
       "      <td>65</td>\n",
       "      <td>477</td>\n",
       "      <td>52</td>\n",
       "      <td>0</td>\n",
       "    </tr>\n",
       "  </tbody>\n",
       "</table>\n",
       "<p>268 rows × 9 columns</p>\n",
       "</div>"
      ],
      "text/plain": [
       "    Channel Region  Fresh  Milk  Grocery  Frozen  Detergents_Paper  \\\n",
       "0    Retail  Other  12669  9656     7561     214              2674   \n",
       "3    Horeca  Other  13265  1196     4221    6404               507   \n",
       "5    Retail  Other   9413  8259     5126     666              1795   \n",
       "6    Retail  Other  12126  3199     6975     480              3140   \n",
       "7    Retail  Other   7579  4956     9426    1669              3321   \n",
       "8    Horeca  Other   5963  3648     6192     425              1716   \n",
       "11   Retail  Other  13146  1124     4523    1420               549   \n",
       "15   Horeca  Other  10253  1114     3821     397               964   \n",
       "18   Retail  Other  18601  6327    10099    2205              2767   \n",
       "19   Horeca  Other   7780  2495     9464     669              2518   \n",
       "20   Retail  Other  17546  4519     4602    1066              2259   \n",
       "21   Horeca  Other   5567   871     2010    3383               375   \n",
       "25   Retail  Other  16165  4230     7595     201              4003   \n",
       "26   Horeca  Other   9898   961     2861    3151               242   \n",
       "27   Horeca  Other  14276   803     3045     485               100   \n",
       "30   Horeca  Other  18815  3610    11107    1148              2134   \n",
       "31   Horeca  Other   2612  4339     3133    2088               820   \n",
       "32   Horeca  Other  21632  1318     2886     266               918   \n",
       "34   Horeca  Other   1502  1979     2262     425               483   \n",
       "41   Horeca  Other  19176  3065     5956    2033              2575   \n",
       "48   Retail  Other  11519  6152    10868     584              5121   \n",
       "50   Horeca  Other   6269  1095     1980    3860               609   \n",
       "51   Horeca  Other   3347  4051     6996     239              1538   \n",
       "55   Horeca  Other   5264  3683     5005    1057              2024   \n",
       "58   Horeca  Other  13779  1970     1648     596               227   \n",
       "59   Horeca  Other   6137  5360     8040     129              3084   \n",
       "60   Retail  Other   8590  3045     7854      96              4095   \n",
       "62   Retail  Other   7823  6245     6544    4154              4074   \n",
       "64   Horeca  Other   4760  1227     3250    3724              1247   \n",
       "66   Horeca  Other      9  1534     7417     175              3468   \n",
       "..      ...    ...    ...   ...      ...     ...               ...   \n",
       "389  Horeca  Other   9385  1530     1422    3019               227   \n",
       "390  Horeca  Other   3352  1181     1328    5502               311   \n",
       "391  Horeca  Other   2647  2761     2313     907                95   \n",
       "392  Horeca  Other    518  4180     3600     659               122   \n",
       "394  Horeca  Other  12377   865     3204    1398               149   \n",
       "395  Horeca  Other   9602  1316     1263    2921               841   \n",
       "397  Horeca  Other  11535  1666     1428    6838                64   \n",
       "398  Horeca  Other  11442  1032      582    5390                74   \n",
       "399  Horeca  Other   9612   577      935    1601               469   \n",
       "400  Horeca  Other   4446   906     1238    3576               153   \n",
       "404  Horeca  Other  18073  4613     3444    4324               914   \n",
       "405  Horeca  Other   6884  1046     1167    2069               593   \n",
       "408  Retail  Other   8257  3880     6407    1646              2730   \n",
       "410  Horeca  Other   6633  2096     4563    1389              1860   \n",
       "413  Horeca  Other   4983  4859     6633   17866               912   \n",
       "414  Horeca  Other   5969  1990     3417    5679              1135   \n",
       "415  Retail  Other   7842  6046     8552    1691              3540   \n",
       "419  Horeca  Other   8861  3783     2223     633              1580   \n",
       "421  Retail  Other  17063  4847     9053    1031              3415   \n",
       "423  Retail  Other  17565  3686     4657    1059              1803   \n",
       "424  Retail  Other  16980  2884    12232     874              3213   \n",
       "425  Horeca  Other  11243  2408     2593   15348               108   \n",
       "428  Horeca  Other   3047  5970     4910    2198               850   \n",
       "429  Horeca  Other   8607  1750     3580      47                84   \n",
       "431  Horeca  Other   8533  5506     5160   13486              1377   \n",
       "432  Horeca  Other  21117  1162     4754     269              1328   \n",
       "433  Horeca  Other   1982  3218     1493    1541               356   \n",
       "434  Horeca  Other  16731  3922     7994     688              2371   \n",
       "438  Horeca  Other  10290  1981     2232    1038               168   \n",
       "439  Horeca  Other   2787  1698     2510      65               477   \n",
       "\n",
       "     Delicassen  clusters  \n",
       "0          1338         0  \n",
       "3          1788         0  \n",
       "5          1451         0  \n",
       "6           545         0  \n",
       "7          2566         0  \n",
       "8           750         0  \n",
       "11          497         0  \n",
       "15          412         0  \n",
       "18         3181         0  \n",
       "19          501         0  \n",
       "20         2124         0  \n",
       "21          569         0  \n",
       "25           57         0  \n",
       "26          833         0  \n",
       "27          518         0  \n",
       "30         2963         0  \n",
       "31          985         0  \n",
       "32          405         0  \n",
       "34          395         0  \n",
       "41         2802         0  \n",
       "48         1476         0  \n",
       "50         2162         0  \n",
       "51          301         0  \n",
       "55         1130         0  \n",
       "58          436         0  \n",
       "59         1603         0  \n",
       "60          225         0  \n",
       "62          964         0  \n",
       "64         1145         0  \n",
       "66           27         0  \n",
       "..          ...       ...  \n",
       "389         684         0  \n",
       "390        1000         0  \n",
       "391        1827         0  \n",
       "392         654         0  \n",
       "394         452         0  \n",
       "395         290         0  \n",
       "397         743         0  \n",
       "398         247         0  \n",
       "399         375         0  \n",
       "400        1014         0  \n",
       "404         715         0  \n",
       "405         378         0  \n",
       "408         344         0  \n",
       "410        1892         0  \n",
       "413        2435         0  \n",
       "414         290         0  \n",
       "415        1874         0  \n",
       "419        1521         0  \n",
       "421        1784         0  \n",
       "423         668         0  \n",
       "424         249         0  \n",
       "425        1886         0  \n",
       "428         317         0  \n",
       "429        2501         0  \n",
       "431        1498         0  \n",
       "432         395         0  \n",
       "433        1449         0  \n",
       "434         838         0  \n",
       "438        2125         0  \n",
       "439          52         0  \n",
       "\n",
       "[268 rows x 9 columns]"
      ]
     },
     "execution_count": 755,
     "metadata": {},
     "output_type": "execute_result"
    }
   ],
   "source": [
    "cust_pred[cust_pred['clusters'] == 0] #subset = braket"
   ]
  },
  {
   "cell_type": "code",
   "execution_count": 756,
   "metadata": {
    "slideshow": {
     "slide_type": "skip"
    }
   },
   "outputs": [
    {
     "data": {
      "text/html": [
       "<div>\n",
       "<style scoped>\n",
       "    .dataframe tbody tr th:only-of-type {\n",
       "        vertical-align: middle;\n",
       "    }\n",
       "\n",
       "    .dataframe tbody tr th {\n",
       "        vertical-align: top;\n",
       "    }\n",
       "\n",
       "    .dataframe thead th {\n",
       "        text-align: right;\n",
       "    }\n",
       "</style>\n",
       "<table border=\"1\" class=\"dataframe\">\n",
       "  <thead>\n",
       "    <tr style=\"text-align: right;\">\n",
       "      <th></th>\n",
       "      <th>Channel</th>\n",
       "      <th>Region</th>\n",
       "      <th>Fresh</th>\n",
       "      <th>Milk</th>\n",
       "      <th>Grocery</th>\n",
       "      <th>Frozen</th>\n",
       "      <th>Detergents_Paper</th>\n",
       "      <th>Delicassen</th>\n",
       "      <th>clusters</th>\n",
       "    </tr>\n",
       "  </thead>\n",
       "  <tbody>\n",
       "    <tr>\n",
       "      <th>311</th>\n",
       "      <td>Horeca</td>\n",
       "      <td>Porto</td>\n",
       "      <td>29635</td>\n",
       "      <td>2335</td>\n",
       "      <td>8280</td>\n",
       "      <td>3046</td>\n",
       "      <td>371</td>\n",
       "      <td>117</td>\n",
       "      <td>2</td>\n",
       "    </tr>\n",
       "    <tr>\n",
       "      <th>324</th>\n",
       "      <td>Horeca</td>\n",
       "      <td>Porto</td>\n",
       "      <td>25977</td>\n",
       "      <td>3587</td>\n",
       "      <td>2464</td>\n",
       "      <td>2369</td>\n",
       "      <td>140</td>\n",
       "      <td>1092</td>\n",
       "      <td>2</td>\n",
       "    </tr>\n",
       "    <tr>\n",
       "      <th>335</th>\n",
       "      <td>Retail</td>\n",
       "      <td>Porto</td>\n",
       "      <td>27082</td>\n",
       "      <td>6817</td>\n",
       "      <td>10790</td>\n",
       "      <td>1365</td>\n",
       "      <td>4111</td>\n",
       "      <td>2139</td>\n",
       "      <td>2</td>\n",
       "    </tr>\n",
       "  </tbody>\n",
       "</table>\n",
       "</div>"
      ],
      "text/plain": [
       "    Channel Region  Fresh  Milk  Grocery  Frozen  Detergents_Paper  \\\n",
       "311  Horeca  Porto  29635  2335     8280    3046               371   \n",
       "324  Horeca  Porto  25977  3587     2464    2369               140   \n",
       "335  Retail  Porto  27082  6817    10790    1365              4111   \n",
       "\n",
       "     Delicassen  clusters  \n",
       "311         117         2  \n",
       "324        1092         2  \n",
       "335        2139         2  "
      ]
     },
     "execution_count": 756,
     "metadata": {},
     "output_type": "execute_result"
    }
   ],
   "source": [
    "cust_pred[(cust_pred['clusters'] == 2)&(cust_pred['Region'] == 'Porto')]#subset = brakets"
   ]
  },
  {
   "cell_type": "code",
   "execution_count": 757,
   "metadata": {
    "scrolled": false,
    "slideshow": {
     "slide_type": "subslide"
    }
   },
   "outputs": [
    {
     "data": {
      "image/png": "[encoded data removed]",
      "text/plain": [
       "<Figure size 1080x720 with 6 Axes>"
      ]
     },
     "metadata": {
      "needs_background": "light"
     },
     "output_type": "display_data"
    }
   ],
   "source": [
    "fig,axs = plt.subplots(nrows=3,ncols=2,figsize=(15, 10))\n",
    "x = cust_pred.clusters\n",
    "a = cust_pred.Fresh\n",
    "b = cust_pred.Milk\n",
    "c = cust_pred.Grocery\n",
    "d = cust_pred.Frozen\n",
    "e = cust_pred.Detergents_Paper\n",
    "f = cust_pred.Delicassen\n",
    "axs[0, 0].bar(x,a)\n",
    "axs[0, 0].set_title('Fresh',fontsize=16)\n",
    "axs[0, 0].set_xticklabels([' ',' ','0',' ','1',' ','2',' ','3'])\n",
    "axs[0, 1].bar(x,b)\n",
    "axs[0, 1].set_title('Milk',fontsize=16)\n",
    "axs[0, 1].set_xticklabels([' ',' ','0',' ','1',' ','2',' ','3'])\n",
    "axs[1, 0].bar(x,c)\n",
    "axs[1, 0].set_title('Grocery',fontsize=16)\n",
    "axs[1, 0].set_xticklabels([' ',' ','0',' ','1',' ','2',' ','3'])\n",
    "axs[1, 1].bar(x,d)\n",
    "axs[1, 1].set_title('Frozen',fontsize=16)\n",
    "axs[1, 1].set_xticklabels([' ',' ','0',' ','1',' ','2',' ','3'])\n",
    "axs[2, 0].bar(x,e)\n",
    "axs[2, 0].set_title('Detergents_Paper',fontsize=16)\n",
    "axs[2, 0].set_xticklabels([' ',' ','0',' ','1',' ','2',' ','3'])\n",
    "axs[2, 1].bar(x,f)\n",
    "axs[2, 1].set_title('Delicassen',fontsize=16)\n",
    "axs[2, 1].set_xticklabels([' ',' ','0',' ','1',' ','2',' ','3'])\n",
    "plt.show()"
   ]
  },
  {
   "cell_type": "code",
   "execution_count": 759,
   "metadata": {
    "slideshow": {
     "slide_type": "skip"
    }
   },
   "outputs": [
    {
     "data": {
      "image/png": "[encoded data removed]",
      "text/plain": [
       "<Figure size 720x504 with 1 Axes>"
      ]
     },
     "metadata": {
      "needs_background": "light"
     },
     "output_type": "display_data"
    }
   ],
   "source": [
    "fig, ax = plt.subplots(figsize=(10, 7))\n",
    "ax = sns.countplot(x=\"clusters\", hue=\"Region\", data=cust_pred,palette=\"Set2\",\n",
    "                   order = df['Region'].value_counts().index)\n",
    "plt.title('Distribution between clusters for each Region',fontsize=16)\n",
    "#plt.xlabel('Region', fontsize=15)\n",
    "#plt.ylabel('Count',fontsize=15)\n",
    "#ax.set_xticklabels(['Other','Lisbon', 'Porto'])\n",
    "#plt.legend(['Horeca','Retail'])\n",
    "plt.show()"
   ]
  },
  {
   "cell_type": "code",
   "execution_count": 760,
   "metadata": {
    "slideshow": {
     "slide_type": "skip"
    }
   },
   "outputs": [
    {
     "data": {
      "image/png": "[encoded data removed]",
      "text/plain": [
       "<Figure size 720x504 with 1 Axes>"
      ]
     },
     "metadata": {
      "needs_background": "light"
     },
     "output_type": "display_data"
    }
   ],
   "source": [
    "fig, ax = plt.subplots(figsize=(10, 7))\n",
    "ax = sns.countplot(x=\"clusters\", hue=\"Channel\", data=cust_pred,palette=\"Set2\",\n",
    "                   order = df['Region'].value_counts().index)\n",
    "plt.title('Distribution between clusters for each Channel',fontsize=16)\n",
    "#plt.xlabel('Region', fontsize=15)\n",
    "#plt.ylabel('Count',fontsize=15)\n",
    "#ax.set_xticklabels(['Other','Lisbon', 'Porto'])\n",
    "#plt.legend(['Horeca','Retail'])\n",
    "plt.show()"
   ]
  },
  {
   "cell_type": "code",
   "execution_count": null,
   "metadata": {},
   "outputs": [],
   "source": []
  },
  {
   "cell_type": "markdown",
   "metadata": {
    "slideshow": {
     "slide_type": "subslide"
    }
   },
   "source": [
    "                                                    '''THE END'''\n",
    "                                                       🤓🙌🥳💃"
   ]
  }
 ],
 "metadata": {
  "celltoolbar": "Diaporama",
  "kernelspec": {
   "display_name": "Python 3",
   "language": "python",
   "name": "python3"
  },
  "language_info": {
   "codemirror_mode": {
    "name": "ipython",
    "version": 3
   },
   "file_extension": ".py",
   "mimetype": "text/x-python",
   "name": "python",
   "nbconvert_exporter": "python",
   "pygments_lexer": "ipython3",
   "version": "3.7.3"
  },
  "toc": {
   "base_numbering": 1,
   "nav_menu": {
    "height": "248px",
    "width": "602px"
   },
   "number_sections": true,
   "sideBar": true,
   "skip_h1_title": false,
   "title_cell": "Table of Contents",
   "title_sidebar": "Contents",
   "toc_cell": false,
   "toc_position": {},
   "toc_section_display": true,
   "toc_window_display": false
  }
 },
 "nbformat": 4,
 "nbformat_minor": 2
}
