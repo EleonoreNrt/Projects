{
 "cells": [
  {
   "cell_type": "markdown",
   "metadata": {},
   "source": [
    "# Meteorite Landings "
   ]
  },
  {
   "cell_type": "markdown",
   "metadata": {},
   "source": [
    "#### 1. Choose the topic"
   ]
  },
  {
   "cell_type": "markdown",
   "metadata": {},
   "source": [
    "Space"
   ]
  },
  {
   "cell_type": "markdown",
   "metadata": {},
   "source": [
    "#### 2. Find relevant data"
   ]
  },
  {
   "cell_type": "markdown",
   "metadata": {},
   "source": [
    "Meteorite Landings from NASA"
   ]
  },
  {
   "cell_type": "markdown",
   "metadata": {},
   "source": [
    "#### 3. Choose the questions, goals, hypotheses"
   ]
  },
  {
   "cell_type": "markdown",
   "metadata": {},
   "source": [
    "How does the geographical distribution of observed falls differ from that of found meteorites? \n",
    "\n",
    "H0 : there is no correlation "
   ]
  },
  {
   "cell_type": "markdown",
   "metadata": {},
   "source": [
    "Are there any geographical differences or differences over time in the class of meteorites that have fallen to Earth? Or over mass ? "
   ]
  },
  {
   "cell_type": "markdown",
   "metadata": {},
   "source": [
    "#### 4. Understand your data"
   ]
  },
  {
   "cell_type": "markdown",
   "metadata": {},
   "source": [
    "The Meteoritical Society collects data on meteorites that have fallen to Earth from outer space. \n",
    "\n",
    "This dataset includes the location, mass, composition, and fall year for over 45,000 meteorites that have struck our planet."
   ]
  },
  {
   "cell_type": "markdown",
   "metadata": {},
   "source": [
    "Note that a few column names start with \"rec\" (e.g., recclass, reclat, reclon). These are the recommended values of these variables, according to The Meteoritical Society. In some cases, there were historical reclassification of a meteorite, or small changes in the data on where it was recovered; this dataset gives the currently recommended values.\n",
    "\n",
    "The dataset contains the following variables:\n",
    "\n",
    "- name: the name of the meteorite (typically a location, often modified with a number, year, composition, etc)\n",
    "- id: a unique identifier for the meteorite\n",
    "- nametype: one of: \n",
    "    - valid: a typical meteorite \n",
    "    - relict: a meteorite that has been highly degraded by weather on Earth\n",
    "- recclass: the class of the meteorite; one of a large number of classes based on physical, chemical, and other characteristics (see the Wikipedia article on meteorite classification for a primer)\n",
    "- mass: the mass of the meteorite, in grams\n",
    "- fall: whether the meteorite was seen falling, or was discovered after its impact; one of: \n",
    "    - Fell: the meteorite's fall was observed \n",
    "    - Found: the meteorite's fall was not observed\n",
    "- year: the year the meteorite fell, or the year it was found (depending on the value of fell)\n",
    "- reclat: the latitude of the meteorite's landing\n",
    "- reclong: the longitude of the meteorite's landing\n",
    "- GeoLocation: a parentheses-enclose, comma-separated tuple that combines reclat and reclong\n"
   ]
  },
  {
   "cell_type": "markdown",
   "metadata": {},
   "source": [
    "#### 5. Clean the data"
   ]
  },
  {
   "cell_type": "markdown",
   "metadata": {},
   "source": [
    "- few entries here contain date information that was incorrectly parsed into the NASA database. As a spot check: any date that is before 860 CE or after 2016 are incorrect; these should actually be BCE years. There may be other errors and we are looking for a way to identify them.\n",
    "\n",
    "\n",
    "- few entries have latitude and longitude of 0N/0E (off the western coast of Africa, where it would be quite difficult to recover meteorites). Many of these were actually discovered in Antarctica, but exact coordinates were not given. 0N/0E locations should probably be treated as NA."
   ]
  },
  {
   "cell_type": "markdown",
   "metadata": {},
   "source": [
    "- name, id, : unique value\n",
    "- nametype, fall : 2 values, maybe keep just one ?\n",
    "- year : year>=860 & year<=2016\n",
    "- reclong : reclong<=180 & reclong>=-180 \n",
    "- 0N/0E locations : reclat!=0 | reclong!=0"
   ]
  },
  {
   "cell_type": "markdown",
   "metadata": {},
   "source": [
    "# 6. Descriptive stats and visualisation"
   ]
  },
  {
   "cell_type": "markdown",
   "metadata": {},
   "source": [
    "It seems a correlation between fall & year \n",
    "There is not enought data to answer to the first question, the geographical distribution is not significant.\n",
    "Analysis per year : many meteorites have found between 1950 & 2000 "
   ]
  },
  {
   "cell_type": "markdown",
   "metadata": {},
   "source": [
    "7. Do the analysis"
   ]
  },
  {
   "cell_type": "markdown",
   "metadata": {},
   "source": []
  },
  {
   "cell_type": "markdown",
   "metadata": {},
   "source": [
    "8. Model your data"
   ]
  },
  {
   "cell_type": "markdown",
   "metadata": {},
   "source": []
  },
  {
   "cell_type": "markdown",
   "metadata": {},
   "source": [
    "9. Realise your assuptions were wrong"
   ]
  },
  {
   "cell_type": "markdown",
   "metadata": {},
   "source": []
  },
  {
   "cell_type": "markdown",
   "metadata": {},
   "source": [
    "10. Build top-model"
   ]
  },
  {
   "cell_type": "markdown",
   "metadata": {},
   "source": []
  },
  {
   "cell_type": "markdown",
   "metadata": {},
   "source": [
    "11. Prepare proper description of what's done"
   ]
  },
  {
   "cell_type": "markdown",
   "metadata": {},
   "source": []
  },
  {
   "cell_type": "markdown",
   "metadata": {},
   "source": [
    "12. Get famous"
   ]
  },
  {
   "cell_type": "markdown",
   "metadata": {},
   "source": [
    "13. Get rich "
   ]
  },
  {
   "cell_type": "markdown",
   "metadata": {},
   "source": [
    "Instead of Slides.com think of creating a post on Medium.com"
   ]
  }
 ],
 "metadata": {
  "kernelspec": {
   "display_name": "Python 3",
   "language": "python",
   "name": "python3"
  },
  "language_info": {
   "codemirror_mode": {
    "name": "ipython",
    "version": 3
   },
   "file_extension": ".py",
   "mimetype": "text/x-python",
   "name": "python",
   "nbconvert_exporter": "python",
   "pygments_lexer": "ipython3",
   "version": "3.7.0"
  }
 },
 "nbformat": 4,
 "nbformat_minor": 2
}
